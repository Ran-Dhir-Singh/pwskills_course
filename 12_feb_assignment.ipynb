{
 "cells": [
  {
   "cell_type": "markdown",
   "id": "bb3ec2ae",
   "metadata": {},
   "source": [
    "### Q1. What is an Exception in python? Write the difference between Exceptions and syntax errors\n",
    "\n",
    "In Python, an `exception` is an error that occurs during the execution of a program. When an exception is encountered, the program stops executing and Python will raise an exception object. This exception object contains information about the type of error that occurred and where it occurred in the code.\n",
    "\n",
    "`Syntax errors`, on the other hand, are errors that occur when the Python interpreter cannot understand the code because of a syntax error. This means that there is a problem with the way the code is written, such as a missing or misplaced punctuation mark, an incorrect keyword, or a missing parentheses. Syntax errors prevent the code from being executed at all."
   ]
  },
  {
   "cell_type": "markdown",
   "id": "94c99ca3",
   "metadata": {},
   "source": [
    "### Q2. What happens when an exception is not handled? Explain with an example\n",
    "\n",
    "When an exception is not handled in a program, it will cause the program to terminate abruptly with an error message indicating the type of exception that was raised. This can be problematic because it leaves the program in an inconsistent state, and any data that was being processed at the time of the exception could be lost or corrupted."
   ]
  },
  {
   "cell_type": "code",
   "execution_count": 1,
   "id": "4babe75d",
   "metadata": {},
   "outputs": [
    {
     "name": "stdout",
     "output_type": "stream",
     "text": [
      "Enter the numerator: 1\n",
      "Enter the denominator: 0\n",
      "You cannot divide by zero.\n"
     ]
    }
   ],
   "source": [
    "try:\n",
    "    numerator = int(input(\"Enter the numerator: \"))\n",
    "    denominator = int(input(\"Enter the denominator: \"))\n",
    "    result = numerator / denominator\n",
    "    print(\"The result is\", result)\n",
    "except ValueError:\n",
    "    print(\"You must enter an integer value.\")\n",
    "except ZeroDivisionError:\n",
    "    print(\"You cannot divide by zero.\")\n"
   ]
  },
  {
   "cell_type": "markdown",
   "id": "113eb315",
   "metadata": {},
   "source": [
    "### Q3. Which Python statements are used to catch and handle exceptions? Explain with an example\n",
    "\n",
    "In Python, we use the `try` and `except` statements to catch and handle exceptions."
   ]
  },
  {
   "cell_type": "code",
   "execution_count": 2,
   "id": "cb03e69c",
   "metadata": {},
   "outputs": [
    {
     "name": "stdout",
     "output_type": "stream",
     "text": [
      "Enter the numerator: 1\n",
      "Enter the denominator: 5\n",
      "The result is 0.2\n"
     ]
    }
   ],
   "source": [
    "try:\n",
    "    numerator = int(input(\"Enter the numerator: \"))\n",
    "    denominator = int(input(\"Enter the denominator: \"))\n",
    "    result = numerator / denominator\n",
    "    print(\"The result is\", result)\n",
    "except ValueError:\n",
    "    print(\"You must enter an integer value.\")\n",
    "except ZeroDivisionError:\n",
    "    print(\"You cannot divide by zero.\")\n"
   ]
  },
  {
   "cell_type": "markdown",
   "id": "57f6fa2c",
   "metadata": {},
   "source": [
    "In this code, the try block contains the code that we want to execute. If an exception occurs during the execution of this block, the except block is executed instead.\n",
    "\n",
    "In this case, we have two except blocks. The first block will be executed if a ValueError is raised, which occurs when the user enters a non-integer value for either the numerator or the denominator. The second block will be executed if a ZeroDivisionError is raised, which occurs when the user enters zero for the denominator."
   ]
  },
  {
   "cell_type": "markdown",
   "id": "9fbe6192",
   "metadata": {},
   "source": [
    "### Q4. Explain with an example:\n",
    "1. try and else\n",
    "2. finally\n",
    "3. raise"
   ]
  },
  {
   "cell_type": "markdown",
   "id": "eab1f4b2",
   "metadata": {},
   "source": [
    "`try` and `else` blocks are used together in Python to handle exceptions that might occur within a block of code. The try block is used to identify a section of code that might raise an exception, while the else block is used to execute code that should only be executed if no exception was raised in the try block. Here's an example:"
   ]
  },
  {
   "cell_type": "code",
   "execution_count": 5,
   "id": "8df166cc",
   "metadata": {},
   "outputs": [
    {
     "name": "stdout",
     "output_type": "stream",
     "text": [
      "File not found.\n"
     ]
    }
   ],
   "source": [
    "try:\n",
    "    file = open(\"example.txt\", \"r\")\n",
    "    contents = file.read()\n",
    "    print(contents)\n",
    "except FileNotFoundError:\n",
    "    print(\"File not found.\")\n",
    "else:\n",
    "    print(\"File read successfully.\")\n",
    "    file.close()\n"
   ]
  },
  {
   "cell_type": "markdown",
   "id": "4532734d",
   "metadata": {},
   "source": [
    "`finally` block is used in Python to execute code that must be executed regardless of whether an exception was raised or not. Here's an example:"
   ]
  },
  {
   "cell_type": "code",
   "execution_count": 6,
   "id": "ab099175",
   "metadata": {},
   "outputs": [
    {
     "name": "stdout",
     "output_type": "stream",
     "text": [
      "File not found.\n"
     ]
    },
    {
     "ename": "NameError",
     "evalue": "name 'file' is not defined",
     "output_type": "error",
     "traceback": [
      "\u001b[1;31m---------------------------------------------------------------------------\u001b[0m",
      "\u001b[1;31mNameError\u001b[0m                                 Traceback (most recent call last)",
      "Cell \u001b[1;32mIn[6], line 10\u001b[0m\n\u001b[0;32m      8\u001b[0m     \u001b[38;5;28mprint\u001b[39m(\u001b[38;5;124m\"\u001b[39m\u001b[38;5;124mFile read successfully.\u001b[39m\u001b[38;5;124m\"\u001b[39m)\n\u001b[0;32m      9\u001b[0m \u001b[38;5;28;01mfinally\u001b[39;00m:\n\u001b[1;32m---> 10\u001b[0m     \u001b[43mfile\u001b[49m\u001b[38;5;241m.\u001b[39mclose()\n\u001b[0;32m     11\u001b[0m     \u001b[38;5;28mprint\u001b[39m(\u001b[38;5;124m\"\u001b[39m\u001b[38;5;124mFile closed.\u001b[39m\u001b[38;5;124m\"\u001b[39m)\n",
      "\u001b[1;31mNameError\u001b[0m: name 'file' is not defined"
     ]
    }
   ],
   "source": [
    "try:\n",
    "    file = open(\"example.txt\", \"r\")\n",
    "    contents = file.read()\n",
    "    print(contents)\n",
    "except FileNotFoundError:\n",
    "    print(\"File not found.\")\n",
    "else:\n",
    "    print(\"File read successfully.\")\n",
    "finally:\n",
    "    file.close()\n",
    "    print(\"File closed.\")\n"
   ]
  },
  {
   "cell_type": "markdown",
   "id": "344c75fd",
   "metadata": {},
   "source": [
    "`raise` statement is used in Python to raise an exception. We can use the raise statement to raise a predefined exception or a custom exception that we define ourselves. Here's an example:"
   ]
  },
  {
   "cell_type": "code",
   "execution_count": null,
   "id": "6de07f79",
   "metadata": {},
   "outputs": [],
   "source": [
    "def divide(numerator, denominator):\n",
    "    if denominator == 0:\n",
    "        raise ZeroDivisionError(\"Denominator cannot be zero.\")\n",
    "    return numerator / denominator\n",
    "\n",
    "try:\n",
    "    result = divide(10, 0)\n",
    "except ZeroDivisionError as e:\n",
    "    print(e)\n",
    "else:\n",
    "    print(result)\n"
   ]
  },
  {
   "cell_type": "markdown",
   "id": "508a8326",
   "metadata": {},
   "source": [
    "### Q5. What are Custom Exceptions in ython? Why do we need Custom Exceptions? Explain with an example\n",
    "\n",
    "Custom exceptions are user-defined exceptions in Python that are created by inheriting from the Exception class. We need custom exceptions when we want to create our own exception types that are specific to our program's needs."
   ]
  },
  {
   "cell_type": "code",
   "execution_count": 7,
   "id": "9ad9a6bb",
   "metadata": {},
   "outputs": [
    {
     "name": "stdout",
     "output_type": "stream",
     "text": [
      "Cannot calculate square root of a negative number.\n"
     ]
    }
   ],
   "source": [
    "class NegativeNumberError(Exception):\n",
    "    pass\n",
    "\n",
    "def square_root(n):\n",
    "    if n < 0:\n",
    "        raise NegativeNumberError(\"Cannot calculate square root of a negative number.\")\n",
    "    return n ** 0.5\n",
    "\n",
    "try:\n",
    "    result = square_root(-10)\n",
    "except NegativeNumberError as e:\n",
    "    print(e)\n",
    "else:\n",
    "    print(result)\n"
   ]
  },
  {
   "cell_type": "markdown",
   "id": "e369cb5a",
   "metadata": {},
   "source": [
    "### Q6. Create custom exception class. Use this class to handle an exception."
   ]
  },
  {
   "cell_type": "code",
   "execution_count": 8,
   "id": "e880b0e8",
   "metadata": {},
   "outputs": [
    {
     "name": "stdout",
     "output_type": "stream",
     "text": [
      "Denominator cannot be negative.\n"
     ]
    }
   ],
   "source": [
    "class NegativeNumberError(Exception):\n",
    "    def __init__(self, message):\n",
    "        self.message = message\n",
    "\n",
    "def divide(a, b):\n",
    "    if b == 0:\n",
    "        raise ZeroDivisionError(\"Cannot divide by zero.\")\n",
    "    elif b < 0:\n",
    "        raise NegativeNumberError(\"Denominator cannot be negative.\")\n",
    "    return a / b\n",
    "\n",
    "try:\n",
    "    result = divide(10, -5)\n",
    "except NegativeNumberError as e:\n",
    "    print(e.message)\n",
    "except ZeroDivisionError as e:\n",
    "    print(e)\n",
    "else:\n",
    "    print(result)\n"
   ]
  },
  {
   "cell_type": "code",
   "execution_count": null,
   "id": "33b418d6",
   "metadata": {},
   "outputs": [],
   "source": []
  }
 ],
 "metadata": {
  "kernelspec": {
   "display_name": "Python 3 (ipykernel)",
   "language": "python",
   "name": "python3"
  },
  "language_info": {
   "codemirror_mode": {
    "name": "ipython",
    "version": 3
   },
   "file_extension": ".py",
   "mimetype": "text/x-python",
   "name": "python",
   "nbconvert_exporter": "python",
   "pygments_lexer": "ipython3",
   "version": "3.9.13"
  }
 },
 "nbformat": 4,
 "nbformat_minor": 5
}
