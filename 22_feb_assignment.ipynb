{
 "cells": [
  {
   "cell_type": "markdown",
   "id": "5b2adb92",
   "metadata": {},
   "source": [
    "### Q1. Create a Pandas Series that contains the following data: 4, 8, 15, 16, 23, and 42. Then, print the series."
   ]
  },
  {
   "cell_type": "code",
   "execution_count": 4,
   "id": "298b9024",
   "metadata": {},
   "outputs": [
    {
     "name": "stdout",
     "output_type": "stream",
     "text": [
      "0     4\n",
      "1     8\n",
      "2    15\n",
      "3    16\n",
      "4    23\n",
      "5    42\n",
      "dtype: int64\n"
     ]
    }
   ],
   "source": [
    "import pandas as pd\n",
    "series_1 = pd.Series([4, 8, 15, 16, 23, 42])\n",
    "print(series_1)"
   ]
  },
  {
   "cell_type": "markdown",
   "id": "796393c6",
   "metadata": {},
   "source": [
    "### Q2. Create a variable of list type containing 10 elements in it, and apply pandas.Series function on the variable print it."
   ]
  },
  {
   "cell_type": "code",
   "execution_count": 5,
   "id": "a3772d70",
   "metadata": {},
   "outputs": [
    {
     "name": "stdout",
     "output_type": "stream",
     "text": [
      "0       5\n",
      "1      76\n",
      "2       8\n",
      "3       4\n",
      "4       2\n",
      "5      34\n",
      "6      53\n",
      "7      11\n",
      "8    8564\n",
      "dtype: int64\n"
     ]
    }
   ],
   "source": [
    "list2 = [5,76,8,4,2,34,53,11,8564]\n",
    "series_2 = pd.Series(list2)\n",
    "print(series_2)"
   ]
  },
  {
   "cell_type": "markdown",
   "id": "e753e9c2",
   "metadata": {},
   "source": [
    "### Q3. Create a Pandas DataFrame that contains the following data, Then, print the DataFrame."
   ]
  },
  {
   "cell_type": "code",
   "execution_count": 12,
   "id": "405c9d82",
   "metadata": {},
   "outputs": [
    {
     "data": {
      "text/html": [
       "<div>\n",
       "<style scoped>\n",
       "    .dataframe tbody tr th:only-of-type {\n",
       "        vertical-align: middle;\n",
       "    }\n",
       "\n",
       "    .dataframe tbody tr th {\n",
       "        vertical-align: top;\n",
       "    }\n",
       "\n",
       "    .dataframe thead th {\n",
       "        text-align: right;\n",
       "    }\n",
       "</style>\n",
       "<table border=\"1\" class=\"dataframe\">\n",
       "  <thead>\n",
       "    <tr style=\"text-align: right;\">\n",
       "      <th></th>\n",
       "      <th>Name</th>\n",
       "      <th>Age</th>\n",
       "      <th>Gender</th>\n",
       "    </tr>\n",
       "  </thead>\n",
       "  <tbody>\n",
       "    <tr>\n",
       "      <th>0</th>\n",
       "      <td>Alice</td>\n",
       "      <td>25</td>\n",
       "      <td>Female</td>\n",
       "    </tr>\n",
       "    <tr>\n",
       "      <th>1</th>\n",
       "      <td>Bob</td>\n",
       "      <td>30</td>\n",
       "      <td>Male</td>\n",
       "    </tr>\n",
       "    <tr>\n",
       "      <th>2</th>\n",
       "      <td>Claire</td>\n",
       "      <td>27</td>\n",
       "      <td>Female</td>\n",
       "    </tr>\n",
       "  </tbody>\n",
       "</table>\n",
       "</div>"
      ],
      "text/plain": [
       "     Name  Age  Gender\n",
       "0   Alice   25  Female\n",
       "1     Bob   30    Male\n",
       "2  Claire   27  Female"
      ]
     },
     "execution_count": 12,
     "metadata": {},
     "output_type": "execute_result"
    }
   ],
   "source": [
    "df_3 = pd.DataFrame({\"Name\":[\"Alice\",\"Bob\",\"Claire\"],\n",
    "                    \"Age\":[25,30,27],\n",
    "                   \"Gender\":[\"Female\",\"Male\",\"Female\"]})\n",
    "df_3"
   ]
  },
  {
   "cell_type": "markdown",
   "id": "ff1379d3",
   "metadata": {},
   "source": [
    "### Q4. What is ‘DataFrame’ in pandas and how is it different from pandas.series? Explain with an example\n",
    "\n",
    "\n",
    "In pandas, a `DataFrame` is a two-dimensional labeled data structure with columns of potentially different types. It is similar to a spreadsheet or SQL table, where each column represents a variable and each row represents an observation.\n",
    "\n",
    "On the other hand, a `Series` is a one-dimensional labeled array capable of holding any data type, such as integers, strings, floats, Python objects, etc. A Series can be thought of as a single column of a DataFrame."
   ]
  },
  {
   "cell_type": "code",
   "execution_count": 13,
   "id": "ccbe35d0",
   "metadata": {},
   "outputs": [
    {
     "name": "stdout",
     "output_type": "stream",
     "text": [
      "     Name  Age  Gender\n",
      "0   Alice   25  Female\n",
      "1     Bob   30    Male\n",
      "2  Claire   27  Female\n",
      "0    25\n",
      "1    30\n",
      "2    27\n",
      "Name: Age, dtype: int64\n"
     ]
    }
   ],
   "source": [
    "# Create a dictionary with some data\n",
    "data = {\"Name\": [\"Alice\", \"Bob\", \"Claire\"],\n",
    "        \"Age\": [25, 30, 27],\n",
    "        \"Gender\": [\"Female\", \"Male\", \"Female\"]}\n",
    "\n",
    "# Create a DataFrame from the dictionary\n",
    "df = pd.DataFrame(data)\n",
    "\n",
    "# Create a Series from one of the columns in the DataFrame\n",
    "ages = df[\"Age\"]\n",
    "\n",
    "print(df)\n",
    "print(ages)"
   ]
  },
  {
   "cell_type": "markdown",
   "id": "33fa7d8c",
   "metadata": {},
   "source": [
    "### Q5. What are some common functions you can use to manipulate data in a Pandas DataFrame? Can you give an example of when you might use one of these functions?\n",
    "\n",
    "Pandas provides a wide range of functions to manipulate data in a DataFrame. Here are some of the most commonly used functions:\n",
    "\n",
    "1. head() and tail(): These functions are used to get the first or last n rows of the DataFrame. For example, df.head(10) returns the first 10 rows of the DataFrame df.\n",
    "\n",
    "2. describe(): This function is used to get a summary of the DataFrame, including count, mean, standard deviation, minimum, maximum, and quartiles of each numeric column.\n",
    "\n",
    "3. drop(): This function is used to remove rows or columns from the DataFrame. For example, df.drop('column_name', axis=1) removes a column from the DataFrame.\n",
    "\n",
    "4. fillna(): This function is used to fill missing values in the DataFrame with a specified value or method. For example, df.fillna(0) fills all missing values with 0.\n"
   ]
  },
  {
   "cell_type": "markdown",
   "id": "49b73f24",
   "metadata": {},
   "source": [
    "### Q6. Which of the following is mutable in nature Series, DataFrame, Panel?\n",
    "\n",
    "All 3 of them are mutable"
   ]
  },
  {
   "cell_type": "markdown",
   "id": "08265e5f",
   "metadata": {},
   "source": [
    "### Q7. Create a DataFrame using multiple Series. Explain with an example."
   ]
  },
  {
   "cell_type": "code",
   "execution_count": 15,
   "id": "e437984d",
   "metadata": {},
   "outputs": [
    {
     "name": "stdout",
     "output_type": "stream",
     "text": [
      "     Name  Age  Gender\n",
      "0   Alice   25  Female\n",
      "1     Bob   30    Male\n",
      "2  Claire   27  Female\n"
     ]
    }
   ],
   "source": [
    "import pandas as pd\n",
    "\n",
    "# Create three Series objects with sample data\n",
    "names = pd.Series(['Alice', 'Bob', 'Claire'])\n",
    "ages = pd.Series([25, 30, 27])\n",
    "genders = pd.Series(['Female', 'Male', 'Female'])\n",
    "\n",
    "# Create a DataFrame using the three Series objects\n",
    "df = pd.DataFrame({'Name': names, 'Age': ages, 'Gender': genders})\n",
    "\n",
    "# Display the DataFrame\n",
    "print(df)\n"
   ]
  },
  {
   "cell_type": "code",
   "execution_count": null,
   "id": "d0456778",
   "metadata": {},
   "outputs": [],
   "source": []
  }
 ],
 "metadata": {
  "kernelspec": {
   "display_name": "Python 3 (ipykernel)",
   "language": "python",
   "name": "python3"
  },
  "language_info": {
   "codemirror_mode": {
    "name": "ipython",
    "version": 3
   },
   "file_extension": ".py",
   "mimetype": "text/x-python",
   "name": "python",
   "nbconvert_exporter": "python",
   "pygments_lexer": "ipython3",
   "version": "3.9.13"
  }
 },
 "nbformat": 4,
 "nbformat_minor": 5
}
