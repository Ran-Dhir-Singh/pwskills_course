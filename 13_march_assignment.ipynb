{
 "cells": [
  {
   "cell_type": "markdown",
   "id": "681b97ea",
   "metadata": {},
   "source": [
    "### Q1. Explain the assumptions required to use ANOVA and provide examples of violations that could impact the validity of the results.\n",
    "\n",
    "ANOVA (Analysis of Variance) is a statistical test that is used to compare means between two or more groups. It assumes the following:\n",
    "\n",
    "1. Independence: The observations within each group are independent of each other.\n",
    "2. Normality: The distribution of the dependent variable is approximately normal within each group.\n",
    "3. Homogeneity of variance: The variance of the dependent variable is equal across all groups.\n",
    "\n",
    "\n",
    "Violations of these assumptions could impact the validity of the results. Some examples of these violations include:\n",
    "\n",
    "1. Independence: Violation of independence may occur when observations are not independent within a group, such as when repeated measures are taken from the same subjects, or when subjects are related in some way. For example, a study that compares the weight of siblings would violate the assumption of independence.\n",
    "\n",
    "2. Normality: Violation of normality may occur when the distribution of the dependent variable is not normal within each group. For example, if a study's data is skewed or contains outliers, this may violate the assumption of normality.\n",
    "\n",
    "3. Homogeneity of variance: Violation of homogeneity of variance may occur when the variance of the dependent variable is not equal across all groups. For example, if one group has a larger variance than the others, this may violate the assumption of homogeneity of variance.\n",
    "\n",
    "When these assumptions are violated, the results of ANOVA may not be valid. In such cases, alternative statistical tests such as nonparametric tests or transformations of data may be considered.\n",
    "\n",
    "\n",
    "\n",
    "\n"
   ]
  },
  {
   "cell_type": "markdown",
   "id": "0256fa1c",
   "metadata": {},
   "source": [
    "### Q2. What are the three types of ANOVA, and in what situations would each be used?\n",
    "\n",
    "The three types of ANOVA (Analysis of Variance) are:\n",
    "\n",
    "1. One-Way ANOVA: One-way ANOVA is used when comparing the means of three or more independent groups on a single continuous variable. For example, a study may use one-way ANOVA to compare the effectiveness of three different treatments for a particular medical condition.\n",
    "\n",
    "2. Two-Way ANOVA: Two-way ANOVA is used when there are two independent variables or factors, and we want to examine the interaction effect between them on a continuous dependent variable. For example, a study may use two-way ANOVA to examine the effects of two different types of exercise (factor 1) and two different diets (factor 2) on weight loss.\n",
    "\n",
    "3. Three-Way ANOVA: Three-way ANOVA is used when there are three independent variables or factors, and we want to examine the interaction effect between them on a continuous dependent variable. For example, a study may use three-way ANOVA to examine the effects of exercise type (factor 1), diet type (factor 2), and age (factor 3) on blood pressure."
   ]
  },
  {
   "cell_type": "markdown",
   "id": "517676d3",
   "metadata": {},
   "source": [
    "### Q3. What is the partitioning of variance in ANOVA, and why is it important to understand this concept?\n",
    "\n",
    "Partitioning of variance in ANOVA refers to the process of dividing the total variance of a dependent variable into different components that are attributed to different sources or factors. These components are then used to estimate the statistical significance of the effects of these factors on the dependent variable.\n",
    "\n",
    "The partitioning of variance in ANOVA involves three components:\n",
    "\n",
    "1. Between-group variance (SSB): This component of variance represents the differences in means between groups or levels of the independent variable(s).\n",
    "\n",
    "2. Within-group variance (SSW): This component of variance represents the differences within each group or level of the independent variable(s).\n",
    "\n",
    "3. Total variance (SST): This component of variance represents the total variation in the dependent variable.\n",
    "\n",
    "Understanding the partitioning of variance is important because it helps us to understand how much of the variation in the dependent variable is accounted for by the independent variable(s) and how much is due to random error. This information is used to calculate the F-statistic, which is used to test for the statistical significance of the independent variable(s) on the dependent variable.\n",
    "\n",
    "Furthermore, partitioning of variance allows us to assess the strength of the effect of each independent variable on the dependent variable, and to identify which independent variable(s) have a significant effect. This information can help us to draw meaningful conclusions from our data and to design future studies that focus on the most important independent variable(s) for the dependent variable."
   ]
  },
  {
   "cell_type": "markdown",
   "id": "81bc881e",
   "metadata": {},
   "source": [
    "### Q4. How would you calculate the total sum of squares (SST), explained sum of squares (SSE), and residual sum of squares (SSR) in a one-way ANOVA using Python?"
   ]
  },
  {
   "cell_type": "code",
   "execution_count": 1,
   "id": "05b468ce",
   "metadata": {},
   "outputs": [
    {
     "name": "stdout",
     "output_type": "stream",
     "text": [
      "SST = 280.0\n",
      "SSE = 250.0\n",
      "SSR = 30.0\n"
     ]
    }
   ],
   "source": [
    "import scipy.stats as stats\n",
    "\n",
    "# create a list of data for each group\n",
    "group1 = [1, 2, 3, 4, 5]\n",
    "group2 = [6, 7, 8, 9, 10]\n",
    "group3 = [11, 12, 13, 14, 15]\n",
    "\n",
    "# combine the data into one list\n",
    "data = group1 + group2 + group3\n",
    "\n",
    "# calculate the mean of the data\n",
    "mean = sum(data) / len(data)\n",
    "\n",
    "# calculate the total sum of squares (SST)\n",
    "SST = sum((x - mean)**2 for x in data)\n",
    "\n",
    "# calculate the explained sum of squares (SSE)\n",
    "SSE = sum(len(group)*(mean - group_mean)**2 for group_mean, group in zip([sum(group)/len(group) for group in [group1, group2, group3]], [group1, group2, group3]))\n",
    "\n",
    "# calculate the residual sum of squares (SSR)\n",
    "SSR = SST - SSE\n",
    "\n",
    "print(\"SST =\", SST)\n",
    "print(\"SSE =\", SSE)\n",
    "print(\"SSR =\", SSR)\n"
   ]
  },
  {
   "cell_type": "markdown",
   "id": "34e34938",
   "metadata": {},
   "source": [
    "### Q5. In a two-way ANOVA, how would you calculate the main effects and interaction effects using Python?"
   ]
  },
  {
   "cell_type": "code",
   "execution_count": 14,
   "id": "d9246075",
   "metadata": {},
   "outputs": [
    {
     "name": "stdout",
     "output_type": "stream",
     "text": [
      "Main effect 1: 2.8800000000000003\n",
      "Main effect 2: 1.5591702341990287e-29\n",
      "Interaction effect: 1.9216480389623965e-32\n"
     ]
    }
   ],
   "source": [
    "import pandas as pd\n",
    "import numpy as np\n",
    "import statsmodels.api as sm\n",
    "from statsmodels.formula.api import ols\n",
    "\n",
    "# Create dummy variables for factor1\n",
    "factor1 = np.repeat([1, 2, 3], 5)\n",
    "dummy_factor1 = pd.get_dummies(factor1, prefix='factor1')\n",
    "\n",
    "# Create dummy variables for factor2\n",
    "factor2 = np.tile([1, 2], 15)\n",
    "dummy_factor2 = pd.get_dummies(factor2, prefix='factor2')\n",
    "\n",
    "# Combine dummy variables and response variable into a dataframe\n",
    "response = np.array([3, 4, 5, 6, 7, 5, 6, 7, 8, 9, 7, 8, 9, 10, 11,\n",
    "                     5, 6, 7, 8, 9, 6, 7, 8, 9, 10, 8, 9, 10, 11, 12])\n",
    "df = pd.DataFrame({'response': response})\n",
    "df = pd.concat([df, dummy_factor1, dummy_factor2], axis=1)\n",
    "\n",
    "# Fit the ANOVA model\n",
    "model = ols('response ~ factor1_2 + factor1_3 + factor2_2 + factor1_2:factor2_2 + factor1_3:factor2_2', data=df).fit()\n",
    "anova_table = sm.stats.anova_lm(model, typ=2)\n",
    "\n",
    "# Calculate main effects and interaction effects\n",
    "main_effect1 = anova_table.loc['factor1_2', 'F']\n",
    "main_effect2 = anova_table.loc['factor2_2', 'F']\n",
    "interaction_effect = anova_table.loc['factor1_2:factor2_2', 'F']\n",
    "\n",
    "print(\"Main effect 1:\", main_effect1)\n",
    "print(\"Main effect 2:\", main_effect2)\n",
    "print(\"Interaction effect:\", interaction_effect)\n"
   ]
  },
  {
   "cell_type": "markdown",
   "id": "442f269b",
   "metadata": {},
   "source": [
    "### Q6. Suppose you conducted a one-way ANOVA and obtained an F-statistic of 5.23 and a p-value of 0.02. What can you conclude about the differences between the groups, and how would you interpret these results?\n",
    "\n",
    "If we conducted a one-way ANOVA and obtained an F-statistic of 5.23 and a p-value of 0.02, it means that there is evidence to reject the null hypothesis that the means of all the groups are equal. Specifically, the F-statistic of 5.23 tells you that there is a significant amount of variation between the group means relative to the variation within the groups. The p-value of 0.02 tells you that the probability of obtaining such a large F-statistic by chance, assuming the null hypothesis is true, is only 0.02 or 2%. This is below the commonly used significance level of 0.05, which suggests that the result is statistically significant.\n",
    "\n",
    "Therefore, we can conclude that there is evidence to support the alternative hypothesis that at least one group mean is different from the others. However, the ANOVA does not tell us which group mean(s) is/are different from the others, or by how much. To identify the specific group(s) with different means, you may need to perform additional statistical tests, such as pairwise t-tests or post-hoc tests with multiple comparisons correction.\n"
   ]
  },
  {
   "cell_type": "markdown",
   "id": "0e5d2eb6",
   "metadata": {},
   "source": [
    "### Q7. In a repeated measures ANOVA, how would you handle missing data, and what are the potential consequences of using different methods to handle missing data?\n",
    "\n",
    "In a repeated measures ANOVA, missing data can occur when some participants do not complete all measurements or when there are technical issues that prevent the collection of data for some measurements. Handling missing data is important to ensure accurate and reliable results, and there are several methods to address missing data in repeated measures ANOVA.\n",
    "\n",
    "One common method is to use the approach of pairwise deletion or listwise deletion. In pairwise deletion, each analysis is performed using only the available data for that particular analysis, and missing data are ignored. This approach can lead to a reduction in power since less data are used in the analysis, and it can also lead to biased estimates if the missing data are not missing at random. Listwise deletion is a more conservative approach, where all participants with missing data are removed from the analysis, and only the participants with complete data are included in the analysis. This approach can result in a smaller sample size and can also lead to biased estimates if the missing data are not missing at random.\n",
    "\n",
    "Another approach is to use imputation methods to fill in the missing values. This can be done through different methods, such as mean imputation, median imputation, or multiple imputation. Mean imputation involves replacing the missing values with the mean of the available data for that variable. Median imputation is similar, but uses the median instead of the mean. Multiple imputation involves creating several plausible imputed datasets based on the available data and statistical modeling, and analyzing each of them separately, then combining the results.\n",
    "\n",
    "The potential consequences of using different methods to handle missing data can be significant. Using deletion methods may introduce bias if the missing data are not missing at random or reduce the power of the analysis. Imputation methods, on the other hand, can lead to inflated estimates of precision if the imputation model is misspecified or the assumptions of imputation are not met. Therefore, it is important to carefully consider the reasons for missing data, the nature of the data, and the assumptions of the imputation method before deciding on the approach to handle missing data in a repeated measures ANOVA."
   ]
  },
  {
   "cell_type": "markdown",
   "id": "ce69bc94",
   "metadata": {},
   "source": [
    "### Q8. What are some common post-hoc tests used after ANOVA, and when would you use each one? Provide an example of a situation where a post-hoc test might be necessary.\n",
    "\n",
    "After conducting an ANOVA and finding a significant effect, post-hoc tests can be used to determine which specific groups are significantly different from one another. There are several common post-hoc tests used after ANOVA, including:\n",
    "\n",
    "1. Tukey's HSD test: This is a conservative test that compares all possible pairs of means while controlling for family-wise error rate. It is used when the number of groups is equal and sample sizes are equal or unequal.\n",
    "\n",
    "2. Bonferroni test: This test is more conservative than Tukey's test and controls for the family-wise error rate by dividing the significance level (usually 0.05) by the number of pairwise comparisons being made. It is useful when the number of pairwise comparisons is relatively small.\n",
    "\n",
    "3. Scheffe's test: This is the most conservative post-hoc test, as it controls for the family-wise error rate for all possible comparisons. It is used when the number of groups is large or unequal, or when there are complex comparisons to be made.\n",
    "\n",
    "4. Dunnett's test: This test is used when there is one control group and multiple treatment groups. It compares each treatment group to the control group.\n",
    "\n",
    "5. Games-Howell test: This test is used when the assumption of equal variances is violated. It is a modified version of Tukey's test that uses a different formula to calculate the critical values.\n",
    "\n",
    "An example situation where a post-hoc test might be necessary is when conducting a study on the effectiveness of different treatment methods for depression. The study may have included four different treatment groups, such as cognitive-behavioral therapy, medication, exercise, and a control group. After conducting an ANOVA, it was found that there was a significant difference between the means of the four groups. A post-hoc test, such as Tukey's HSD test, could be used to determine which specific groups are significantly different from one another. This would help identify which treatment method(s) are most effective for treating depression, which is crucial for developing evidence-based treatments for this condition.\n",
    "\n",
    "\n",
    "\n",
    "\n",
    "\n"
   ]
  },
  {
   "cell_type": "markdown",
   "id": "524575e5",
   "metadata": {},
   "source": [
    "### Q9. A researcher wants to compare the mean weight loss of three diets: A, B, and C. They collect data from 50 participants who were randomly assigned to one of the diets. Conduct a one-way ANOVA using Python to determine if there are any significant differences between the mean weight loss of the three diets. Report the F-statistic and p-value, and interpret the results."
   ]
  },
  {
   "cell_type": "code",
   "execution_count": 15,
   "id": "07c8fe73",
   "metadata": {},
   "outputs": [
    {
     "name": "stdout",
     "output_type": "stream",
     "text": [
      "F-Statistic: 30.049258951077665\n",
      "p-value: 1.1450258046547303e-11\n",
      "There is a significant difference in mean weight loss between the diets.\n"
     ]
    }
   ],
   "source": [
    "import pandas as pd\n",
    "import numpy as np\n",
    "import scipy.stats as stats\n",
    "\n",
    "# Set random seed for reproducibility\n",
    "np.random.seed(123)\n",
    "\n",
    "# Generate weight loss data\n",
    "weights_a = np.random.normal(loc=3.5, scale=0.5, size=50)\n",
    "weights_b = np.random.normal(loc=3.2, scale=0.5, size=50)\n",
    "weights_c = np.random.normal(loc=4.0, scale=0.5, size=50)\n",
    "\n",
    "# Combine data into a dataframe\n",
    "data = pd.DataFrame({\n",
    "    'diet': ['A'] * 50 + ['B'] * 50 + ['C'] * 50,\n",
    "    'weight_loss': np.concatenate([weights_a, weights_b, weights_c])\n",
    "})\n",
    "\n",
    "# Perform one-way ANOVA\n",
    "f_statistic, p_value = stats.f_oneway(\n",
    "    data[data['diet'] == 'A']['weight_loss'],\n",
    "    data[data['diet'] == 'B']['weight_loss'],\n",
    "    data[data['diet'] == 'C']['weight_loss']\n",
    ")\n",
    "\n",
    "# Print results\n",
    "print('F-Statistic:', f_statistic)\n",
    "print('p-value:', p_value)\n",
    "\n",
    "# Interpret results\n",
    "if p_value < 0.05:\n",
    "    print('There is a significant difference in mean weight loss between the diets.')\n",
    "else:\n",
    "    print('There is no significant difference in mean weight loss between the diets.')\n"
   ]
  },
  {
   "cell_type": "markdown",
   "id": "c54611ba",
   "metadata": {},
   "source": [
    "### Q10. A company wants to know if there are any significant differences in the average time it takes to complete a task using three different software programs: Program A, Program B, and Program C. They randomly assign 30 employees to one of the programs and record the time it takes each employee to complete the task. Conduct a two-way ANOVA using Python to determine if there are any main effects or interaction effects between the software programs and employee experience level (novice vs.experienced). Report the F-statistics and   p-values, and interpret the results. "
   ]
  },
  {
   "cell_type": "code",
   "execution_count": 16,
   "id": "75cf9851",
   "metadata": {},
   "outputs": [
    {
     "name": "stdout",
     "output_type": "stream",
     "text": [
      "                              sum_sq    df         F    PR(>F)\n",
      "C(program)                 21.209534   2.0  1.798548  0.175314\n",
      "C(experience)               0.246230   1.0  0.041760  0.838846\n",
      "C(program):C(experience)    0.455966   2.0  0.038665  0.962099\n",
      "Residual                  318.399886  54.0       NaN       NaN\n",
      "There is no significant main effect of software program on task completion time.\n",
      "There is no significant main effect of employee experience level on task completion time.\n",
      "There is no significant interaction effect between software program and employee experience level on task completion time.\n"
     ]
    }
   ],
   "source": [
    "import pandas as pd\n",
    "import numpy as np\n",
    "import statsmodels.api as sm\n",
    "from statsmodels.formula.api import ols\n",
    "\n",
    "# Set random seed for reproducibility\n",
    "np.random.seed(123)\n",
    "\n",
    "# Generate random task completion times for each software program and experience level\n",
    "data = pd.DataFrame({\n",
    "    'program': np.repeat(['A', 'B', 'C'], 20),\n",
    "    'experience': np.tile(['novice', 'experienced'], 30),\n",
    "    'time': np.random.normal(loc=10, scale=2, size=60)\n",
    "})\n",
    "\n",
    "# Convert experience level to a categorical variable\n",
    "data['experience'] = pd.Categorical(data['experience'])\n",
    "\n",
    "# Fit two-way ANOVA model\n",
    "model = ols('time ~ C(program) + C(experience) + C(program):C(experience)', data=data).fit()\n",
    "anova_table = sm.stats.anova_lm(model, typ=2)\n",
    "\n",
    "# Print ANOVA table\n",
    "print(anova_table)\n",
    "\n",
    "# Interpret results\n",
    "if anova_table.loc['C(program)', 'PR(>F)'] < 0.05:\n",
    "    print('There is a significant main effect of software program on task completion time.')\n",
    "else:\n",
    "    print('There is no significant main effect of software program on task completion time.')\n",
    "    \n",
    "if anova_table.loc['C(experience)', 'PR(>F)'] < 0.05:\n",
    "    print('There is a significant main effect of employee experience level on task completion time.')\n",
    "else:\n",
    "    print('There is no significant main effect of employee experience level on task completion time.')\n",
    "    \n",
    "if anova_table.loc['C(program):C(experience)', 'PR(>F)'] < 0.05:\n",
    "    print('There is a significant interaction effect between software program and employee experience level on task completion time.')\n",
    "else:\n",
    "    print('There is no significant interaction effect between software program and employee experience level on task completion time.')\n"
   ]
  },
  {
   "cell_type": "markdown",
   "id": "47fef5c4",
   "metadata": {},
   "source": [
    "### Q11. An educational researcher is interested in whether a new teaching method improves student test scores. They randomly assign 100 students to either the control group (traditional teaching method) or the experimental group (new teaching method) and administer a test at the end of the semester. Conduct a two-sample t-test using Python to determine if there are any significant differences in test scores between the two groups. If the results are significant, follow up with a post-hoc test to determine which group(s) differ significantly from each other."
   ]
  },
  {
   "cell_type": "code",
   "execution_count": 17,
   "id": "919c053b",
   "metadata": {},
   "outputs": [
    {
     "name": "stdout",
     "output_type": "stream",
     "text": [
      "t-statistic: -3.2619345559658135\n",
      "p-value: 0.0015232250821161763\n"
     ]
    }
   ],
   "source": [
    "import numpy as np\n",
    "from scipy import stats\n",
    "\n",
    "# create data\n",
    "control_scores = np.random.normal(70, 10, 50) # mean=70, sd=10, n=50\n",
    "experimental_scores = np.random.normal(75, 10, 50) # mean=75, sd=10, n=50\n",
    "\n",
    "# conduct two-sample t-test\n",
    "t_statistic, p_value = stats.ttest_ind(control_scores, experimental_scores)\n",
    "print(\"t-statistic:\", t_statistic)\n",
    "print(\"p-value:\", p_value)\n"
   ]
  },
  {
   "cell_type": "code",
   "execution_count": 18,
   "id": "2539c6c1",
   "metadata": {},
   "outputs": [
    {
     "name": "stdout",
     "output_type": "stream",
     "text": [
      "   Multiple Comparison of Means - Tukey HSD, FWER=0.05   \n",
      "=========================================================\n",
      " group1    group2    meandiff p-adj  lower  upper  reject\n",
      "---------------------------------------------------------\n",
      "Control Experimental   5.0818 0.0084 1.3302 8.8333   True\n",
      "---------------------------------------------------------\n"
     ]
    }
   ],
   "source": [
    "from statsmodels.stats.multicomp import pairwise_tukeyhsd\n",
    "\n",
    "# create data\n",
    "control_scores = np.random.normal(70, 10, 50) # mean=70, sd=10, n=50\n",
    "experimental_scores = np.random.normal(75, 10, 50) # mean=75, sd=10, n=50\n",
    "\n",
    "# combine data and group labels\n",
    "all_scores = np.concatenate([control_scores, experimental_scores])\n",
    "groups = np.array([\"Control\"]*50 + [\"Experimental\"]*50)\n",
    "\n",
    "# conduct Tukey's HSD test\n",
    "tukey_results = pairwise_tukeyhsd(all_scores, groups, alpha=0.05)\n",
    "print(tukey_results)\n"
   ]
  },
  {
   "cell_type": "markdown",
   "id": "d4d0c54f",
   "metadata": {},
   "source": [
    "### Q12. A researcher wants to know if there are any significant differences in the average daily sales of three retail stores: Store A, Store B, and Store C. They randomly select 30 days and record the sales for each store on those days. Conduct a repeated measures ANOVA using Python to determine if there are any significant differences in sales between the three stores. If the results are significant, follow up with a post- hoc test to determine which store(s) differ significantly from each other."
   ]
  },
  {
   "cell_type": "code",
   "execution_count": 20,
   "id": "2e92e2b4",
   "metadata": {},
   "outputs": [
    {
     "name": "stdout",
     "output_type": "stream",
     "text": [
      "               Anova\n",
      "===================================\n",
      "      F Value Num DF  Den DF Pr > F\n",
      "-----------------------------------\n",
      "Store 84.9781 2.0000 58.0000 0.0000\n",
      "===================================\n",
      "\n",
      "Multiple Comparison of Means - Tukey HSD, FWER=0.05 \n",
      "====================================================\n",
      "group1 group2 meandiff p-adj   lower   upper  reject\n",
      "----------------------------------------------------\n",
      "     A      B  25.1754    0.0 19.5736 30.7771   True\n",
      "     A      C  31.3929    0.0 25.7911 36.9946   True\n",
      "     B      C   6.2175 0.0259  0.6158 11.8192   True\n",
      "----------------------------------------------------\n"
     ]
    }
   ],
   "source": [
    "import pandas as pd\n",
    "from statsmodels.stats.anova import AnovaRM\n",
    "from statsmodels.stats.multicomp import pairwise_tukeyhsd\n",
    "# create data\n",
    "sales = pd.DataFrame({\n",
    "    'Day': list(range(1, 31)) * 3,\n",
    "    'Store': ['A'] * 30 + ['B'] * 30 + ['C'] * 30,\n",
    "    'Sales': np.concatenate([\n",
    "        np.random.normal(100, 10, 30),\n",
    "        np.random.normal(120, 10, 30),\n",
    "        np.random.normal(130, 10, 30)\n",
    "    ])\n",
    "})\n",
    "\n",
    "# conduct repeated measures ANOVA\n",
    "aovrm = AnovaRM(sales, 'Sales', 'Day', within=['Store'])\n",
    "res = aovrm.fit()\n",
    "print(res.summary())\n",
    "\n",
    "# follow up with post-hoc test\n",
    "posthoc = pairwise_tukeyhsd(sales['Sales'], sales['Store'])\n",
    "print(posthoc.summary())\n"
   ]
  },
  {
   "cell_type": "code",
   "execution_count": null,
   "id": "6fb44822",
   "metadata": {},
   "outputs": [],
   "source": []
  }
 ],
 "metadata": {
  "kernelspec": {
   "display_name": "Python 3 (ipykernel)",
   "language": "python",
   "name": "python3"
  },
  "language_info": {
   "codemirror_mode": {
    "name": "ipython",
    "version": 3
   },
   "file_extension": ".py",
   "mimetype": "text/x-python",
   "name": "python",
   "nbconvert_exporter": "python",
   "pygments_lexer": "ipython3",
   "version": "3.9.13"
  }
 },
 "nbformat": 4,
 "nbformat_minor": 5
}
