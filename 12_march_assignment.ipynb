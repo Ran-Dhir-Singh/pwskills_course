{
 "cells": [
  {
   "cell_type": "markdown",
   "id": "3beb92bc",
   "metadata": {},
   "source": [
    "### Q1. Calculate the 95% confidence interval for a sample of data with a mean of 50 and a standard deviation of 5 using Python. Interpret the results."
   ]
  },
  {
   "cell_type": "code",
   "execution_count": 1,
   "id": "dbd1069c",
   "metadata": {},
   "outputs": [
    {
     "name": "stdout",
     "output_type": "stream",
     "text": [
      "95% Confidence Interval: (48.58, 51.42)\n"
     ]
    }
   ],
   "source": [
    "from scipy import stats\n",
    "import numpy as np\n",
    "\n",
    "# Sample mean and standard deviation\n",
    "sample_mean = 50\n",
    "sample_std = 5\n",
    "\n",
    "# Sample size\n",
    "n = 50\n",
    "\n",
    "# Degrees of freedom\n",
    "df = n - 1\n",
    "\n",
    "# Calculate the standard error of the mean\n",
    "sem = sample_std / np.sqrt(n)\n",
    "\n",
    "# Calculate the t-value for a 95% confidence interval\n",
    "t = stats.t.ppf(0.975, df)\n",
    "\n",
    "# Calculate the confidence interval\n",
    "lower_ci = sample_mean - t * sem\n",
    "upper_ci = sample_mean + t * sem\n",
    "\n",
    "print(f\"95% Confidence Interval: ({lower_ci:.2f}, {upper_ci:.2f})\")\n"
   ]
  },
  {
   "cell_type": "markdown",
   "id": "94f1b0bb",
   "metadata": {},
   "source": [
    "### Q2. Conduct a chi-square goodness of fit test to determine if the distribution of colors of M&Ms in a bag matches the expected distribution of 20% blue, 20% orange, 20% green, 10% yellow, 10% red, and 20% brown. Use Python to perform the test with a significance level of 0.05."
   ]
  },
  {
   "cell_type": "code",
   "execution_count": 13,
   "id": "69f05f8d",
   "metadata": {},
   "outputs": [
    {
     "name": "stdout",
     "output_type": "stream",
     "text": [
      "Chi-square statistic: 2.40\n",
      "P-value: 0.7915\n",
      "The distribution of colors in the bag of M&Ms is not significantly different from the expected distribution.\n"
     ]
    }
   ],
   "source": [
    "import numpy as np\n",
    "from scipy.stats import chisquare\n",
    "\n",
    "# observed frequencies of colors in a bag of M&Ms\n",
    "observed = np.array([20, 24, 16, 8, 12, 20])\n",
    "\n",
    "# expected frequencies of colors in a bag of M&Ms\n",
    "expected = np.array([.2, .2, .2, .1, .1, .2]) * sum(observed)\n",
    "\n",
    "# perform chi-square goodness of fit test\n",
    "chi_sq, p = chisquare(observed, expected)\n",
    "\n",
    "# print results\n",
    "print(f\"Chi-square statistic: {chi_sq:.2f}\")\n",
    "print(f\"P-value: {p:.4f}\")\n",
    "\n",
    "if p < 0.05:\n",
    "    print(\"The distribution of colors in the bag of M&Ms is significantly different from the expected distribution.\")\n",
    "else:\n",
    "    print(\"The distribution of colors in the bag of M&Ms is not significantly different from the expected distribution.\")\n",
    "\n"
   ]
  },
  {
   "cell_type": "markdown",
   "id": "1871ab6a",
   "metadata": {},
   "source": [
    "### Q3. Use Python to calculate the chi-square statistic and p-value for a contingency table with the following data:  \n",
    "\n",
    "\n",
    "               Group A  Group B\n",
    "    Outcome 1     20      15\n",
    "    Outcome 2     10      25\n",
    "    Outcome 3     15      20"
   ]
  },
  {
   "cell_type": "code",
   "execution_count": 14,
   "id": "52674fea",
   "metadata": {},
   "outputs": [
    {
     "name": "stdout",
     "output_type": "stream",
     "text": [
      "Chi-square statistic: 5.83\n",
      "P-value: 0.0541\n"
     ]
    }
   ],
   "source": [
    "import numpy as np\n",
    "from scipy.stats import chi2_contingency\n",
    "\n",
    "# create contingency table\n",
    "observed = np.array([[20, 15], [10, 25], [15, 20]])\n",
    "\n",
    "# perform chi-square test\n",
    "chi_sq, p, dof, expected = chi2_contingency(observed)\n",
    "\n",
    "# print results\n",
    "print(f\"Chi-square statistic: {chi_sq:.2f}\")\n",
    "print(f\"P-value: {p:.4f}\")\n"
   ]
  },
  {
   "cell_type": "markdown",
   "id": "cbca9757",
   "metadata": {},
   "source": [
    "The `null hypothesis` for this test is that there is no association between the groups and outcomes\n",
    "\n",
    "The `alternative hypothesis`  is that there is an association.\n",
    "\n",
    "The output of the test gives a `chi-square statistic of 5.83` and a `p-value of 0.0541`. Since the `p-value is less than the significance level of 0.05`, we can `accept the null hypothesis` and conclude that there is `not a significant association between the groups and outcomes`."
   ]
  },
  {
   "cell_type": "markdown",
   "id": "e65db60c",
   "metadata": {},
   "source": [
    "### Q4. A study of the prevalence of smoking in a population of 500 individuals found that 60 individuals smoked. Use Python to calculate the 95% confidence interval for the true proportion of individuals in the population who smoke."
   ]
  },
  {
   "cell_type": "code",
   "execution_count": 15,
   "id": "7d4e0085",
   "metadata": {},
   "outputs": [
    {
     "name": "stdout",
     "output_type": "stream",
     "text": [
      "95% Confidence interval: [0.0944, 0.1514]\n"
     ]
    }
   ],
   "source": [
    "from statsmodels.stats.proportion import proportion_confint\n",
    "\n",
    "# sample size and number of smokers\n",
    "n = 500\n",
    "x = 60\n",
    "\n",
    "# calculate confidence interval\n",
    "ci_low, ci_high = proportion_confint(x, n, alpha=0.05, method='wilson')\n",
    "\n",
    "# print results\n",
    "print(f\"95% Confidence interval: [{ci_low:.4f}, {ci_high:.4f}]\")\n"
   ]
  },
  {
   "cell_type": "markdown",
   "id": "3b78e99c",
   "metadata": {},
   "source": [
    "### Q5. Calculate the 90% confidence interval for a sample of data with a mean of 75 and a standard deviation of 12 using Python. Interpret the results."
   ]
  },
  {
   "cell_type": "code",
   "execution_count": 17,
   "id": "307de54e",
   "metadata": {},
   "outputs": [
    {
     "name": "stdout",
     "output_type": "stream",
     "text": [
      "90% Confidence interval: [72.21, 77.79]\n"
     ]
    }
   ],
   "source": [
    "import scipy.stats as stats\n",
    "\n",
    "# sample mean and standard deviation\n",
    "sample_mean = 75\n",
    "sample_std = 12\n",
    "\n",
    "# sample size\n",
    "n = 50\n",
    "\n",
    "# calculate confidence interval\n",
    "ci_low, ci_high = stats.norm.interval(confidence=0.90, loc=sample_mean, scale=sample_std / n**0.5)\n",
    "\n",
    "# print results\n",
    "print(f\"90% Confidence interval: [{ci_low:.2f}, {ci_high:.2f}]\")\n"
   ]
  },
  {
   "cell_type": "markdown",
   "id": "f021bf8d",
   "metadata": {},
   "source": [
    "This indicates that we are 90% confident that the true population mean falls within the interval of 72.21 to 77.79. Therefore, we can say that with 90% confidence, the true population mean is within this range based on the given sample data."
   ]
  },
  {
   "cell_type": "markdown",
   "id": "a45a971b",
   "metadata": {},
   "source": [
    "### Q6. Use Python to plot the chi-square distribution with 10 degrees of freedom. Label the axes and shade the area corresponding to a chi-square statistic of 15."
   ]
  },
  {
   "cell_type": "code",
   "execution_count": 18,
   "id": "548feabf",
   "metadata": {},
   "outputs": [
    {
     "data": {
      "image/png": "[encoded data removed]",
      "text/plain": [
       "<Figure size 640x480 with 1 Axes>"
      ]
     },
     "metadata": {},
     "output_type": "display_data"
    }
   ],
   "source": [
    "import numpy as np\n",
    "import scipy.stats as stats\n",
    "import matplotlib.pyplot as plt\n",
    "\n",
    "# define degrees of freedom\n",
    "df = 10\n",
    "\n",
    "# create x-axis values\n",
    "x = np.linspace(0, 30, 500)\n",
    "\n",
    "# create chi-square distribution with df degrees of freedom\n",
    "chi2 = stats.chi2(df)\n",
    "\n",
    "# plot chi-square distribution\n",
    "plt.plot(x, chi2.pdf(x), 'b-', lw=2)\n",
    "\n",
    "# shade area corresponding to chi-square statistic of 15\n",
    "x_shade = np.linspace(15, 30, 100)\n",
    "plt.fill_between(x_shade, chi2.pdf(x_shade), color='blue', alpha=0.3)\n",
    "\n",
    "# label x-axis and y-axis\n",
    "plt.xlabel('Chi-square statistic')\n",
    "plt.ylabel('Probability density')\n",
    "\n",
    "# show plot\n",
    "plt.show()\n"
   ]
  },
  {
   "cell_type": "markdown",
   "id": "1fdd06ff",
   "metadata": {},
   "source": [
    "### Q7. A random sample of 1000 people was asked if they preferred Coke or Pepsi. Of the sample, 520 preferred Coke. Calculate a 99% confidence interval for the true proportion of people in the population who prefer Coke."
   ]
  },
  {
   "cell_type": "code",
   "execution_count": 19,
   "id": "23af414f",
   "metadata": {},
   "outputs": [
    {
     "name": "stdout",
     "output_type": "stream",
     "text": [
      "99% confidence interval: (0.4793051576779699, 0.5606948423220302)\n"
     ]
    }
   ],
   "source": [
    "import numpy as np\n",
    "import scipy.stats as stats\n",
    "\n",
    "# sample size\n",
    "n = 1000\n",
    "\n",
    "# number of people who prefer Coke\n",
    "x = 520\n",
    "\n",
    "# sample proportion\n",
    "p_hat = x / n\n",
    "\n",
    "# z-score for 99% confidence level\n",
    "z = stats.norm.ppf(0.995)   # 0.995 corresponds to (1 + 0.99) / 2\n",
    "\n",
    "# calculate confidence interval\n",
    "CI = (p_hat - z * np.sqrt(p_hat * (1 - p_hat) / n),\n",
    "      p_hat + z * np.sqrt(p_hat * (1 - p_hat) / n))\n",
    "\n",
    "print(f\"99% confidence interval: {CI}\")\n"
   ]
  },
  {
   "cell_type": "markdown",
   "id": "591607df",
   "metadata": {},
   "source": [
    "### Q8. A researcher hypothesizes that a coin is biased towards tails. They flip the coin 100 times and observe 45 tails. Conduct a chi-square goodness of fit test to determine if the observed frequencies match the expected frequencies of a fair coin. Use a significance level of 0.05.\n",
    "\n",
    "To conduct a chi-square goodness of fit test to determine if the observed frequencies match the expected frequencies of a fair coin, we need to follow these steps:\n",
    "\n",
    "1. Define the null and alternative hypotheses:\n",
    "\n",
    "    * Null hypothesis (H0): The coin is fair, and the observed frequencies match the expected frequencies of a fair coin.\n",
    "    * Alternative hypothesis (Ha): The coin is biased towards tails, and the observed frequencies do not match the expected frequencies of a fair coin.\n",
    "2. Choose a significance level (alpha) of 0.05.\n",
    "\n",
    "3. Determine the expected frequencies under the null hypothesis. For a fair coin, the expected frequencies of heads and tails are both 50 out of 100 flips.\n",
    "\n",
    "4. Calculate the test statistic (chi-square) using the formula:\n",
    "\n",
    "    X^2 = sum((O - E)^2 / E)\n",
    "    \n",
    "    where O is the observed frequency, E is the expected frequency, and the sum is taken over all categories.\n",
    "\n",
    "5. Determine the degrees of freedom (df) as (number of categories - 1).\n",
    "\n",
    "6. Calculate the p-value using the chi-square distribution with df degrees of freedom.\n",
    "\n",
    "7. Compare the p-value to the significance level. If p-value < alpha, reject the null hypothesis and conclude that the observed frequencies do not match the expected frequencies of a fair coin."
   ]
  },
  {
   "cell_type": "code",
   "execution_count": 20,
   "id": "893bf98e",
   "metadata": {},
   "outputs": [
    {
     "name": "stdout",
     "output_type": "stream",
     "text": [
      "Test statistic: 1.0000\n",
      "p-value: 0.3173\n",
      "Degrees of freedom: 1\n",
      "Fail to reject null hypothesis\n"
     ]
    }
   ],
   "source": [
    "import numpy as np\n",
    "import scipy.stats as stats\n",
    "\n",
    "# observed frequencies\n",
    "observed = np.array([55, 45])\n",
    "\n",
    "# expected frequencies under null hypothesis\n",
    "expected = np.array([50, 50])\n",
    "\n",
    "# calculate test statistic\n",
    "chi2, p = stats.chisquare(observed, expected)\n",
    "\n",
    "# calculate degrees of freedom\n",
    "df = len(observed) - 1\n",
    "\n",
    "# print results\n",
    "print(f\"Test statistic: {chi2:.4f}\")\n",
    "print(f\"p-value: {p:.4f}\")\n",
    "print(f\"Degrees of freedom: {df}\")\n",
    "\n",
    "# check if null hypothesis should be rejected\n",
    "alpha = 0.05\n",
    "if p < alpha:\n",
    "    print(\"Reject null hypothesis\")\n",
    "else:\n",
    "    print(\"Fail to reject null hypothesis\")\n"
   ]
  },
  {
   "cell_type": "markdown",
   "id": "bdba3c18",
   "metadata": {},
   "source": [
    "### Q9. A study was conducted to determine if there is an association between smoking status (smoker or non-smoker) and lung cancer diagnosis (yes or no). The results are shown in the contingency table below. Conduct a chi-square test for independence to determine if there is a significant association between smoking status and lung cancer diagnosis.\n",
    "\n",
    "                Lung Cancer:Yes       Lung Cancer:No\n",
    "    Smoker         60                      140\n",
    "    Non-smoker     30                      170\n",
    "    \n",
    "    Use a significance level of 0.05.\n",
    "    \n",
    "    \n",
    "    \n",
    "* Null hypothesis (H0): There is no association between smoking status and lung cancer diagnosis.\n",
    "* Alternative hypothesis (Ha): There is an association between smoking status and lung cancer diagnosis.\n",
    " "
   ]
  },
  {
   "cell_type": "code",
   "execution_count": 21,
   "id": "b77f6168",
   "metadata": {},
   "outputs": [
    {
     "name": "stdout",
     "output_type": "stream",
     "text": [
      "Test statistic: 12.0573\n",
      "p-value: 0.0005\n",
      "Degrees of freedom: 1\n",
      "Reject null hypothesis\n"
     ]
    }
   ],
   "source": [
    "import numpy as np\n",
    "import scipy.stats as stats\n",
    "\n",
    "# observed frequencies\n",
    "observed = np.array([[60, 140], [30, 170]])\n",
    "\n",
    "# calculate expected frequencies assuming independence\n",
    "row_totals = observed.sum(axis=1)\n",
    "col_totals = observed.sum(axis=0)\n",
    "total = observed.sum()\n",
    "expected = np.outer(row_totals, col_totals) / total\n",
    "\n",
    "# calculate test statistic\n",
    "chi2, p, _, _ = stats.chi2_contingency(observed)\n",
    "\n",
    "# calculate degrees of freedom\n",
    "df = (len(row_totals) - 1) * (len(col_totals) - 1)\n",
    "\n",
    "# print results\n",
    "print(f\"Test statistic: {chi2:.4f}\")\n",
    "print(f\"p-value: {p:.4f}\")\n",
    "print(f\"Degrees of freedom: {df}\")\n",
    "\n",
    "# check if null hypothesis should be rejected\n",
    "alpha = 0.05\n",
    "if p < alpha:\n",
    "    print(\"Reject null hypothesis\")\n",
    "else:\n",
    "    print(\"Fail to reject null hypothesis\")\n"
   ]
  },
  {
   "cell_type": "markdown",
   "id": "9b31fd16",
   "metadata": {},
   "source": [
    "### Q10. A study was conducted to determine if the proportion of people who prefer milk chocolate, dark chocolate, or white chocolate is different in the U.S. versus the U.K. A random sample of 500 people from the U.S. and a random sample of 500 people from the U.K. were surveyed. The results are shown in the contingency table below. Conduct a chi-square test for independence to determine if there is a significant association between chocolate preference and country of origin.\n",
    "\n",
    "                Milk Chocolate   Dark Chocolate  White Chocolate\n",
    "    U.S. (n=500)        200         150            150\n",
    "    U.K. (n=500)        225         175            100\n",
    "    \n",
    "Use a significance level of 0.01.\n",
    "\n",
    "\n",
    "* Null hypothesis: There is no association between chocolate preference and country of origin.\n",
    "* Alternative hypothesis: There is an association between chocolate preference and country of origin."
   ]
  },
  {
   "cell_type": "code",
   "execution_count": 22,
   "id": "0d8de0af",
   "metadata": {},
   "outputs": [
    {
     "name": "stdout",
     "output_type": "stream",
     "text": [
      "Chi-square test statistic:  13.393665158371041\n",
      "Degrees of freedom:  2\n",
      "P-value:  0.0012348168997745918\n"
     ]
    }
   ],
   "source": [
    "import numpy as np\n",
    "from scipy.stats import chi2_contingency\n",
    "\n",
    "observed = np.array([[200, 150, 150], [225, 175, 100]])\n",
    "expected = np.array([[212.5, 162.5, 125], [212.5, 162.5, 125]])\n",
    "\n",
    "chi2, p, dof, expected = chi2_contingency(observed)\n",
    "\n",
    "print(\"Chi-square test statistic: \", chi2)\n",
    "print(\"Degrees of freedom: \", dof)\n",
    "print(\"P-value: \", p)\n"
   ]
  },
  {
   "cell_type": "markdown",
   "id": "a5969f44",
   "metadata": {},
   "source": [
    "The p-value is very small (p < 0.01), which means we can reject the null hypothesis and conclude that there is a significant association between chocolate preference and country of origin."
   ]
  },
  {
   "cell_type": "markdown",
   "id": "88d4e783",
   "metadata": {},
   "source": [
    "### Q11. A random sample of 30 people was selected from a population with an unknown mean and standard deviation. The sample mean was found to be 72 and the sample standard deviation was found to be 10. Conduct a hypothesis test to determine if the population mean is significantly different from 70. Use a significance level of 0.05.\n",
    "\n",
    "We are given:\n",
    "\n",
    "* Sample size (n) = 30\n",
    "* Sample mean (x̄) = 72\n",
    "* Sample standard deviation (s) = 10\n",
    "* Population mean (μ0) = 70\n",
    "* Significance level (α) = 0.05\n",
    "\n",
    "Since the population standard deviation is unknown and the sample size is less than 30, we will use a t-test for the population mean.\n",
    "\n",
    "* The null hypothesis is that the population mean is equal to 70:\n",
    "\n",
    "    H0: μ = μ0 = 70\n",
    "\n",
    "* The alternative hypothesis is that the population mean is significantlydifferent from 70:\n",
    "\n",
    "\n",
    "    Ha: μ ≠ μ0"
   ]
  },
  {
   "cell_type": "code",
   "execution_count": 23,
   "id": "b1046c30",
   "metadata": {},
   "outputs": [
    {
     "name": "stdout",
     "output_type": "stream",
     "text": [
      "p-value: 0.28233623728606977\n"
     ]
    }
   ],
   "source": [
    "import scipy.stats as stats\n",
    "\n",
    "t_stat = (72 - 70) / (10 / 30**0.5)\n",
    "p_value = stats.t.sf(abs(t_stat), df=29) * 2\n",
    "print(\"p-value:\", p_value)\n"
   ]
  },
  {
   "cell_type": "markdown",
   "id": "0c004de2",
   "metadata": {},
   "source": [
    "The resulting p-value is 0.2823, which is greater than the significance level of 0.05. Therefore, we fail to reject the null hypothesis.\n",
    "\n",
    "\n",
    "\n"
   ]
  },
  {
   "cell_type": "code",
   "execution_count": null,
   "id": "dab191d0",
   "metadata": {},
   "outputs": [],
   "source": []
  }
 ],
 "metadata": {
  "kernelspec": {
   "display_name": "Python 3 (ipykernel)",
   "language": "python",
   "name": "python3"
  },
  "language_info": {
   "codemirror_mode": {
    "name": "ipython",
    "version": 3
   },
   "file_extension": ".py",
   "mimetype": "text/x-python",
   "name": "python",
   "nbconvert_exporter": "python",
   "pygments_lexer": "ipython3",
   "version": "3.9.13"
  }
 },
 "nbformat": 4,
 "nbformat_minor": 5
}
