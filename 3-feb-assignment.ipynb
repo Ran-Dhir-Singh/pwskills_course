{
 "cells": [
  {
   "cell_type": "markdown",
   "id": "cfaf9e1e",
   "metadata": {},
   "source": [
    "#### 1. Which keyword is used to create function? Create a function to return a list of odd numbers in the range of 1 to 25\n",
    "\n",
    "\"def\" keywoard is used to create functions"
   ]
  },
  {
   "cell_type": "code",
   "execution_count": 1,
   "id": "8f6c19a5",
   "metadata": {},
   "outputs": [
    {
     "name": "stdout",
     "output_type": "stream",
     "text": [
      "[1, 3, 5, 7, 9, 11, 13, 15, 17, 19, 21, 23]\n"
     ]
    }
   ],
   "source": [
    "def odd_numbers(n):\n",
    "    list_odd = []\n",
    "    for i in range(1, n):\n",
    "        if i%2 != 0:\n",
    "            list_odd.append(i)\n",
    "        else:\n",
    "            pass\n",
    "    return list_odd\n",
    "\n",
    "print(odd_numbers(25))"
   ]
  },
  {
   "cell_type": "markdown",
   "id": "2035ec90",
   "metadata": {},
   "source": [
    "#### 2. Why *args and **kwargs is used in some functions? Create a function each for *args and **kwargs to demonsrate their use\n",
    "\n",
    "*args and ***kwargs are used to  allow function to accept valriable length arguments.\n",
    "*args is used for non-keyword arguments which collects them in a tuple form\n",
    "***kwargs is used for keywoard arguments dictionary and stores them in dictionary form in key value pairs "
   ]
  },
  {
   "cell_type": "code",
   "execution_count": 4,
   "id": "b4c7924b",
   "metadata": {},
   "outputs": [
    {
     "name": "stdout",
     "output_type": "stream",
     "text": [
      "(1, 2, 4, 5, 6, 'd', 'g')\n",
      "{'name': 'Abc', 'age': 25, 'mob': 9874563210}\n"
     ]
    }
   ],
   "source": [
    "def funct1(*args):\n",
    "    return args\n",
    "\n",
    "print(funct1(1,2,4,5,6,'d','g'))\n",
    "\n",
    "def funct2(**kwargs):\n",
    "    return kwargs\n",
    "\n",
    "print(funct2(name=\"Abc\", age=25, mob=9874563210))"
   ]
  },
  {
   "cell_type": "markdown",
   "id": "6fbc40f4",
   "metadata": {},
   "source": [
    "#### 3. What is an iterator in python? Name the method used to initialize the iterator object and the method used for iteration. Use the methods to print the first five elements of the given list\n",
    "Iterators are methods that iterate over collections like lists, tuples, etc. Using an iterator method, we can loop through an object and return its elements.\n",
    "\n",
    "`__iter__()` is used to initialize an iterator\n",
    "\n",
    "`__next__()` is used for iteration"
   ]
  },
  {
   "cell_type": "code",
   "execution_count": 5,
   "id": "ea12b3e5",
   "metadata": {},
   "outputs": [
    {
     "name": "stdout",
     "output_type": "stream",
     "text": [
      "2\n",
      "4\n",
      "6\n",
      "8\n",
      "10\n"
     ]
    }
   ],
   "source": [
    "list1 = [2,4,6,8,10,12,14,16,18,20]\n",
    "iteratable = iter(list1)\n",
    "print(next(iteratable))\n",
    "print(next(iteratable))\n",
    "print(next(iteratable))\n",
    "print(next(iteratable))\n",
    "print(next(iteratable))"
   ]
  },
  {
   "cell_type": "markdown",
   "id": "99d8e7d1",
   "metadata": {},
   "source": [
    "#### 4. What is a generator function in python? Why yield keyword is used? GIve an example of a generator function\n",
    "\n",
    "Generator is a function that returns an iterator that produces a sequence of values when iterated over.\n",
    "Generators are useful when we want to produce a large sequence of values, but we don't want to store all of them in memory at once.\n",
    "\n",
    "Yield keyword is used to produce a value from the generator and pause the generator function's execution until the next value is requested."
   ]
  },
  {
   "cell_type": "code",
   "execution_count": 6,
   "id": "fdcd6814",
   "metadata": {},
   "outputs": [
    {
     "name": "stdout",
     "output_type": "stream",
     "text": [
      "0\n",
      "1\n",
      "2\n",
      "3\n",
      "4\n",
      "5\n",
      "6\n",
      "7\n",
      "8\n",
      "9\n"
     ]
    }
   ],
   "source": [
    "def generate1(num):\n",
    "    for i in range(num):\n",
    "        yield i\n",
    "\n",
    "for n in generate1(10):\n",
    "    print(n)"
   ]
  },
  {
   "cell_type": "markdown",
   "id": "c98f0b35",
   "metadata": {},
   "source": [
    "#### 5. Create a generator function for prime numbers less than 1000. Use the next() method to print the first 20 prime numbers"
   ]
  },
  {
   "cell_type": "code",
   "execution_count": 32,
   "id": "f743aef3",
   "metadata": {},
   "outputs": [
    {
     "name": "stdout",
     "output_type": "stream",
     "text": [
      "<generator object generate_prime at 0x0000024B3CB71F90>\n",
      "2\n",
      "3\n",
      "5\n",
      "7\n",
      "11\n",
      "13\n",
      "17\n",
      "19\n",
      "23\n",
      "29\n",
      "31\n",
      "37\n",
      "41\n",
      "43\n",
      "47\n",
      "53\n",
      "59\n",
      "61\n",
      "67\n",
      "71\n"
     ]
    }
   ],
   "source": [
    "def generate_prime(number):\n",
    "    for num in range(0,number):\n",
    "        if num>1:\n",
    "            for i in range(2,num):\n",
    "                if num%i == 0:\n",
    "                    break\n",
    "            else:\n",
    "                yield num\n",
    "\n",
    "prime_num = generate_prime(1000)\n",
    "iter_prime = iter(prime_num)\n",
    "print(iter_prime)\n",
    "for i in range(20):\n",
    "    print(next(iter_prime))   "
   ]
  },
  {
   "cell_type": "code",
   "execution_count": null,
   "id": "77d375e2",
   "metadata": {},
   "outputs": [],
   "source": []
  },
  {
   "cell_type": "code",
   "execution_count": null,
   "id": "07dc8e23",
   "metadata": {},
   "outputs": [],
   "source": []
  }
 ],
 "metadata": {
  "kernelspec": {
   "display_name": "Python 3 (ipykernel)",
   "language": "python",
   "name": "python3"
  },
  "language_info": {
   "codemirror_mode": {
    "name": "ipython",
    "version": 3
   },
   "file_extension": ".py",
   "mimetype": "text/x-python",
   "name": "python",
   "nbconvert_exporter": "python",
   "pygments_lexer": "ipython3",
   "version": "3.9.13"
  }
 },
 "nbformat": 4,
 "nbformat_minor": 5
}
