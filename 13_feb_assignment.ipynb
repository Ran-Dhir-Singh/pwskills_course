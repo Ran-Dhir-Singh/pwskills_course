{
 "cells": [
  {
   "cell_type": "markdown",
   "id": "cc3e2158",
   "metadata": {},
   "source": [
    "### Q1. Explain why we have to use the Exception class while creating a Custom Exception.\n",
    "Note: Here Exception class refers to the base class for all the exceptions.\n",
    "\n",
    "The Exception class in Python is the base class for all built-in exceptions. When creating a custom exception, it is best practice to subclass the Exception class to ensure that the custom exception inherits all of the functionality of the base Exception class. This makes it easier to handle the custom exception within the code, as it behaves like a standard built-in exception."
   ]
  },
  {
   "cell_type": "markdown",
   "id": "0ce88bf4",
   "metadata": {},
   "source": [
    "### Q2. Write a python program to print Python Exception Hierarchy."
   ]
  },
  {
   "cell_type": "code",
   "execution_count": 1,
   "id": "73314949",
   "metadata": {},
   "outputs": [
    {
     "name": "stdout",
     "output_type": "stream",
     "text": [
      "BaseException\n",
      "  - Exception\n",
      "  - ArithmeticError\n",
      "  - BufferError\n",
      "  - LookupError\n",
      "  - AssertionError\n",
      "  - AttributeError\n",
      "  - EOFError\n",
      "  - ImportError\n",
      "  - KeyboardInterrupt\n",
      "  - MemoryError\n",
      "  - NameError\n",
      "  - OSError\n",
      "  - ReferenceError\n",
      "  - RuntimeError\n",
      "  - StopIteration\n",
      "  - SyntaxError\n",
      "  - SystemError\n",
      "  - TypeError\n",
      "  - ValueError\n",
      "  - ZeroDivisionError\n",
      "  - FloatingPointError\n",
      "  - OverflowError\n",
      "  - Warning\n",
      "  - UserWarning\n",
      "  - DeprecationWarning\n",
      "  - PendingDeprecationWarning\n",
      "  - SyntaxWarning\n",
      "  - RuntimeWarning\n",
      "  - FutureWarning\n",
      "  - ImportWarning\n",
      "  - UnicodeWarning\n",
      "  - BytesWarning\n",
      "Exception\n",
      "  - ArithmeticError\n",
      "  - BufferError\n",
      "  - LookupError\n",
      "  - AssertionError\n",
      "  - AttributeError\n",
      "  - EOFError\n",
      "  - ImportError\n",
      "  - MemoryError\n",
      "  - NameError\n",
      "  - OSError\n",
      "  - ReferenceError\n",
      "  - RuntimeError\n",
      "  - StopIteration\n",
      "  - SyntaxError\n",
      "  - SystemError\n",
      "  - TypeError\n",
      "  - ValueError\n",
      "  - ZeroDivisionError\n",
      "  - FloatingPointError\n",
      "  - OverflowError\n",
      "  - Warning\n",
      "  - UserWarning\n",
      "  - DeprecationWarning\n",
      "  - PendingDeprecationWarning\n",
      "  - SyntaxWarning\n",
      "  - RuntimeWarning\n",
      "  - FutureWarning\n",
      "  - ImportWarning\n",
      "  - UnicodeWarning\n",
      "  - BytesWarning\n",
      "ArithmeticError\n",
      "  - ZeroDivisionError\n",
      "  - FloatingPointError\n",
      "  - OverflowError\n",
      "BufferError\n",
      "LookupError\n",
      "AssertionError\n",
      "AttributeError\n",
      "EOFError\n",
      "ImportError\n",
      "KeyboardInterrupt\n",
      "MemoryError\n",
      "NameError\n",
      "OSError\n",
      "ReferenceError\n",
      "RuntimeError\n",
      "StopIteration\n",
      "SyntaxError\n",
      "SystemError\n",
      "TypeError\n",
      "ValueError\n",
      "ZeroDivisionError\n",
      "FloatingPointError\n",
      "OverflowError\n",
      "Warning\n",
      "  - UserWarning\n",
      "  - DeprecationWarning\n",
      "  - PendingDeprecationWarning\n",
      "  - SyntaxWarning\n",
      "  - RuntimeWarning\n",
      "  - FutureWarning\n",
      "  - ImportWarning\n",
      "  - UnicodeWarning\n",
      "  - BytesWarning\n",
      "UserWarning\n",
      "DeprecationWarning\n",
      "PendingDeprecationWarning\n",
      "SyntaxWarning\n",
      "RuntimeWarning\n",
      "FutureWarning\n",
      "ImportWarning\n",
      "UnicodeWarning\n",
      "BytesWarning\n"
     ]
    }
   ],
   "source": [
    "class_hierarchy = [\n",
    "    BaseException,\n",
    "    Exception,\n",
    "    ArithmeticError,\n",
    "    BufferError,\n",
    "    LookupError,\n",
    "    AssertionError,\n",
    "    AttributeError,\n",
    "    EOFError,\n",
    "    ImportError,\n",
    "    KeyboardInterrupt,\n",
    "    MemoryError,\n",
    "    NameError,\n",
    "    OSError,\n",
    "    ReferenceError,\n",
    "    RuntimeError,\n",
    "    StopIteration,\n",
    "    SyntaxError,\n",
    "    SystemError,\n",
    "    TypeError,\n",
    "    ValueError,\n",
    "    ZeroDivisionError,\n",
    "    FloatingPointError,\n",
    "    OverflowError,\n",
    "    Warning,\n",
    "    UserWarning,\n",
    "    DeprecationWarning,\n",
    "    PendingDeprecationWarning,\n",
    "    SyntaxWarning,\n",
    "    RuntimeWarning,\n",
    "    FutureWarning,\n",
    "    ImportWarning,\n",
    "    UnicodeWarning,\n",
    "    BytesWarning,\n",
    "]\n",
    "\n",
    "for cls in class_hierarchy:\n",
    "    print(cls.__name__)\n",
    "    for sub_cls in class_hierarchy:\n",
    "        if issubclass(sub_cls, cls) and cls is not sub_cls:\n",
    "            print('  -', sub_cls.__name__)\n"
   ]
  },
  {
   "cell_type": "markdown",
   "id": "f6a7b609",
   "metadata": {},
   "source": [
    "### Q3. What errors are defined in the ArithmeticError class? Explain any two with an example.\n",
    "\n",
    "The ArithmeticError class is a base class for errors that occur during arithmetic operations in Python. It is a subclass of the Exception class, which is the base class for all exceptions in Python."
   ]
  },
  {
   "cell_type": "markdown",
   "id": "43297e0e",
   "metadata": {},
   "source": [
    "`ZeroDivisionError`: This error occurs when we try to divide a number by zero. For example:"
   ]
  },
  {
   "cell_type": "code",
   "execution_count": 2,
   "id": "cf274221",
   "metadata": {},
   "outputs": [
    {
     "ename": "ZeroDivisionError",
     "evalue": "division by zero",
     "output_type": "error",
     "traceback": [
      "\u001b[1;31m---------------------------------------------------------------------------\u001b[0m",
      "\u001b[1;31mZeroDivisionError\u001b[0m                         Traceback (most recent call last)",
      "Cell \u001b[1;32mIn[2], line 1\u001b[0m\n\u001b[1;32m----> 1\u001b[0m \u001b[38;5;241;43m5\u001b[39;49m\u001b[43m \u001b[49m\u001b[38;5;241;43m/\u001b[39;49m\u001b[43m \u001b[49m\u001b[38;5;241;43m0\u001b[39;49m\n",
      "\u001b[1;31mZeroDivisionError\u001b[0m: division by zero"
     ]
    }
   ],
   "source": [
    "5 / 0"
   ]
  },
  {
   "cell_type": "markdown",
   "id": "4f3bee60",
   "metadata": {},
   "source": [
    "`OverflowError`: This error occurs when we try to perform an arithmetic operation that results in a number that is too large to be represented in Python. For example:"
   ]
  },
  {
   "cell_type": "code",
   "execution_count": 4,
   "id": "6d886e9c",
   "metadata": {},
   "outputs": [
    {
     "ename": "OverflowError",
     "evalue": "math range error",
     "output_type": "error",
     "traceback": [
      "\u001b[1;31m---------------------------------------------------------------------------\u001b[0m",
      "\u001b[1;31mOverflowError\u001b[0m                             Traceback (most recent call last)",
      "Cell \u001b[1;32mIn[4], line 3\u001b[0m\n\u001b[0;32m      1\u001b[0m \u001b[38;5;28;01mimport\u001b[39;00m \u001b[38;5;21;01mmath\u001b[39;00m\n\u001b[1;32m----> 3\u001b[0m \u001b[43mmath\u001b[49m\u001b[38;5;241;43m.\u001b[39;49m\u001b[43mexp\u001b[49m\u001b[43m(\u001b[49m\u001b[38;5;241;43m1000\u001b[39;49m\u001b[43m)\u001b[49m\n",
      "\u001b[1;31mOverflowError\u001b[0m: math range error"
     ]
    }
   ],
   "source": [
    "import math\n",
    "\n",
    "math.exp(1000)"
   ]
  },
  {
   "cell_type": "markdown",
   "id": "a5ff2fbc",
   "metadata": {},
   "source": [
    "### Q4. Why LookupError class is used? Explain with an example KeyError and IndexError.\n",
    "\n",
    "The `LookupError` class is a base class for errors that occur when an index or key is not found in a sequence or mapping in Python. It is a subclass of the Exception class, which is the base class for all exceptions in Python."
   ]
  },
  {
   "cell_type": "markdown",
   "id": "0e6f96ac",
   "metadata": {},
   "source": [
    "`KeyError`: This error occurs when we try to access a dictionary key that does not exist. For example:"
   ]
  },
  {
   "cell_type": "code",
   "execution_count": 5,
   "id": "6f5a1ff1",
   "metadata": {},
   "outputs": [
    {
     "ename": "KeyError",
     "evalue": "'c'",
     "output_type": "error",
     "traceback": [
      "\u001b[1;31m---------------------------------------------------------------------------\u001b[0m",
      "\u001b[1;31mKeyError\u001b[0m                                  Traceback (most recent call last)",
      "Cell \u001b[1;32mIn[5], line 2\u001b[0m\n\u001b[0;32m      1\u001b[0m d \u001b[38;5;241m=\u001b[39m {\u001b[38;5;124m'\u001b[39m\u001b[38;5;124ma\u001b[39m\u001b[38;5;124m'\u001b[39m: \u001b[38;5;241m1\u001b[39m, \u001b[38;5;124m'\u001b[39m\u001b[38;5;124mb\u001b[39m\u001b[38;5;124m'\u001b[39m: \u001b[38;5;241m2\u001b[39m}\n\u001b[1;32m----> 2\u001b[0m \u001b[43md\u001b[49m\u001b[43m[\u001b[49m\u001b[38;5;124;43m'\u001b[39;49m\u001b[38;5;124;43mc\u001b[39;49m\u001b[38;5;124;43m'\u001b[39;49m\u001b[43m]\u001b[49m\n",
      "\u001b[1;31mKeyError\u001b[0m: 'c'"
     ]
    }
   ],
   "source": [
    "d = {'a': 1, 'b': 2}\n",
    "d['c']"
   ]
  },
  {
   "cell_type": "markdown",
   "id": "ce7eeb50",
   "metadata": {},
   "source": [
    "`IndexErro`: This error occurs when we try to access a sequence element that is out of range. For example:"
   ]
  },
  {
   "cell_type": "code",
   "execution_count": 6,
   "id": "a29794df",
   "metadata": {},
   "outputs": [
    {
     "ename": "IndexError",
     "evalue": "list index out of range",
     "output_type": "error",
     "traceback": [
      "\u001b[1;31m---------------------------------------------------------------------------\u001b[0m",
      "\u001b[1;31mIndexError\u001b[0m                                Traceback (most recent call last)",
      "Cell \u001b[1;32mIn[6], line 2\u001b[0m\n\u001b[0;32m      1\u001b[0m a \u001b[38;5;241m=\u001b[39m [\u001b[38;5;241m1\u001b[39m, \u001b[38;5;241m2\u001b[39m, \u001b[38;5;241m3\u001b[39m]\n\u001b[1;32m----> 2\u001b[0m \u001b[43ma\u001b[49m\u001b[43m[\u001b[49m\u001b[38;5;241;43m3\u001b[39;49m\u001b[43m]\u001b[49m\n",
      "\u001b[1;31mIndexError\u001b[0m: list index out of range"
     ]
    }
   ],
   "source": [
    "a = [1, 2, 3]\n",
    "a[3]"
   ]
  },
  {
   "cell_type": "markdown",
   "id": "47d1034c",
   "metadata": {},
   "source": [
    "### Q5.  Explain ImportError. What is ModuleNotFoundError?\n",
    "\n",
    "`ImportError` is an exception class in Python that is raised when an imported module, package, or object cannot be found or loaded successfully. This error can occur due to various reasons, such as the module/package is not installed, the module/package is installed but not available in the current Python environment, or there is a problem with the module/package code itself.\n",
    "\n",
    "The `ModuleNotFoundError` is a subclass of the ImportError class. It is raised when a module, package, or object cannot be found or loaded due to the module/package not being found in the current Python environment."
   ]
  },
  {
   "cell_type": "code",
   "execution_count": 7,
   "id": "570e7adb",
   "metadata": {},
   "outputs": [
    {
     "name": "stdout",
     "output_type": "stream",
     "text": [
      "The 'foo' module could not be found.\n"
     ]
    }
   ],
   "source": [
    "try:\n",
    "    import foo\n",
    "except ModuleNotFoundError:\n",
    "    print(\"The 'foo' module could not be found.\")\n"
   ]
  },
  {
   "cell_type": "markdown",
   "id": "efe34c9f",
   "metadata": {},
   "source": [
    "### Q6. List down some best practices for exception handling in python.\n",
    "\n",
    "Exception handling is an important aspect of writing robust and reliable Python code. Here are some best practices for exception handling in Python:\n",
    "\n",
    "1. Catch specific exceptions: Catch only the exceptions that you expect and can handle. Avoid using a bare except clause as it can catch unexpected exceptions and make it difficult to debug the code.\n",
    "\n",
    "2. Use multiple except blocks: Use multiple except blocks to catch different types of exceptions. This makes it easier to handle exceptions based on their specific type and take appropriate action.\n",
    "\n",
    "3. Use finally block: Use a finally block to ensure that critical resources are always cleaned up, regardless of whether an exception occurs or not.\n",
    "\n",
    "4. Provide useful error messages: Provide useful error messages that describe the problem and suggest possible solutions. This can help users debug the issue and fix the problem more easily.\n",
    "\n",
    "5. Avoid catching all exceptions: Avoid catching all exceptions unless absolutely necessary. Catching all exceptions can mask unexpected errors and make it difficult to debug the code.\n",
    "\n",
    "6. Use logging: Use a logging module to log errors and exceptions. This can help in debugging the code and identifying the root cause of the problem.\n",
    "\n",
    "7. Avoid using exceptions for flow control: Avoid using exceptions for flow control as it can make the code harder to read and debug. Use conditional statements instead to control the flow of the program.\n",
    "\n",
    "8. Use custom exceptions: Use custom exceptions to provide more specific error messages and make it easier to handle exceptions in a consistent way.\n",
    "\n",
    "9. Keep the try block small: Keep the try block as small as possible to reduce the risk of unexpected exceptions and make it easier to debug the code.\n",
    "\n",
    "10. Follow PEP 8 guidelines: Follow the PEP 8 guidelines for exception handling, including using lower-case names for exceptions and using the as keyword to assign the exception instance to a variable."
   ]
  },
  {
   "cell_type": "code",
   "execution_count": null,
   "id": "b50f73f5",
   "metadata": {},
   "outputs": [],
   "source": []
  }
 ],
 "metadata": {
  "kernelspec": {
   "display_name": "Python 3 (ipykernel)",
   "language": "python",
   "name": "python3"
  },
  "language_info": {
   "codemirror_mode": {
    "name": "ipython",
    "version": 3
   },
   "file_extension": ".py",
   "mimetype": "text/x-python",
   "name": "python",
   "nbconvert_exporter": "python",
   "pygments_lexer": "ipython3",
   "version": "3.9.13"
  }
 },
 "nbformat": 4,
 "nbformat_minor": 5
}
