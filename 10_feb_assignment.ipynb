{
 "cells": [
  {
   "cell_type": "markdown",
   "id": "8cc21494",
   "metadata": {},
   "source": [
    "### Q1. Which function is used to open a file? What are the different modes of opening a file? Explain each mode of file opening.\n",
    "\n",
    "The open() function is used to open a file. The open() function returns a file object that can be used to read, write, or append to the file.\n",
    "\n",
    "The mode parameter determines how the file will be opened, and there are several different modes available:\n",
    "\n",
    "`r (read mode)`: This mode is used to open a file for reading. If the file does not exist, an error will be raised. The file pointer is placed at the beginning of the file, and you can only read data from the file.\n",
    "\n",
    "`w (write mode)`: This mode is used to open a file for writing. If the file already exists, its contents will be deleted. If the file does not exist, a new file will be created. The file pointer is placed at the beginning of the file, and you can only write data to the file.\n",
    "\n",
    "`a (append mode)`: This mode is used to open a file for appending. If the file already exists, new data will be written to the end of the file. If the file does not exist, a new file will be created. The file pointer is placed at the end of the file, and you can only append data to the file.\n",
    "\n",
    "`x (exclusive creation mode)`: This mode is used to open a file for exclusive creation. If the file already exists, an error will be raised. If the file does not exist, a new file will be created. The file pointer is placed at the beginning of the file, and you can only write data to the file.\n",
    "\n",
    "`b (binary mode)`: This mode is used to open a file in binary mode, which is used for non-text files such as images or executables.\n",
    "\n",
    "`t (text mode)`: This mode is used to open a file in text mode, which is used for text files such as .txt files.\n",
    "\n",
    "`+ (read/write mode)`: This mode is used to open a file for both reading and writing.\n",
    "\n",
    "eg\n",
    "\n",
    "file_object = open(\"myfile.txt\", \"r\")"
   ]
  },
  {
   "cell_type": "markdown",
   "id": "8ba020f9",
   "metadata": {},
   "source": [
    "### Q2. Why close() function is used? Why is it important to close a file?\n",
    "\n",
    " `close()` function is used to close a file. When you are finished working with a file, it is important to close it using the close() function. \n",
    " \n",
    " It is important to close a file after you are finished working with it to ensure that all data is written to the file, the file handle is released, and the data is stored properly. If you do not close a file, you may encounter errors if you try to open the file again or if another program tries to access the file. Additionally, leaving a file open can tie up system resources and prevent other programs from accessing the file, which can cause performance issues."
   ]
  },
  {
   "cell_type": "markdown",
   "id": "31c3207e",
   "metadata": {},
   "source": [
    "### Q3. Write a python program to create a text file. Write ‘I want to become a Data Scientist’ in that file. Then close the file. Open this file and read the content of the file."
   ]
  },
  {
   "cell_type": "code",
   "execution_count": 1,
   "id": "0f7e82e7",
   "metadata": {},
   "outputs": [
    {
     "name": "stdout",
     "output_type": "stream",
     "text": [
      "I want to become a Data Scientist\n"
     ]
    }
   ],
   "source": [
    "# Open a file for writing\n",
    "file = open(\"data_scientist.txt\", \"w\")\n",
    "\n",
    "# Write a string to the file\n",
    "file.write(\"I want to become a Data Scientist\")\n",
    "\n",
    "# Close the file\n",
    "file.close()\n",
    "\n",
    "# Open the file for reading\n",
    "file = open(\"data_scientist.txt\", \"r\")\n",
    "\n",
    "# Read the contents of the file\n",
    "contents = file.read()\n",
    "\n",
    "# Close the file\n",
    "file.close()\n",
    "\n",
    "# Print the contents of the file\n",
    "print(contents)\n"
   ]
  },
  {
   "cell_type": "markdown",
   "id": "648c3f4a",
   "metadata": {},
   "source": [
    "### Q4. Explain the following with python code: read(), readline() and readlines()."
   ]
  },
  {
   "cell_type": "markdown",
   "id": "44db2359",
   "metadata": {},
   "source": [
    "`read()` method:\n",
    "The read() method reads the entire content of the file and returns it as a string. If you don't specify a parameter, it will read the entire file. If you specify a number as a parameter, it will read that many bytes from the file."
   ]
  },
  {
   "cell_type": "code",
   "execution_count": 2,
   "id": "9ab2ae31",
   "metadata": {},
   "outputs": [
    {
     "name": "stdout",
     "output_type": "stream",
     "text": [
      "I want to become a Data Scientist\n"
     ]
    }
   ],
   "source": [
    "# Open the file for reading\n",
    "file = open(\"data_scientist.txt\", \"r\")\n",
    "\n",
    "# Read the entire file\n",
    "contents = file.read()\n",
    "\n",
    "# Close the file\n",
    "file.close()\n",
    "\n",
    "# Print the contents of the file\n",
    "print(contents)\n"
   ]
  },
  {
   "cell_type": "markdown",
   "id": "448ae486",
   "metadata": {},
   "source": [
    "`readline()` method:\n",
    "The readline() method reads a single line from the file and returns it as a string. Each time you call the readline() method, it reads the next line of the file."
   ]
  },
  {
   "cell_type": "code",
   "execution_count": 3,
   "id": "ad185c70",
   "metadata": {},
   "outputs": [
    {
     "name": "stdout",
     "output_type": "stream",
     "text": [
      "I want to become a Data Scientist\n",
      "\n"
     ]
    }
   ],
   "source": [
    "# Open the file for reading\n",
    "file = open(\"data_scientist.txt\", \"r\")\n",
    "\n",
    "# Read the first line of the file\n",
    "line1 = file.readline()\n",
    "\n",
    "# Read the second line of the file\n",
    "line2 = file.readline()\n",
    "\n",
    "# Close the file\n",
    "file.close()\n",
    "\n",
    "# Print the lines of the file\n",
    "print(line1)\n",
    "print(line2)\n"
   ]
  },
  {
   "cell_type": "markdown",
   "id": "2f946961",
   "metadata": {},
   "source": [
    "`readlines()` method:\n",
    "The readlines() method reads all the lines of the file and returns them as a list of strings. Each line of the file becomes an element in the list."
   ]
  },
  {
   "cell_type": "code",
   "execution_count": 4,
   "id": "27ccd468",
   "metadata": {},
   "outputs": [
    {
     "name": "stdout",
     "output_type": "stream",
     "text": [
      "I want to become a Data Scientist\n"
     ]
    }
   ],
   "source": [
    "# Open the file for reading\n",
    "file = open(\"data_scientist.txt\", \"r\")\n",
    "\n",
    "# Read all the lines of the file\n",
    "lines = file.readlines()\n",
    "\n",
    "# Close the file\n",
    "file.close()\n",
    "\n",
    "# Print the lines of the file\n",
    "for line in lines:\n",
    "    print(line)\n"
   ]
  },
  {
   "cell_type": "markdown",
   "id": "12b97e8f",
   "metadata": {},
   "source": [
    "### Q5. Explain why with statement is used with open(). What is the advantage of using with statement and open() together?\n",
    "\n",
    "\n",
    "`with` statement is used to open and work with a file in a block. The advantage of using the with statement with the `open()` function is that it ensures that the file is closed properly after the block of code is executed, even if an error occurs during the execution of the code.\n",
    "\n",
    "When you use the with statement with the `open()` function, the file is automatically closed when the block of code is exited, even if an error occurs. This means that you don't need to worry about explicitly closing the file with the `close()` function, which can help to prevent resource leaks and other issues."
   ]
  },
  {
   "cell_type": "code",
   "execution_count": 5,
   "id": "95a2758b",
   "metadata": {},
   "outputs": [],
   "source": [
    "with open('data_scientist.txt', 'w') as f:\n",
    "    f.write('I want to become a Data Scientist')\n"
   ]
  },
  {
   "cell_type": "markdown",
   "id": "701fd21d",
   "metadata": {},
   "source": [
    "### Q6. Explain the write() and writelines() functions. Give a suitable example."
   ]
  },
  {
   "cell_type": "markdown",
   "id": "0a7d134a",
   "metadata": {},
   "source": [
    "`write()` function:\n",
    "The write() function is used to write a string of data to a file. It takes a single string as a parameter, and writes the string to the file at the current position of the file pointer. If the file does not exist, it will be created."
   ]
  },
  {
   "cell_type": "code",
   "execution_count": 6,
   "id": "91a40d73",
   "metadata": {},
   "outputs": [],
   "source": [
    "# Open the file for writing\n",
    "file = open(\"data_scientist.txt\", \"w\")\n",
    "\n",
    "# Write a string to the file\n",
    "file.write(\"I want to become a Data Scientist\")\n",
    "\n",
    "# Close the file\n",
    "file.close()\n"
   ]
  },
  {
   "cell_type": "markdown",
   "id": "64f54ee2",
   "metadata": {},
   "source": [
    "`writelines()` function:\n",
    "The writelines() function is used to write a list of strings to a file. It takes a list as a parameter, and writes each string in the list to the file at the current position of the file pointer."
   ]
  },
  {
   "cell_type": "code",
   "execution_count": 7,
   "id": "d90b042e",
   "metadata": {},
   "outputs": [],
   "source": [
    "# Open the file for writing\n",
    "file = open(\"data_scientists.txt\", \"w\")\n",
    "\n",
    "# Write a list of strings to the file\n",
    "lines = [\"I want to become a Data Scientist\\n\", \"Data Science is interesting\\n\"]\n",
    "file.writelines(lines)\n",
    "\n",
    "# Close the file\n",
    "file.close()\n"
   ]
  },
  {
   "cell_type": "code",
   "execution_count": null,
   "id": "fee827fd",
   "metadata": {},
   "outputs": [],
   "source": []
  }
 ],
 "metadata": {
  "kernelspec": {
   "display_name": "Python 3 (ipykernel)",
   "language": "python",
   "name": "python3"
  },
  "language_info": {
   "codemirror_mode": {
    "name": "ipython",
    "version": 3
   },
   "file_extension": ".py",
   "mimetype": "text/x-python",
   "name": "python",
   "nbconvert_exporter": "python",
   "pygments_lexer": "ipython3",
   "version": "3.9.13"
  }
 },
 "nbformat": 4,
 "nbformat_minor": 5
}
