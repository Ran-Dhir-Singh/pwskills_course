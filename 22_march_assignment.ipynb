{
 "cells": [
  {
   "cell_type": "markdown",
   "id": "f8d23c60",
   "metadata": {},
   "source": [
    "### Q1. Pearson correlation coefficient is a measure of the linear relationship between two variables. Suppose you have collected data on the amount of time students spend studying for an exam and their final exam scores. Calculate the Pearson correlation coefficient between these two variables and interpret the result.\n",
    "\n",
    "o calculate the Pearson correlation coefficient between two variables, we need to compute the covariance and the standard deviations of the variables. Let's say we have n pairs of data points for the amount of time spent studying (x) and the corresponding exam score (y). The formula for the Pearson correlation coefficient r is:\n",
    "\n",
    "r = cov(x,y) / (std(x) * std(y))\n",
    "\n",
    "where cov(x,y) is the covariance between x and y, and std(x) and std(y) are the standard deviations of x and y, respectively.\n",
    "\n",
    "The Pearson correlation coefficient r ranges from -1 to 1, with 0 indicating no linear relationship between the variables, and values close to -1 or 1 indicating a strong linear relationship. A value of -1 indicates a perfect negative linear relationship, while a value of 1 indicates a perfect positive linear relationship.\n",
    "\n",
    "To interpret the result, let's say we calculated a Pearson correlation coefficient of 0.7 for the relationship between the amount of time spent studying and the exam score. This indicates a strong positive linear relationship between the two variables, which means that students who spend more time studying tend to score higher on the exam. On the other hand, if we had calculated a Pearson correlation coefficient of -0.3, this would indicate a weak negative linear relationship, which means that students who spend more time studying tend to score lower on the exam. However, it is important to note that correlation does not necessarily imply causation, and other factors may be at play that affect the relationship between the two variables.\n",
    "\n",
    "\n",
    "\n",
    "\n"
   ]
  },
  {
   "cell_type": "markdown",
   "id": "60f1ca8e",
   "metadata": {},
   "source": [
    "### Q2. Spearman's rank correlation is a measure of the monotonic relationship between two variables. Suppose you have collected data on the amount of sleep individuals get each night and their overall job satisfaction level on a scale of 1 to 10. Calculate the Spearman's rank correlation between these two variables and interpret the result.\n",
    "\n",
    "To calculate Spearman's rank correlation, we need to first assign ranks to the data points for each variable. Let's say we have n pairs of data points for the amount of sleep (x) and job satisfaction level (y). We can then calculate the rank correlation coefficient rs using the following formula:\n",
    "\n",
    "rs = 1 - (6 * sum(d^2) / (n * (n^2 - 1)))\n",
    "\n",
    "where d is the difference between the ranks of each pair of data points, and n is the number of pairs of data points.\n",
    "\n",
    "The Spearman's rank correlation coefficient rs ranges from -1 to 1, with 0 indicating no monotonic relationship between the variables, and values close to -1 or 1 indicating a strong monotonic relationship. A value of -1 indicates a perfect negative monotonic relationship, while a value of 1 indicates a perfect positive monotonic relationship.\n",
    "\n",
    "To interpret the result, let's say we calculated a Spearman's rank correlation coefficient of 0.6 for the relationship between the amount of sleep individuals get and their overall job satisfaction level. This indicates a strong positive monotonic relationship between the two variables, which means that individuals who get more sleep tend to have higher job satisfaction levels. On the other hand, if we had calculated a Spearman's rank correlation coefficient of -0.2, this would indicate a weak negative monotonic relationship, which means that individuals who get more sleep tend to have lower job satisfaction levels. However, as with the Pearson correlation coefficient, it is important to note that correlation does not necessarily imply causation, and other factors may be at play that affect the relationship between the two variables."
   ]
  },
  {
   "cell_type": "markdown",
   "id": "7c3f2f9d",
   "metadata": {},
   "source": [
    "### Q3. Suppose you are conducting a study to examine the relationship between the number of hours of exercise per week and body mass index (BMI) in a sample of adults. You collected data on both variables for 50 participants. Calculate the Pearson correlation coefficient and the Spearman's rank correlation between these two variables and compare the results."
   ]
  },
  {
   "cell_type": "code",
   "execution_count": 1,
   "id": "a22337e9",
   "metadata": {},
   "outputs": [
    {
     "name": "stdout",
     "output_type": "stream",
     "text": [
      "Pearson correlation coefficient:  -0.08524059160268607\n",
      "Spearman's rank correlation coefficient:  -0.08321728691476589\n"
     ]
    }
   ],
   "source": [
    "import numpy as np\n",
    "from scipy.stats import pearsonr, spearmanr\n",
    "\n",
    "# Generate random data for hours of exercise and BMI\n",
    "np.random.seed(123)  # set random seed for reproducibility\n",
    "hours_exercise = np.random.normal(5, 2, 50)  # mean of 5 hours/week, std dev of 2 hours/week\n",
    "bmi = np.random.normal(25, 4, 50)  # mean of 25, std dev of 4\n",
    "\n",
    "# Pearson correlation coefficient\n",
    "pearson_corr, _ = pearsonr(hours_exercise, bmi)\n",
    "print(\"Pearson correlation coefficient: \", pearson_corr)\n",
    "\n",
    "# Spearman's rank correlation coefficient\n",
    "spearman_corr, _ = spearmanr(hours_exercise, bmi)\n",
    "print(\"Spearman's rank correlation coefficient: \", spearman_corr)\n"
   ]
  },
  {
   "cell_type": "markdown",
   "id": "7e8698fd",
   "metadata": {},
   "source": [
    "### Q4. A researcher is interested in examining the relationship between the number of hours individuals spend watching television per day and their level of physical activity. The researcher collected data on both variables from a sample of 50 participants. Calculate the Pearson correlation coefficient between these two variables."
   ]
  },
  {
   "cell_type": "code",
   "execution_count": 2,
   "id": "92fc362b",
   "metadata": {},
   "outputs": [
    {
     "name": "stdout",
     "output_type": "stream",
     "text": [
      "Pearson correlation coefficient:  -0.08524059160268603\n"
     ]
    }
   ],
   "source": [
    "import numpy as np\n",
    "from scipy.stats import pearsonr\n",
    "\n",
    "# Generate random data for hours of TV watched and level of physical activity\n",
    "np.random.seed(123)  # set random seed for reproducibility\n",
    "hours_tv = np.random.normal(3, 1, 50)  # mean of 3 hours/day, std dev of 1 hour/day\n",
    "physical_activity = np.random.normal(5, 2, 50)  # mean of 5, std dev of 2\n",
    "\n",
    "# Calculate the Pearson correlation coefficient\n",
    "pearson_corr, _ = pearsonr(hours_tv, physical_activity)\n",
    "\n",
    "# Print the result\n",
    "print(\"Pearson correlation coefficient: \", pearson_corr)\n"
   ]
  },
  {
   "cell_type": "markdown",
   "id": "b9fc3d3c",
   "metadata": {},
   "source": [
    "### Q5. A survey was conducted to examine the relationship between age and preference for a particular  brand of soft drink. The survey results are shown below:\n",
    "\n",
    "    Age(Years)   Soft drink Preference\n",
    "        25           Coke\n",
    "        42           Pepsi\n",
    "        37          Mountain dew\n",
    "        19           Coke\n",
    "        31           Pepsi\n",
    "        28           Coke\n",
    "\n",
    "\n"
   ]
  },
  {
   "cell_type": "code",
   "execution_count": 3,
   "id": "4d3f98fd",
   "metadata": {},
   "outputs": [
    {
     "name": "stdout",
     "output_type": "stream",
     "text": [
      "Pearson correlation coefficient:  -0.7691751415594735\n",
      "Spearman's rank correlation coefficient:  -0.8332380897952965\n"
     ]
    }
   ],
   "source": [
    "from scipy.stats import pearsonr, spearmanr\n",
    "\n",
    "# Define the age and preference data\n",
    "age = [25, 42, 37, 19, 31, 28]\n",
    "preference = [1, -1, 0, 1, -1, 1]  # encode preference as 1 for Coke, -1 for Pepsi, and 0 for Mountain Dew\n",
    "\n",
    "pearson_corr, _ = pearsonr(age, preference)\n",
    "print(\"Pearson correlation coefficient: \", pearson_corr)\n",
    "\n",
    "# Spearman's rank correlation coefficient\n",
    "spearman_corr, _ = spearmanr(age,preference)\n",
    "print(\"Spearman's rank correlation coefficient: \", spearman_corr)\n"
   ]
  },
  {
   "cell_type": "markdown",
   "id": "3d9fdc37",
   "metadata": {},
   "source": [
    "### Q6. A company is interested in examining the relationship between the number of sales calls made per day and the number of sales made per week. The company collected data on both variables from a sample of 30 sales representatives. Calculate the Pearson correlation coefficient between these two variables."
   ]
  },
  {
   "cell_type": "code",
   "execution_count": 4,
   "id": "acedef64",
   "metadata": {},
   "outputs": [
    {
     "name": "stdout",
     "output_type": "stream",
     "text": [
      "Pearson correlation coefficient:  0.19184115116806164\n"
     ]
    }
   ],
   "source": [
    "import numpy as np\n",
    "from scipy.stats import pearsonr\n",
    "\n",
    "# Generate random data for sales calls and sales made\n",
    "np.random.seed(123)  # set random seed for reproducibility\n",
    "sales_calls = np.random.randint(20, 50, 30)  # random number of calls between 20 and 50 per day\n",
    "sales_made = np.random.randint(5, 20, 30)  # random number of sales between 5 and 20 per week\n",
    "\n",
    "# Calculate the Pearson correlation coefficient\n",
    "pearson_corr, _ = pearsonr(sales_calls, sales_made)\n",
    "\n",
    "# Print the result\n",
    "print(\"Pearson correlation coefficient: \", pearson_corr)\n"
   ]
  },
  {
   "cell_type": "code",
   "execution_count": null,
   "id": "7c6704e5",
   "metadata": {},
   "outputs": [],
   "source": []
  }
 ],
 "metadata": {
  "kernelspec": {
   "display_name": "Python 3 (ipykernel)",
   "language": "python",
   "name": "python3"
  },
  "language_info": {
   "codemirror_mode": {
    "name": "ipython",
    "version": 3
   },
   "file_extension": ".py",
   "mimetype": "text/x-python",
   "name": "python",
   "nbconvert_exporter": "python",
   "pygments_lexer": "ipython3",
   "version": "3.9.13"
  }
 },
 "nbformat": 4,
 "nbformat_minor": 5
}
