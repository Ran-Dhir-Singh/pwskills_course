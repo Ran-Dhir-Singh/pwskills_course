{
 "cells": [
  {
   "cell_type": "markdown",
   "id": "50db0322",
   "metadata": {},
   "source": [
    "#### 1. Explain Class and object with respect to Object Oriented Programming. give a suitable example\n",
    "\n",
    "`Class` is the user defined blueprintfrom which objects can be created. Classes can have their methods and data attributed which can be accessed by the objects of that class. Class creates a user-defined data structure, which holds its own data members and member functions, which can be accessed and used by creating an instance of that class. A class is like a blueprint for an object.\n",
    "\n",
    "`Objects` are an instance of an class. When an object of a class is created, the class is said to be instantiated. All the instances share the attributes and the behavior of the class. But the values of those attributes, i.e. the state are unique for each object. A single class may have any number of instances."
   ]
  },
  {
   "cell_type": "code",
   "execution_count": 2,
   "id": "f5c9f2fc",
   "metadata": {},
   "outputs": [
    {
     "name": "stdout",
     "output_type": "stream",
     "text": [
      "Employee ID: 1001\n",
      "Employee ID: 1002\n"
     ]
    }
   ],
   "source": [
    "class Employee:\n",
    "    employee_id = 1\n",
    "\n",
    "employee_1 = Employee()\n",
    "employee_2 = Employee()\n",
    "\n",
    "employee_1.employeeID = 1001\n",
    "print(f\"Employee ID: {employee_1.employeeID}\")\n",
    "\n",
    "employee_2.employeeID = 1002\n",
    "print(f\"Employee ID: {employee_2.employeeID}\")  "
   ]
  },
  {
   "cell_type": "markdown",
   "id": "50d5b805",
   "metadata": {},
   "source": [
    "#### 2. Name the four pillars of OOPs\n",
    "1. Abstraction\n",
    "\n",
    "2. Encapsulation\n",
    "\n",
    "3. Inheritance\n",
    "\n",
    "4. Polymorphism"
   ]
  },
  {
   "cell_type": "markdown",
   "id": "a19141fb",
   "metadata": {},
   "source": [
    "#### 3. Explain why the __init__() function is used. Give an suitable example.\n",
    "`__init__()` is used as constructor for initializing. Constructors is used to initialize and assign values to the data attributes of the class when an object of the class is created."
   ]
  },
  {
   "cell_type": "code",
   "execution_count": 7,
   "id": "d774f772",
   "metadata": {},
   "outputs": [
    {
     "name": "stdout",
     "output_type": "stream",
     "text": [
      "('Rahul', 28, 'IT')\n"
     ]
    }
   ],
   "source": [
    "class Employee:\n",
    " \n",
    "    # init method or constructor\n",
    "    def __init__(self, name, age, dept):\n",
    "        self.name = name\n",
    "        self.age = age\n",
    "        self.dept = dept\n",
    "\n",
    "    def return_details(self):\n",
    "        return self.name, self.age, self.dept\n",
    " \n",
    " \n",
    "emp_1 = Employee('Rahul',28,'IT')\n",
    "print(emp_1.return_details())"
   ]
  },
  {
   "cell_type": "markdown",
   "id": "b7303b2b",
   "metadata": {},
   "source": [
    "#### 4. Why is self used in OOPs\n",
    "self is used to access the attributes and methods of the class and points to the instance of the class. Since the class is just a blueprint, `self` allows access to the attributes and methods of each object in python. This allows each object to have its own attributes and methods. Thus, even long before creating these objects, we reference the objects as self while defining the class."
   ]
  },
  {
   "cell_type": "markdown",
   "id": "471f3c47",
   "metadata": {},
   "source": [
    "#### 5.What is inheritance? Give an examle for each type of inheritance.\n",
    "`Inheritance` allows classes to inherit properties and method of a class. It is used to create hierarchy of classes that can share attributes and methods.\n",
    "1. Single Inheritance- derives properties from a single class\n",
    "2. Mutiple inheritance - Derives properties from multiple parent classes\n",
    "3. Multi level Inheritance -  features of the base class and the derived class are further inherited into the new derived class. This is similar to a relationship representing a child and a grandfather\n",
    "4. Heirarchical Inheritance - When a single parent class has many child classes\n",
    "5. Hybrid Inheritance - nheritance consisting of multiple types of inheritance is called hybrid inheritance.\n",
    "\n",
    "\n"
   ]
  },
  {
   "cell_type": "code",
   "execution_count": 9,
   "id": "93adda83",
   "metadata": {},
   "outputs": [
    {
     "name": "stdout",
     "output_type": "stream",
     "text": [
      "This function is in parent class.\n",
      "This function is in child class.\n"
     ]
    }
   ],
   "source": [
    "# Single Inheritance\n",
    "\n",
    "class Parent:\n",
    "    def func1(self):\n",
    "        print(\"This function is in parent class.\")\n",
    "\n",
    "class Child(Parent):\n",
    "    def func2(self):\n",
    "        print(\"This function is in child class.\")\n",
    "\n",
    "object = Child()\n",
    "object.func1()\n",
    "object.func2()\n"
   ]
  },
  {
   "cell_type": "code",
   "execution_count": 12,
   "id": "552e34fc",
   "metadata": {},
   "outputs": [
    {
     "name": "stdout",
     "output_type": "stream",
     "text": [
      "Father : John\n",
      "Mother : Helen\n"
     ]
    }
   ],
   "source": [
    "#Multiple Inheritance\n",
    "class Mother:\n",
    "    mothername = \"\"\n",
    " \n",
    "    def mother(self):\n",
    "        print(self.mothername)\n",
    "\n",
    "class Father:\n",
    "    fathername = \"\"\n",
    " \n",
    "    def father(self):\n",
    "        print(self.fathername)\n",
    "\n",
    " \n",
    " \n",
    "class Son(Mother, Father):\n",
    "    def parents(self):\n",
    "        print(\"Father :\", self.fathername)\n",
    "        print(\"Mother :\", self.mothername)\n",
    "        \n",
    "s1 = Son()\n",
    "s1.fathername = \"John\"\n",
    "s1.mothername = \"Helen\"\n",
    "s1.parents()"
   ]
  },
  {
   "cell_type": "code",
   "execution_count": 13,
   "id": "bbd5b48c",
   "metadata": {},
   "outputs": [
    {
     "name": "stdout",
     "output_type": "stream",
     "text": [
      "Mark\n",
      "Grandfather name : Mark\n",
      "Father name : Jacob\n",
      "Son name : John\n"
     ]
    }
   ],
   "source": [
    "#Multlevel Inheritance\n",
    "\n",
    "class Grandfather:\n",
    "    def __init__(self, grandfathername):\n",
    "        self.grandfathername = grandfathername\n",
    "\n",
    "class Father(Grandfather):\n",
    "    def __init__(self, fathername, grandfathername):\n",
    "        self.fathername = fathername\n",
    "\n",
    "        Grandfather.__init__(self, grandfathername)\n",
    "\n",
    "class Son(Father):\n",
    "    def __init__(self, sonname, fathername, grandfathername):\n",
    "        self.sonname = sonname\n",
    "\n",
    "        Father.__init__(self, fathername, grandfathername)\n",
    "\n",
    "    def print_name(self):\n",
    "        print('Grandfather name :', self.grandfathername)\n",
    "        print(\"Father name :\", self.fathername)\n",
    "        print(\"Son name :\", self.sonname)\n",
    "\n",
    "s1 = Son('John', 'Jacob', 'Mark')\n",
    "print(s1.grandfathername)\n",
    "s1.print_name()\n"
   ]
  },
  {
   "cell_type": "code",
   "execution_count": 14,
   "id": "14269c9a",
   "metadata": {},
   "outputs": [
    {
     "name": "stdout",
     "output_type": "stream",
     "text": [
      "This function is in parent class.\n",
      "This function is in child 1.\n",
      "This function is in parent class.\n",
      "This function is in child 2.\n"
     ]
    }
   ],
   "source": [
    "# Hierarchical Inheritance\n",
    "\n",
    "class Parent:\n",
    "    def func1(self):\n",
    "        print(\"This function is in parent class.\")\n",
    "\n",
    "class Child1(Parent):\n",
    "    def func2(self):\n",
    "        print(\"This function is in child 1.\")\n",
    "\n",
    "\n",
    "class Child2(Parent):\n",
    "    def func3(self):\n",
    "        print(\"This function is in child 2.\")\n",
    "\n",
    "\n",
    "object1 = Child1()\n",
    "object2 = Child2()\n",
    "object1.func1()\n",
    "object1.func2()\n",
    "object2.func1()\n",
    "object2.func3()\n"
   ]
  },
  {
   "cell_type": "code",
   "execution_count": 16,
   "id": "b28206cb",
   "metadata": {},
   "outputs": [
    {
     "name": "stdout",
     "output_type": "stream",
     "text": [
      "This function is in school.\n",
      "This function is in student 1. \n"
     ]
    }
   ],
   "source": [
    "#Hybrd Inheritance\n",
    "\n",
    "class School:\n",
    "    def func1(self):\n",
    "        print(\"This function is in school.\")\n",
    " \n",
    " \n",
    "class Student1(School):\n",
    "    def func2(self):\n",
    "        print(\"This function is in student 1. \")\n",
    " \n",
    " \n",
    "class Student2(School):\n",
    "    def func3(self):\n",
    "        print(\"This function is in student 2.\")\n",
    " \n",
    " \n",
    "class Student3(Student1, School):\n",
    "    def func4(self):\n",
    "        print(\"This function is in student 3.\")\n",
    "\n",
    "        \n",
    "object = Student3()\n",
    "object.func1()\n",
    "object.func2()"
   ]
  },
  {
   "cell_type": "code",
   "execution_count": null,
   "id": "628f0386",
   "metadata": {},
   "outputs": [],
   "source": []
  }
 ],
 "metadata": {
  "kernelspec": {
   "display_name": "Python 3 (ipykernel)",
   "language": "python",
   "name": "python3"
  },
  "language_info": {
   "codemirror_mode": {
    "name": "ipython",
    "version": 3
   },
   "file_extension": ".py",
   "mimetype": "text/x-python",
   "name": "python",
   "nbconvert_exporter": "python",
   "pygments_lexer": "ipython3",
   "version": "3.9.13"
  }
 },
 "nbformat": 4,
 "nbformat_minor": 5
}
