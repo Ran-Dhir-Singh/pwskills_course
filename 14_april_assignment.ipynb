{
 "cells": [
  {
   "cell_type": "markdown",
   "id": "a68db3e4",
   "metadata": {},
   "source": [
    "### Build a random forest classifier to predict the risk of heart disease based on a dataset of patient information. The dataset contains 303 instances with 14 features, including age, sex, chest pain type, resting blood pressure, serum cholesterol, and maximum heart rate achieved.\n",
    "\n",
    "\n",
    "Dataset link: https://drive.google.com/file/d/1bGoIE4Z2kG5nyh-fGZAJ7LH0ki3UfmSJ/view?usp=share_link"
   ]
  },
  {
   "cell_type": "code",
   "execution_count": 66,
   "id": "3f79288f",
   "metadata": {},
   "outputs": [],
   "source": [
    "import pandas as pd\n",
    "import numpy as np\n",
    "\n",
    "from sklearn.preprocessing import StandardScaler\n",
    "from sklearn.impute import SimpleImputer\n",
    "\n",
    "from sklearn.model_selection import train_test_split\n",
    "\n",
    "from sklearn.ensemble import RandomForestClassifier\n",
    "\n",
    "from sklearn.metrics import accuracy_score,precision_score,recall_score,f1_score\n",
    "\n",
    "from sklearn.model_selection import GridSearchCV, RandomizedSearchCV\n",
    "import matplotlib.pyplot as plt"
   ]
  },
  {
   "cell_type": "code",
   "execution_count": 3,
   "id": "5c777896",
   "metadata": {},
   "outputs": [
    {
     "data": {
      "text/html": [
       "<div>\n",
       "<style scoped>\n",
       "    .dataframe tbody tr th:only-of-type {\n",
       "        vertical-align: middle;\n",
       "    }\n",
       "\n",
       "    .dataframe tbody tr th {\n",
       "        vertical-align: top;\n",
       "    }\n",
       "\n",
       "    .dataframe thead th {\n",
       "        text-align: right;\n",
       "    }\n",
       "</style>\n",
       "<table border=\"1\" class=\"dataframe\">\n",
       "  <thead>\n",
       "    <tr style=\"text-align: right;\">\n",
       "      <th></th>\n",
       "      <th>age</th>\n",
       "      <th>sex</th>\n",
       "      <th>cp</th>\n",
       "      <th>trestbps</th>\n",
       "      <th>chol</th>\n",
       "      <th>fbs</th>\n",
       "      <th>restecg</th>\n",
       "      <th>thalach</th>\n",
       "      <th>exang</th>\n",
       "      <th>oldpeak</th>\n",
       "      <th>slope</th>\n",
       "      <th>ca</th>\n",
       "      <th>thal</th>\n",
       "      <th>target</th>\n",
       "    </tr>\n",
       "  </thead>\n",
       "  <tbody>\n",
       "    <tr>\n",
       "      <th>212</th>\n",
       "      <td>39</td>\n",
       "      <td>1</td>\n",
       "      <td>0</td>\n",
       "      <td>118</td>\n",
       "      <td>219</td>\n",
       "      <td>0</td>\n",
       "      <td>1</td>\n",
       "      <td>140</td>\n",
       "      <td>0</td>\n",
       "      <td>1.2</td>\n",
       "      <td>1</td>\n",
       "      <td>0</td>\n",
       "      <td>3</td>\n",
       "      <td>0</td>\n",
       "    </tr>\n",
       "    <tr>\n",
       "      <th>133</th>\n",
       "      <td>41</td>\n",
       "      <td>1</td>\n",
       "      <td>1</td>\n",
       "      <td>110</td>\n",
       "      <td>235</td>\n",
       "      <td>0</td>\n",
       "      <td>1</td>\n",
       "      <td>153</td>\n",
       "      <td>0</td>\n",
       "      <td>0.0</td>\n",
       "      <td>2</td>\n",
       "      <td>0</td>\n",
       "      <td>2</td>\n",
       "      <td>1</td>\n",
       "    </tr>\n",
       "    <tr>\n",
       "      <th>213</th>\n",
       "      <td>61</td>\n",
       "      <td>0</td>\n",
       "      <td>0</td>\n",
       "      <td>145</td>\n",
       "      <td>307</td>\n",
       "      <td>0</td>\n",
       "      <td>0</td>\n",
       "      <td>146</td>\n",
       "      <td>1</td>\n",
       "      <td>1.0</td>\n",
       "      <td>1</td>\n",
       "      <td>0</td>\n",
       "      <td>3</td>\n",
       "      <td>0</td>\n",
       "    </tr>\n",
       "    <tr>\n",
       "      <th>176</th>\n",
       "      <td>60</td>\n",
       "      <td>1</td>\n",
       "      <td>0</td>\n",
       "      <td>117</td>\n",
       "      <td>230</td>\n",
       "      <td>1</td>\n",
       "      <td>1</td>\n",
       "      <td>160</td>\n",
       "      <td>1</td>\n",
       "      <td>1.4</td>\n",
       "      <td>2</td>\n",
       "      <td>2</td>\n",
       "      <td>3</td>\n",
       "      <td>0</td>\n",
       "    </tr>\n",
       "    <tr>\n",
       "      <th>211</th>\n",
       "      <td>61</td>\n",
       "      <td>1</td>\n",
       "      <td>0</td>\n",
       "      <td>120</td>\n",
       "      <td>260</td>\n",
       "      <td>0</td>\n",
       "      <td>1</td>\n",
       "      <td>140</td>\n",
       "      <td>1</td>\n",
       "      <td>3.6</td>\n",
       "      <td>1</td>\n",
       "      <td>1</td>\n",
       "      <td>3</td>\n",
       "      <td>0</td>\n",
       "    </tr>\n",
       "  </tbody>\n",
       "</table>\n",
       "</div>"
      ],
      "text/plain": [
       "     age  sex  cp  trestbps  chol  fbs  restecg  thalach  exang  oldpeak  \\\n",
       "212   39    1   0       118   219    0        1      140      0      1.2   \n",
       "133   41    1   1       110   235    0        1      153      0      0.0   \n",
       "213   61    0   0       145   307    0        0      146      1      1.0   \n",
       "176   60    1   0       117   230    1        1      160      1      1.4   \n",
       "211   61    1   0       120   260    0        1      140      1      3.6   \n",
       "\n",
       "     slope  ca  thal  target  \n",
       "212      1   0     3       0  \n",
       "133      2   0     2       1  \n",
       "213      1   0     3       0  \n",
       "176      2   2     3       0  \n",
       "211      1   1     3       0  "
      ]
     },
     "execution_count": 3,
     "metadata": {},
     "output_type": "execute_result"
    }
   ],
   "source": [
    "heart_df = pd.read_csv(\"data/heart_disease.csv\")\n",
    "heart_df.sample(5)"
   ]
  },
  {
   "cell_type": "markdown",
   "id": "4290494d",
   "metadata": {},
   "source": [
    "### Q1. Preprocess the dataset by handling missing values, encoding categorical variables, and scaling the numerical features if necessary."
   ]
  },
  {
   "cell_type": "code",
   "execution_count": 4,
   "id": "00245416",
   "metadata": {},
   "outputs": [
    {
     "data": {
      "text/plain": [
       "age         0\n",
       "sex         0\n",
       "cp          0\n",
       "trestbps    0\n",
       "chol        0\n",
       "fbs         0\n",
       "restecg     0\n",
       "thalach     0\n",
       "exang       0\n",
       "oldpeak     0\n",
       "slope       0\n",
       "ca          0\n",
       "thal        0\n",
       "target      0\n",
       "dtype: int64"
      ]
     },
     "execution_count": 4,
     "metadata": {},
     "output_type": "execute_result"
    }
   ],
   "source": [
    "heart_df.isna().sum()"
   ]
  },
  {
   "cell_type": "code",
   "execution_count": 5,
   "id": "4b888e4f",
   "metadata": {},
   "outputs": [
    {
     "data": {
      "text/plain": [
       "Index(['age', 'sex', 'cp', 'trestbps', 'chol', 'fbs', 'restecg', 'thalach',\n",
       "       'exang', 'oldpeak', 'slope', 'ca', 'thal', 'target'],\n",
       "      dtype='object')"
      ]
     },
     "execution_count": 5,
     "metadata": {},
     "output_type": "execute_result"
    }
   ],
   "source": [
    "heart_df.columns"
   ]
  },
  {
   "cell_type": "code",
   "execution_count": 6,
   "id": "638bdfce",
   "metadata": {},
   "outputs": [],
   "source": [
    "categorical_col = ['sex', 'cp','fbs', 'restecg', 'exang', 'slope', 'ca', 'thal']\n",
    "numerical_col = ['age','trestbps','chol','thalach','oldpeak']"
   ]
  },
  {
   "cell_type": "code",
   "execution_count": 9,
   "id": "8a73941e",
   "metadata": {},
   "outputs": [
    {
     "data": {
      "text/plain": [
       "((303, 13), (303,))"
      ]
     },
     "execution_count": 9,
     "metadata": {},
     "output_type": "execute_result"
    }
   ],
   "source": [
    "X = heart_df.drop('target',axis=1)\n",
    "y = heart_df['target']\n",
    "X.shape, y.shape"
   ]
  },
  {
   "cell_type": "code",
   "execution_count": 12,
   "id": "5c40d8fe",
   "metadata": {},
   "outputs": [],
   "source": [
    "num_imputer = SimpleImputer(strategy='mean')\n",
    "cat_imputer = SimpleImputer(strategy='median')"
   ]
  },
  {
   "cell_type": "code",
   "execution_count": 15,
   "id": "5a9341a2",
   "metadata": {},
   "outputs": [
    {
     "data": {
      "text/html": [
       "<div>\n",
       "<style scoped>\n",
       "    .dataframe tbody tr th:only-of-type {\n",
       "        vertical-align: middle;\n",
       "    }\n",
       "\n",
       "    .dataframe tbody tr th {\n",
       "        vertical-align: top;\n",
       "    }\n",
       "\n",
       "    .dataframe thead th {\n",
       "        text-align: right;\n",
       "    }\n",
       "</style>\n",
       "<table border=\"1\" class=\"dataframe\">\n",
       "  <thead>\n",
       "    <tr style=\"text-align: right;\">\n",
       "      <th></th>\n",
       "      <th>age</th>\n",
       "      <th>sex</th>\n",
       "      <th>cp</th>\n",
       "      <th>trestbps</th>\n",
       "      <th>chol</th>\n",
       "      <th>fbs</th>\n",
       "      <th>restecg</th>\n",
       "      <th>thalach</th>\n",
       "      <th>exang</th>\n",
       "      <th>oldpeak</th>\n",
       "      <th>slope</th>\n",
       "      <th>ca</th>\n",
       "      <th>thal</th>\n",
       "    </tr>\n",
       "  </thead>\n",
       "  <tbody>\n",
       "    <tr>\n",
       "      <th>0</th>\n",
       "      <td>63.0</td>\n",
       "      <td>1.0</td>\n",
       "      <td>3.0</td>\n",
       "      <td>145.0</td>\n",
       "      <td>233.0</td>\n",
       "      <td>1.0</td>\n",
       "      <td>0.0</td>\n",
       "      <td>150.0</td>\n",
       "      <td>0.0</td>\n",
       "      <td>2.3</td>\n",
       "      <td>0.0</td>\n",
       "      <td>0.0</td>\n",
       "      <td>1.0</td>\n",
       "    </tr>\n",
       "    <tr>\n",
       "      <th>1</th>\n",
       "      <td>37.0</td>\n",
       "      <td>1.0</td>\n",
       "      <td>2.0</td>\n",
       "      <td>130.0</td>\n",
       "      <td>250.0</td>\n",
       "      <td>0.0</td>\n",
       "      <td>1.0</td>\n",
       "      <td>187.0</td>\n",
       "      <td>0.0</td>\n",
       "      <td>3.5</td>\n",
       "      <td>0.0</td>\n",
       "      <td>0.0</td>\n",
       "      <td>2.0</td>\n",
       "    </tr>\n",
       "    <tr>\n",
       "      <th>2</th>\n",
       "      <td>41.0</td>\n",
       "      <td>0.0</td>\n",
       "      <td>1.0</td>\n",
       "      <td>130.0</td>\n",
       "      <td>204.0</td>\n",
       "      <td>0.0</td>\n",
       "      <td>0.0</td>\n",
       "      <td>172.0</td>\n",
       "      <td>0.0</td>\n",
       "      <td>1.4</td>\n",
       "      <td>2.0</td>\n",
       "      <td>0.0</td>\n",
       "      <td>2.0</td>\n",
       "    </tr>\n",
       "    <tr>\n",
       "      <th>3</th>\n",
       "      <td>56.0</td>\n",
       "      <td>1.0</td>\n",
       "      <td>1.0</td>\n",
       "      <td>120.0</td>\n",
       "      <td>236.0</td>\n",
       "      <td>0.0</td>\n",
       "      <td>1.0</td>\n",
       "      <td>178.0</td>\n",
       "      <td>0.0</td>\n",
       "      <td>0.8</td>\n",
       "      <td>2.0</td>\n",
       "      <td>0.0</td>\n",
       "      <td>2.0</td>\n",
       "    </tr>\n",
       "    <tr>\n",
       "      <th>4</th>\n",
       "      <td>57.0</td>\n",
       "      <td>0.0</td>\n",
       "      <td>0.0</td>\n",
       "      <td>120.0</td>\n",
       "      <td>354.0</td>\n",
       "      <td>0.0</td>\n",
       "      <td>1.0</td>\n",
       "      <td>163.0</td>\n",
       "      <td>1.0</td>\n",
       "      <td>0.6</td>\n",
       "      <td>2.0</td>\n",
       "      <td>0.0</td>\n",
       "      <td>2.0</td>\n",
       "    </tr>\n",
       "  </tbody>\n",
       "</table>\n",
       "</div>"
      ],
      "text/plain": [
       "    age  sex   cp  trestbps   chol  fbs  restecg  thalach  exang  oldpeak  \\\n",
       "0  63.0  1.0  3.0     145.0  233.0  1.0      0.0    150.0    0.0      2.3   \n",
       "1  37.0  1.0  2.0     130.0  250.0  0.0      1.0    187.0    0.0      3.5   \n",
       "2  41.0  0.0  1.0     130.0  204.0  0.0      0.0    172.0    0.0      1.4   \n",
       "3  56.0  1.0  1.0     120.0  236.0  0.0      1.0    178.0    0.0      0.8   \n",
       "4  57.0  0.0  0.0     120.0  354.0  0.0      1.0    163.0    1.0      0.6   \n",
       "\n",
       "   slope   ca  thal  \n",
       "0    0.0  0.0   1.0  \n",
       "1    0.0  0.0   2.0  \n",
       "2    2.0  0.0   2.0  \n",
       "3    2.0  0.0   2.0  \n",
       "4    2.0  0.0   2.0  "
      ]
     },
     "execution_count": 15,
     "metadata": {},
     "output_type": "execute_result"
    }
   ],
   "source": [
    "X[categorical_col] = cat_imputer.fit_transform(X[categorical_col])\n",
    "X[numerical_col] = num_imputer.fit_transform(X[numerical_col])\n",
    "X.head()"
   ]
  },
  {
   "cell_type": "code",
   "execution_count": 16,
   "id": "1dd03cf5",
   "metadata": {},
   "outputs": [
    {
     "data": {
      "text/html": [
       "<div>\n",
       "<style scoped>\n",
       "    .dataframe tbody tr th:only-of-type {\n",
       "        vertical-align: middle;\n",
       "    }\n",
       "\n",
       "    .dataframe tbody tr th {\n",
       "        vertical-align: top;\n",
       "    }\n",
       "\n",
       "    .dataframe thead th {\n",
       "        text-align: right;\n",
       "    }\n",
       "</style>\n",
       "<table border=\"1\" class=\"dataframe\">\n",
       "  <thead>\n",
       "    <tr style=\"text-align: right;\">\n",
       "      <th></th>\n",
       "      <th>age</th>\n",
       "      <th>sex</th>\n",
       "      <th>cp</th>\n",
       "      <th>trestbps</th>\n",
       "      <th>chol</th>\n",
       "      <th>fbs</th>\n",
       "      <th>restecg</th>\n",
       "      <th>thalach</th>\n",
       "      <th>exang</th>\n",
       "      <th>oldpeak</th>\n",
       "      <th>slope</th>\n",
       "      <th>ca</th>\n",
       "      <th>thal</th>\n",
       "    </tr>\n",
       "  </thead>\n",
       "  <tbody>\n",
       "    <tr>\n",
       "      <th>0</th>\n",
       "      <td>0.952197</td>\n",
       "      <td>1.0</td>\n",
       "      <td>3.0</td>\n",
       "      <td>0.763956</td>\n",
       "      <td>-0.256334</td>\n",
       "      <td>1.0</td>\n",
       "      <td>0.0</td>\n",
       "      <td>0.015443</td>\n",
       "      <td>0.0</td>\n",
       "      <td>1.087338</td>\n",
       "      <td>0.0</td>\n",
       "      <td>0.0</td>\n",
       "      <td>1.0</td>\n",
       "    </tr>\n",
       "    <tr>\n",
       "      <th>1</th>\n",
       "      <td>-1.915313</td>\n",
       "      <td>1.0</td>\n",
       "      <td>2.0</td>\n",
       "      <td>-0.092738</td>\n",
       "      <td>0.072199</td>\n",
       "      <td>0.0</td>\n",
       "      <td>1.0</td>\n",
       "      <td>1.633471</td>\n",
       "      <td>0.0</td>\n",
       "      <td>2.122573</td>\n",
       "      <td>0.0</td>\n",
       "      <td>0.0</td>\n",
       "      <td>2.0</td>\n",
       "    </tr>\n",
       "    <tr>\n",
       "      <th>2</th>\n",
       "      <td>-1.474158</td>\n",
       "      <td>0.0</td>\n",
       "      <td>1.0</td>\n",
       "      <td>-0.092738</td>\n",
       "      <td>-0.816773</td>\n",
       "      <td>0.0</td>\n",
       "      <td>0.0</td>\n",
       "      <td>0.977514</td>\n",
       "      <td>0.0</td>\n",
       "      <td>0.310912</td>\n",
       "      <td>2.0</td>\n",
       "      <td>0.0</td>\n",
       "      <td>2.0</td>\n",
       "    </tr>\n",
       "    <tr>\n",
       "      <th>3</th>\n",
       "      <td>0.180175</td>\n",
       "      <td>1.0</td>\n",
       "      <td>1.0</td>\n",
       "      <td>-0.663867</td>\n",
       "      <td>-0.198357</td>\n",
       "      <td>0.0</td>\n",
       "      <td>1.0</td>\n",
       "      <td>1.239897</td>\n",
       "      <td>0.0</td>\n",
       "      <td>-0.206705</td>\n",
       "      <td>2.0</td>\n",
       "      <td>0.0</td>\n",
       "      <td>2.0</td>\n",
       "    </tr>\n",
       "    <tr>\n",
       "      <th>4</th>\n",
       "      <td>0.290464</td>\n",
       "      <td>0.0</td>\n",
       "      <td>0.0</td>\n",
       "      <td>-0.663867</td>\n",
       "      <td>2.082050</td>\n",
       "      <td>0.0</td>\n",
       "      <td>1.0</td>\n",
       "      <td>0.583939</td>\n",
       "      <td>1.0</td>\n",
       "      <td>-0.379244</td>\n",
       "      <td>2.0</td>\n",
       "      <td>0.0</td>\n",
       "      <td>2.0</td>\n",
       "    </tr>\n",
       "  </tbody>\n",
       "</table>\n",
       "</div>"
      ],
      "text/plain": [
       "        age  sex   cp  trestbps      chol  fbs  restecg   thalach  exang  \\\n",
       "0  0.952197  1.0  3.0  0.763956 -0.256334  1.0      0.0  0.015443    0.0   \n",
       "1 -1.915313  1.0  2.0 -0.092738  0.072199  0.0      1.0  1.633471    0.0   \n",
       "2 -1.474158  0.0  1.0 -0.092738 -0.816773  0.0      0.0  0.977514    0.0   \n",
       "3  0.180175  1.0  1.0 -0.663867 -0.198357  0.0      1.0  1.239897    0.0   \n",
       "4  0.290464  0.0  0.0 -0.663867  2.082050  0.0      1.0  0.583939    1.0   \n",
       "\n",
       "    oldpeak  slope   ca  thal  \n",
       "0  1.087338    0.0  0.0   1.0  \n",
       "1  2.122573    0.0  0.0   2.0  \n",
       "2  0.310912    2.0  0.0   2.0  \n",
       "3 -0.206705    2.0  0.0   2.0  \n",
       "4 -0.379244    2.0  0.0   2.0  "
      ]
     },
     "execution_count": 16,
     "metadata": {},
     "output_type": "execute_result"
    }
   ],
   "source": [
    "num_scaler = StandardScaler()\n",
    "X[numerical_col] = num_scaler.fit_transform(X[numerical_col])\n",
    "X.head()"
   ]
  },
  {
   "cell_type": "markdown",
   "id": "c2b66525",
   "metadata": {},
   "source": [
    "### Q2. Split the dataset into a training set (70%) and a test set (30%)."
   ]
  },
  {
   "cell_type": "code",
   "execution_count": 18,
   "id": "40f2332e",
   "metadata": {},
   "outputs": [
    {
     "data": {
      "text/plain": [
       "((303, 13), (303,))"
      ]
     },
     "execution_count": 18,
     "metadata": {},
     "output_type": "execute_result"
    }
   ],
   "source": [
    "X = heart_df.drop('target',axis=1)\n",
    "y = heart_df['target']\n",
    "X.shape, y.shape"
   ]
  },
  {
   "cell_type": "code",
   "execution_count": 21,
   "id": "9bc61f1a",
   "metadata": {},
   "outputs": [
    {
     "data": {
      "text/plain": [
       "((212, 13), (91, 13), (212,), (91,))"
      ]
     },
     "execution_count": 21,
     "metadata": {},
     "output_type": "execute_result"
    }
   ],
   "source": [
    "X_train, X_test, y_train, y_test = train_test_split(X,y,\n",
    "                                                   test_size=0.3,\n",
    "                                                   random_state=123)\n",
    "X_train.shape, X_test.shape, y_train.shape, y_test.shape"
   ]
  },
  {
   "cell_type": "markdown",
   "id": "cbf9120c",
   "metadata": {},
   "source": [
    "### Q3. Train a random forest classifier on the training set using 100 trees and a maximum depth of 10 for eachtree. Use the default values for other hyperparameters."
   ]
  },
  {
   "cell_type": "code",
   "execution_count": 22,
   "id": "58ee0890",
   "metadata": {},
   "outputs": [],
   "source": [
    "num_imputer = SimpleImputer(strategy='mean')\n",
    "cat_imputer = SimpleImputer(strategy='median')\n",
    "\n",
    "num_scaler = StandardScaler()"
   ]
  },
  {
   "cell_type": "code",
   "execution_count": 23,
   "id": "c953b82b",
   "metadata": {},
   "outputs": [],
   "source": [
    "X_train[categorical_col] = cat_imputer.fit_transform(X_train[categorical_col])\n",
    "X_train[numerical_col] = num_imputer.fit_transform(X_train[numerical_col])\n",
    "\n",
    "X_train[numerical_col] = num_scaler.fit_transform(X_train[numerical_col])"
   ]
  },
  {
   "cell_type": "code",
   "execution_count": 25,
   "id": "bb972c7a",
   "metadata": {},
   "outputs": [],
   "source": [
    "rf = RandomForestClassifier(n_estimators=100,\n",
    "                            max_depth=10,\n",
    "                            random_state=123)"
   ]
  },
  {
   "cell_type": "code",
   "execution_count": 26,
   "id": "aad8d882",
   "metadata": {},
   "outputs": [
    {
     "data": {
      "text/plain": [
       "RandomForestClassifier(max_depth=10, random_state=123)"
      ]
     },
     "execution_count": 26,
     "metadata": {},
     "output_type": "execute_result"
    }
   ],
   "source": [
    "rf.fit(X_train,y_train)"
   ]
  },
  {
   "cell_type": "markdown",
   "id": "a6e65272",
   "metadata": {},
   "source": [
    "### Q4. Evaluate the performance of the model on the test set using accuracy, precision, recall, and F1 score."
   ]
  },
  {
   "cell_type": "code",
   "execution_count": 87,
   "id": "80cb309f",
   "metadata": {},
   "outputs": [],
   "source": [
    "def eval_model(y_true,y_pred):\n",
    "    accuracy = accuracy_score(y_true,y_pred)\n",
    "    precision = precision_score(y_true,y_pred)\n",
    "    recall = recall_score(y_true,y_pred)\n",
    "    f1 = f1_score(y_true,y_pred)\n",
    "    \n",
    "    print(f\"Accuracy : {accuracy}\")\n",
    "    print(f\"Precision : {precision}\")\n",
    "    print(f\"Recall : {recall}\")\n",
    "    print(f\"F1 Score : {f1}\")\n",
    "    \n",
    "    return {'accuracy':accuracy,\n",
    "           'precison':precision,\n",
    "           'recall':recall,\n",
    "           'f1':f1}"
   ]
  },
  {
   "cell_type": "code",
   "execution_count": 29,
   "id": "3cbf4a41",
   "metadata": {},
   "outputs": [],
   "source": [
    "X_test[categorical_col] = cat_imputer.transform(X_test[categorical_col])\n",
    "X_test[numerical_col] = num_imputer.transform(X_test[numerical_col])\n",
    "\n",
    "X_test[numerical_col] = num_scaler.transform(X_test[numerical_col])"
   ]
  },
  {
   "cell_type": "code",
   "execution_count": 30,
   "id": "932d6f66",
   "metadata": {},
   "outputs": [],
   "source": [
    "y_pred = rf.predict(X_test)"
   ]
  },
  {
   "cell_type": "code",
   "execution_count": 88,
   "id": "fea912e5",
   "metadata": {},
   "outputs": [
    {
     "name": "stdout",
     "output_type": "stream",
     "text": [
      "Accuracy : 0.7912087912087912\n",
      "Precision : 0.7547169811320755\n",
      "Recall : 0.8695652173913043\n",
      "F1 Score : 0.8080808080808081\n"
     ]
    }
   ],
   "source": [
    "rf_score = eval_model(y_test,y_pred)"
   ]
  },
  {
   "cell_type": "markdown",
   "id": "bd851629",
   "metadata": {},
   "source": [
    "### Q5. Use the feature importance scores to identify the top 5 most important features in predicting heart disease risk. Visualise the feature importances using a bar chart."
   ]
  },
  {
   "cell_type": "code",
   "execution_count": 37,
   "id": "2cf89e5e",
   "metadata": {},
   "outputs": [
    {
     "data": {
      "text/plain": [
       "(array(['age', 'sex', 'cp', 'trestbps', 'chol', 'fbs', 'restecg',\n",
       "        'thalach', 'exang', 'oldpeak', 'slope', 'ca', 'thal'], dtype=object),\n",
       " array([0.10243   , 0.03219119, 0.13064721, 0.07232786, 0.07133389,\n",
       "        0.01229741, 0.01530566, 0.11926679, 0.05253992, 0.09955828,\n",
       "        0.04179981, 0.13823785, 0.11206412]))"
      ]
     },
     "execution_count": 37,
     "metadata": {},
     "output_type": "execute_result"
    }
   ],
   "source": [
    "rf.feature_names_in_,rf.feature_importances_"
   ]
  },
  {
   "cell_type": "code",
   "execution_count": 43,
   "id": "69252b1a",
   "metadata": {},
   "outputs": [
    {
     "name": "stdout",
     "output_type": "stream",
     "text": [
      "{'age': 0.1024300012772925, 'sex': 0.032191188412427706, 'cp': 0.13064721185828565, 'trestbps': 0.07232786090586589, 'chol': 0.07133389097002962, 'fbs': 0.012297413948061454, 'restecg': 0.01530565938205579, 'thalach': 0.1192667933802131, 'exang': 0.05253992101591858, 'oldpeak': 0.09955828361822386, 'slope': 0.04179980516844967, 'ca': 0.13823785212520887, 'thal': 0.11206411793796714}\n"
     ]
    }
   ],
   "source": [
    "feature_importance_dict = {}\n",
    "\n",
    "for i, feature_name in enumerate(rf.feature_names_in_):\n",
    "    feature_importance_dict[feature_name] = rf.feature_importances_[i]\n",
    "\n",
    "print(feature_importance_dict)"
   ]
  },
  {
   "cell_type": "code",
   "execution_count": 44,
   "id": "d0374e3b",
   "metadata": {},
   "outputs": [
    {
     "name": "stdout",
     "output_type": "stream",
     "text": [
      "{'ca': 0.13823785212520887, 'cp': 0.13064721185828565, 'thalach': 0.1192667933802131, 'thal': 0.11206411793796714, 'age': 0.1024300012772925, 'oldpeak': 0.09955828361822386, 'trestbps': 0.07232786090586589, 'chol': 0.07133389097002962, 'exang': 0.05253992101591858, 'slope': 0.04179980516844967, 'sex': 0.032191188412427706, 'restecg': 0.01530565938205579, 'fbs': 0.012297413948061454}\n"
     ]
    }
   ],
   "source": [
    "sorted_dict = {k: v for k, v in sorted(feature_importance_dict.items(), key=lambda item: item[1], reverse=True)}\n",
    "\n",
    "print(sorted_dict)"
   ]
  },
  {
   "cell_type": "code",
   "execution_count": 39,
   "id": "41e8bb6e",
   "metadata": {},
   "outputs": [
    {
     "name": "stdout",
     "output_type": "stream",
     "text": [
      "Top 5 features: Index(['ca', 'cp', 'thalach', 'thal', 'age'], dtype='object')\n"
     ]
    }
   ],
   "source": [
    "importance = rf.feature_importances_\n",
    "indices = np.argsort(importance)[::-1]\n",
    "top_features = X_train.columns[indices][:5]\n",
    "print(\"Top 5 features:\", top_features)"
   ]
  },
  {
   "cell_type": "code",
   "execution_count": 42,
   "id": "ad1ccc54",
   "metadata": {},
   "outputs": [
    {
     "data": {
      "image/png": "[encoded data removed]",
      "text/plain": [
       "<Figure size 640x480 with 1 Axes>"
      ]
     },
     "metadata": {},
     "output_type": "display_data"
    }
   ],
   "source": [
    "plt.figure()\n",
    "plt.title(\"Feature importances\")\n",
    "plt.bar(range(X_train.shape[1]), importance[indices])\n",
    "plt.xticks(range(X_train.shape[1]), X_train.columns[indices], rotation=90)\n",
    "plt.show()"
   ]
  },
  {
   "cell_type": "markdown",
   "id": "501b8a1b",
   "metadata": {},
   "source": [
    "### Q6. Tune the hyperparameters of the random forest classifier using grid search or random search. Try different values of the number of trees, maximum depth, minimum samples split, and minimum samples leaf. Use 5-fold cross-validation to evaluate the performance of each set of hyperparameters."
   ]
  },
  {
   "cell_type": "code",
   "execution_count": 71,
   "id": "649b4e53",
   "metadata": {},
   "outputs": [],
   "source": [
    "rf_params = {'n_estimators':[10,50,100,150,200],\n",
    "            'max_depth':[1,5,10,20],\n",
    "            'min_samples_split':[1,2,5,7,10],\n",
    "             'min_samples_leaf':[1,2,5,10]}"
   ]
  },
  {
   "cell_type": "code",
   "execution_count": 72,
   "id": "18403da5",
   "metadata": {},
   "outputs": [],
   "source": [
    "rf1=RandomForestClassifier()"
   ]
  },
  {
   "cell_type": "code",
   "execution_count": 77,
   "id": "e619521f",
   "metadata": {},
   "outputs": [],
   "source": [
    "cv = RandomizedSearchCV(estimator=rf1,\n",
    "                        param_distributions=rf_params,\n",
    "                        cv=5,\n",
    "                        verbose=3,\n",
    "                        scoring='accuracy')"
   ]
  },
  {
   "cell_type": "code",
   "execution_count": 78,
   "id": "e9d3e8a4",
   "metadata": {
    "scrolled": true
   },
   "outputs": [
    {
     "name": "stdout",
     "output_type": "stream",
     "text": [
      "Fitting 5 folds for each of 10 candidates, totalling 50 fits\n",
      "[CV 1/5] END max_depth=20, min_samples_leaf=5, min_samples_split=7, n_estimators=150;, score=0.814 total time=   0.1s\n",
      "[CV 2/5] END max_depth=20, min_samples_leaf=5, min_samples_split=7, n_estimators=150;, score=0.837 total time=   0.1s\n",
      "[CV 3/5] END max_depth=20, min_samples_leaf=5, min_samples_split=7, n_estimators=150;, score=0.905 total time=   0.1s\n",
      "[CV 4/5] END max_depth=20, min_samples_leaf=5, min_samples_split=7, n_estimators=150;, score=0.833 total time=   0.1s\n",
      "[CV 5/5] END max_depth=20, min_samples_leaf=5, min_samples_split=7, n_estimators=150;, score=0.857 total time=   0.1s\n",
      "[CV 1/5] END max_depth=1, min_samples_leaf=5, min_samples_split=5, n_estimators=50;, score=0.814 total time=   0.0s\n",
      "[CV 2/5] END max_depth=1, min_samples_leaf=5, min_samples_split=5, n_estimators=50;, score=0.791 total time=   0.0s\n",
      "[CV 3/5] END max_depth=1, min_samples_leaf=5, min_samples_split=5, n_estimators=50;, score=0.833 total time=   0.0s\n",
      "[CV 4/5] END max_depth=1, min_samples_leaf=5, min_samples_split=5, n_estimators=50;, score=0.833 total time=   0.0s\n",
      "[CV 5/5] END max_depth=1, min_samples_leaf=5, min_samples_split=5, n_estimators=50;, score=0.929 total time=   0.0s\n",
      "[CV 1/5] END max_depth=5, min_samples_leaf=2, min_samples_split=1, n_estimators=200;, score=nan total time=   0.0s\n",
      "[CV 2/5] END max_depth=5, min_samples_leaf=2, min_samples_split=1, n_estimators=200;, score=nan total time=   0.0s\n",
      "[CV 3/5] END max_depth=5, min_samples_leaf=2, min_samples_split=1, n_estimators=200;, score=nan total time=   0.0s\n",
      "[CV 4/5] END max_depth=5, min_samples_leaf=2, min_samples_split=1, n_estimators=200;, score=nan total time=   0.0s\n",
      "[CV 5/5] END max_depth=5, min_samples_leaf=2, min_samples_split=1, n_estimators=200;, score=nan total time=   0.0s\n",
      "[CV 1/5] END max_depth=10, min_samples_leaf=5, min_samples_split=10, n_estimators=50;, score=0.791 total time=   0.0s\n",
      "[CV 2/5] END max_depth=10, min_samples_leaf=5, min_samples_split=10, n_estimators=50;, score=0.837 total time=   0.0s\n",
      "[CV 3/5] END max_depth=10, min_samples_leaf=5, min_samples_split=10, n_estimators=50;, score=0.857 total time=   0.0s\n",
      "[CV 4/5] END max_depth=10, min_samples_leaf=5, min_samples_split=10, n_estimators=50;, score=0.833 total time=   0.0s\n",
      "[CV 5/5] END max_depth=10, min_samples_leaf=5, min_samples_split=10, n_estimators=50;, score=0.857 total time=   0.0s\n",
      "[CV 1/5] END max_depth=1, min_samples_leaf=10, min_samples_split=2, n_estimators=10;, score=0.721 total time=   0.0s\n",
      "[CV 2/5] END max_depth=1, min_samples_leaf=10, min_samples_split=2, n_estimators=10;, score=0.814 total time=   0.0s\n",
      "[CV 3/5] END max_depth=1, min_samples_leaf=10, min_samples_split=2, n_estimators=10;, score=0.833 total time=   0.0s\n",
      "[CV 4/5] END max_depth=1, min_samples_leaf=10, min_samples_split=2, n_estimators=10;, score=0.810 total time=   0.0s\n",
      "[CV 5/5] END max_depth=1, min_samples_leaf=10, min_samples_split=2, n_estimators=10;, score=0.762 total time=   0.0s\n",
      "[CV 1/5] END max_depth=20, min_samples_leaf=2, min_samples_split=1, n_estimators=100;, score=nan total time=   0.0s\n",
      "[CV 2/5] END max_depth=20, min_samples_leaf=2, min_samples_split=1, n_estimators=100;, score=nan total time=   0.0s\n",
      "[CV 3/5] END max_depth=20, min_samples_leaf=2, min_samples_split=1, n_estimators=100;, score=nan total time=   0.0s\n",
      "[CV 4/5] END max_depth=20, min_samples_leaf=2, min_samples_split=1, n_estimators=100;, score=nan total time=   0.0s\n",
      "[CV 5/5] END max_depth=20, min_samples_leaf=2, min_samples_split=1, n_estimators=100;, score=nan total time=   0.0s\n",
      "[CV 1/5] END max_depth=20, min_samples_leaf=1, min_samples_split=1, n_estimators=150;, score=nan total time=   0.0s\n",
      "[CV 2/5] END max_depth=20, min_samples_leaf=1, min_samples_split=1, n_estimators=150;, score=nan total time=   0.0s\n",
      "[CV 3/5] END max_depth=20, min_samples_leaf=1, min_samples_split=1, n_estimators=150;, score=nan total time=   0.0s\n",
      "[CV 4/5] END max_depth=20, min_samples_leaf=1, min_samples_split=1, n_estimators=150;, score=nan total time=   0.0s\n",
      "[CV 5/5] END max_depth=20, min_samples_leaf=1, min_samples_split=1, n_estimators=150;, score=nan total time=   0.0s\n",
      "[CV 1/5] END max_depth=5, min_samples_leaf=5, min_samples_split=7, n_estimators=10;, score=0.814 total time=   0.0s\n",
      "[CV 2/5] END max_depth=5, min_samples_leaf=5, min_samples_split=7, n_estimators=10;, score=0.814 total time=   0.0s\n",
      "[CV 3/5] END max_depth=5, min_samples_leaf=5, min_samples_split=7, n_estimators=10;, score=0.810 total time=   0.0s\n",
      "[CV 4/5] END max_depth=5, min_samples_leaf=5, min_samples_split=7, n_estimators=10;, score=0.833 total time=   0.0s\n",
      "[CV 5/5] END max_depth=5, min_samples_leaf=5, min_samples_split=7, n_estimators=10;, score=0.833 total time=   0.0s\n",
      "[CV 1/5] END max_depth=1, min_samples_leaf=1, min_samples_split=2, n_estimators=50;, score=0.698 total time=   0.0s\n",
      "[CV 2/5] END max_depth=1, min_samples_leaf=1, min_samples_split=2, n_estimators=50;, score=0.791 total time=   0.0s\n",
      "[CV 3/5] END max_depth=1, min_samples_leaf=1, min_samples_split=2, n_estimators=50;, score=0.833 total time=   0.0s\n",
      "[CV 4/5] END max_depth=1, min_samples_leaf=1, min_samples_split=2, n_estimators=50;, score=0.881 total time=   0.0s\n",
      "[CV 5/5] END max_depth=1, min_samples_leaf=1, min_samples_split=2, n_estimators=50;, score=0.857 total time=   0.0s\n",
      "[CV 1/5] END max_depth=5, min_samples_leaf=2, min_samples_split=7, n_estimators=100;, score=0.767 total time=   0.0s\n",
      "[CV 2/5] END max_depth=5, min_samples_leaf=2, min_samples_split=7, n_estimators=100;, score=0.837 total time=   0.0s\n",
      "[CV 3/5] END max_depth=5, min_samples_leaf=2, min_samples_split=7, n_estimators=100;, score=0.881 total time=   0.0s\n",
      "[CV 4/5] END max_depth=5, min_samples_leaf=2, min_samples_split=7, n_estimators=100;, score=0.833 total time=   0.0s\n",
      "[CV 5/5] END max_depth=5, min_samples_leaf=2, min_samples_split=7, n_estimators=100;, score=0.857 total time=   0.0s\n"
     ]
    },
    {
     "name": "stderr",
     "output_type": "stream",
     "text": [
      "E:\\Anaconda\\lib\\site-packages\\sklearn\\model_selection\\_validation.py:372: FitFailedWarning: \n",
      "15 fits failed out of a total of 50.\n",
      "The score on these train-test partitions for these parameters will be set to nan.\n",
      "If these failures are not expected, you can try to debug them by setting error_score='raise'.\n",
      "\n",
      "Below are more details about the failures:\n",
      "--------------------------------------------------------------------------------\n",
      "15 fits failed with the following error:\n",
      "Traceback (most recent call last):\n",
      "  File \"E:\\Anaconda\\lib\\site-packages\\sklearn\\model_selection\\_validation.py\", line 680, in _fit_and_score\n",
      "    estimator.fit(X_train, y_train, **fit_params)\n",
      "  File \"E:\\Anaconda\\lib\\site-packages\\sklearn\\ensemble\\_forest.py\", line 450, in fit\n",
      "    trees = Parallel(\n",
      "  File \"E:\\Anaconda\\lib\\site-packages\\joblib\\parallel.py\", line 1043, in __call__\n",
      "    if self.dispatch_one_batch(iterator):\n",
      "  File \"E:\\Anaconda\\lib\\site-packages\\joblib\\parallel.py\", line 861, in dispatch_one_batch\n",
      "    self._dispatch(tasks)\n",
      "  File \"E:\\Anaconda\\lib\\site-packages\\joblib\\parallel.py\", line 779, in _dispatch\n",
      "    job = self._backend.apply_async(batch, callback=cb)\n",
      "  File \"E:\\Anaconda\\lib\\site-packages\\joblib\\_parallel_backends.py\", line 208, in apply_async\n",
      "    result = ImmediateResult(func)\n",
      "  File \"E:\\Anaconda\\lib\\site-packages\\joblib\\_parallel_backends.py\", line 572, in __init__\n",
      "    self.results = batch()\n",
      "  File \"E:\\Anaconda\\lib\\site-packages\\joblib\\parallel.py\", line 262, in __call__\n",
      "    return [func(*args, **kwargs)\n",
      "  File \"E:\\Anaconda\\lib\\site-packages\\joblib\\parallel.py\", line 262, in <listcomp>\n",
      "    return [func(*args, **kwargs)\n",
      "  File \"E:\\Anaconda\\lib\\site-packages\\sklearn\\utils\\fixes.py\", line 216, in __call__\n",
      "    return self.function(*args, **kwargs)\n",
      "  File \"E:\\Anaconda\\lib\\site-packages\\sklearn\\ensemble\\_forest.py\", line 185, in _parallel_build_trees\n",
      "    tree.fit(X, y, sample_weight=curr_sample_weight, check_input=False)\n",
      "  File \"E:\\Anaconda\\lib\\site-packages\\sklearn\\tree\\_classes.py\", line 937, in fit\n",
      "    super().fit(\n",
      "  File \"E:\\Anaconda\\lib\\site-packages\\sklearn\\tree\\_classes.py\", line 250, in fit\n",
      "    raise ValueError(\n",
      "ValueError: min_samples_split must be an integer greater than 1 or a float in (0.0, 1.0]; got the integer 1\n",
      "\n",
      "  warnings.warn(some_fits_failed_message, FitFailedWarning)\n",
      "E:\\Anaconda\\lib\\site-packages\\sklearn\\model_selection\\_search.py:969: UserWarning: One or more of the test scores are non-finite: [0.84928018 0.83997785        nan 0.8351052  0.78792913        nan\n",
      "        nan 0.82081949 0.81196013 0.83521595]\n",
      "  warnings.warn(\n"
     ]
    },
    {
     "data": {
      "text/plain": [
       "RandomizedSearchCV(cv=5, estimator=RandomForestClassifier(),\n",
       "                   param_distributions={'max_depth': [1, 5, 10, 20],\n",
       "                                        'min_samples_leaf': [1, 2, 5, 10],\n",
       "                                        'min_samples_split': [1, 2, 5, 7, 10],\n",
       "                                        'n_estimators': [10, 50, 100, 150,\n",
       "                                                         200]},\n",
       "                   scoring='accuracy', verbose=3)"
      ]
     },
     "execution_count": 78,
     "metadata": {},
     "output_type": "execute_result"
    }
   ],
   "source": [
    "cv.fit(X_train,y_train)\n"
   ]
  },
  {
   "cell_type": "markdown",
   "id": "0caf30e7",
   "metadata": {},
   "source": [
    "### Q7. Report the best set of hyperparameters found by the search and the corresponding performance metrics. Compare the performance of the tuned model with the default model."
   ]
  },
  {
   "cell_type": "code",
   "execution_count": 79,
   "id": "1f17f50f",
   "metadata": {},
   "outputs": [
    {
     "data": {
      "text/plain": [
       "{'n_estimators': 150,\n",
       " 'min_samples_split': 7,\n",
       " 'min_samples_leaf': 5,\n",
       " 'max_depth': 20}"
      ]
     },
     "execution_count": 79,
     "metadata": {},
     "output_type": "execute_result"
    }
   ],
   "source": [
    "cv.best_params_"
   ]
  },
  {
   "cell_type": "code",
   "execution_count": 83,
   "id": "136d1f06",
   "metadata": {},
   "outputs": [],
   "source": [
    "rf_cv=RandomForestClassifier(**cv.best_params_)"
   ]
  },
  {
   "cell_type": "code",
   "execution_count": 84,
   "id": "16c7858e",
   "metadata": {},
   "outputs": [
    {
     "data": {
      "text/plain": [
       "RandomForestClassifier(max_depth=20, min_samples_leaf=5, min_samples_split=7,\n",
       "                       n_estimators=150)"
      ]
     },
     "execution_count": 84,
     "metadata": {},
     "output_type": "execute_result"
    }
   ],
   "source": [
    "rf_cv.fit(X_train,y_train)"
   ]
  },
  {
   "cell_type": "code",
   "execution_count": 85,
   "id": "5c810d4a",
   "metadata": {},
   "outputs": [
    {
     "name": "stdout",
     "output_type": "stream",
     "text": [
      "Accuracy : 0.8241758241758241\n",
      "Precision : 0.7884615384615384\n",
      "Recall : 0.8913043478260869\n",
      "F1 Score : 0.836734693877551\n"
     ]
    }
   ],
   "source": [
    "y_pred_cv = rf_cv.predict(X_test)\n",
    "score_cv = eval_model(y_test,y_pred_cv)"
   ]
  },
  {
   "cell_type": "code",
   "execution_count": 89,
   "id": "764cd68a",
   "metadata": {},
   "outputs": [
    {
     "data": {
      "text/plain": [
       "{'accuracy': 0.7912087912087912,\n",
       " 'precison': 0.7547169811320755,\n",
       " 'recall': 0.8695652173913043,\n",
       " 'f1': 0.8080808080808081}"
      ]
     },
     "execution_count": 89,
     "metadata": {},
     "output_type": "execute_result"
    }
   ],
   "source": [
    "rf_score"
   ]
  },
  {
   "cell_type": "markdown",
   "id": "7c24fa73",
   "metadata": {},
   "source": [
    "### Q8. Interpret the model by analysing the decision boundaries of the random forest classifier. Plot the decision boundaries on a scatter plot of two of the most important features. Discuss the insights and limitations of the model for predicting heart disease risk."
   ]
  },
  {
   "cell_type": "markdown",
   "id": "e6464411",
   "metadata": {},
   "source": [
    "Plotting Decision boundary for the model is challenging. \n",
    "And the model doesnt have high accuracy for to be used in real life as heart disease are important issue so we would need to more training data and better model to increase the accuracy and better predictions"
   ]
  },
  {
   "cell_type": "code",
   "execution_count": null,
   "id": "2e9a63a9",
   "metadata": {},
   "outputs": [],
   "source": []
  }
 ],
 "metadata": {
  "kernelspec": {
   "display_name": "Python 3 (ipykernel)",
   "language": "python",
   "name": "python3"
  },
  "language_info": {
   "codemirror_mode": {
    "name": "ipython",
    "version": 3
   },
   "file_extension": ".py",
   "mimetype": "text/x-python",
   "name": "python",
   "nbconvert_exporter": "python",
   "pygments_lexer": "ipython3",
   "version": "3.9.13"
  }
 },
 "nbformat": 4,
 "nbformat_minor": 5
}
