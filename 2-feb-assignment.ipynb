{
 "cells": [
  {
   "cell_type": "markdown",
   "id": "3d2e2483",
   "metadata": {},
   "source": [
    "#### 1. What are the characterstics of the tuples? Is tuple immutable\n",
    "* Tuples are collections of data that can store elements os multiple datatypes\n",
    "* Tuples are ordered\n",
    "* Tuples allow duplicate values\n",
    "* Tuples are indexed\n",
    "* Tuples are immutable"
   ]
  },
  {
   "cell_type": "markdown",
   "id": "ae4a2e23",
   "metadata": {},
   "source": [
    "#### 2. What are the two tuple methods in python? Give an example of each method. Give reason why tuples have only two in built methods compared to lists"
   ]
  },
  {
   "cell_type": "code",
   "execution_count": 6,
   "id": "b44af641",
   "metadata": {},
   "outputs": [
    {
     "name": "stdout",
     "output_type": "stream",
     "text": [
      "3\n",
      "1\n"
     ]
    }
   ],
   "source": [
    "# 1. count() method\n",
    "tuple1 = (1,2,3,4,5,5,4,3,5)\n",
    "print(tuple1.count(5))\n",
    "\n",
    "# 2. index() method\n",
    "print(tuple1.index(2))"
   ]
  },
  {
   "cell_type": "markdown",
   "id": "fa5f463c",
   "metadata": {},
   "source": [
    "As Tuples are immutable not many operations can be performed on them. Tuples are meant to be changed afterwards. "
   ]
  },
  {
   "cell_type": "markdown",
   "id": "2b908fa0",
   "metadata": {},
   "source": [
    "#### 3. Which collection datatypes in python dont allow duplicate items? Write a code using set to remove duplicates from the given list\n",
    "Sets dont allow duplicate items"
   ]
  },
  {
   "cell_type": "code",
   "execution_count": 9,
   "id": "e4b4a536",
   "metadata": {},
   "outputs": [
    {
     "name": "stdout",
     "output_type": "stream",
     "text": [
      "[1, 2, 3, 4]\n"
     ]
    }
   ],
   "source": [
    "List = [1,1,1,2,1,3,1,4,2,1,2,2,2,3,2,1,3]\n",
    "List = list(set(List))\n",
    "print(List)"
   ]
  },
  {
   "cell_type": "markdown",
   "id": "a5504755",
   "metadata": {},
   "source": [
    "#### 4. Explain the difference between union() and update() methods for a set. Give an example of each method\n",
    "union() method creates new set when it is performed whereas update() method updates the existing set on which update() method is performed\n",
    "union returns the new set whereas update doesnt return a new set\n"
   ]
  },
  {
   "cell_type": "code",
   "execution_count": 16,
   "id": "d6a69183",
   "metadata": {},
   "outputs": [
    {
     "name": "stdout",
     "output_type": "stream",
     "text": [
      "{1, 2, 3, 4, 5, 6, 7, 8}\n",
      "{1, 2, 3, 4}\n",
      "None\n",
      "{1, 2, 3, 4, 5, 6, 7, 8}\n"
     ]
    }
   ],
   "source": [
    "set1 = {1,2,3,4}\n",
    "set2 = {5,6,7,8}\n",
    "print(set1.union(set2))\n",
    "print(set1)\n",
    "set3 = {1,2,3,4}\n",
    "set4 = {5,6,7,8}\n",
    "print(set3.update(set4))\n",
    "print(set3)"
   ]
  },
  {
   "cell_type": "markdown",
   "id": "2ca60c17",
   "metadata": {},
   "source": [
    "#### 5. What is a dictionary? Give an example. Also state whether a dctionary is ordered or unordered.\n",
    "\n",
    "Dictionaries are collection in python which are used to store data in key value pairs.\n",
    "Dictionaries are ordered"
   ]
  },
  {
   "cell_type": "code",
   "execution_count": 17,
   "id": "e1395f2f",
   "metadata": {},
   "outputs": [
    {
     "name": "stdout",
     "output_type": "stream",
     "text": [
      "{'a': 1, 'b': 2, 'c': 3, 'd': 4}\n"
     ]
    }
   ],
   "source": [
    "dict1={\n",
    "    'a':1,\n",
    "    'b':2,\n",
    "    'c':3,\n",
    "    'd':4\n",
    "}\n",
    "print(dict1)"
   ]
  },
  {
   "cell_type": "markdown",
   "id": "2d313df0",
   "metadata": {},
   "source": [
    "#### 6, Can we create a nested dictionary?. If so, please give an example by creating a simple one-level nested dictionary\n",
    "\n",
    "Yes we can create nested dictionary"
   ]
  },
  {
   "cell_type": "code",
   "execution_count": 18,
   "id": "0778d209",
   "metadata": {},
   "outputs": [
    {
     "name": "stdout",
     "output_type": "stream",
     "text": [
      "{'c': 3, 'd': {'a': 1, 'b': 2}}\n"
     ]
    }
   ],
   "source": [
    "dict2 ={\n",
    "    'a':1,\n",
    "    'b':2\n",
    "}\n",
    "dict3 ={\n",
    "    'c':3,\n",
    "    'd':dict2\n",
    "}\n",
    "print(dict3)"
   ]
  },
  {
   "cell_type": "markdown",
   "id": "fe92a037",
   "metadata": {},
   "source": [
    "#### 7. Using setdefault() method, create key named topics in the given dictionary and also add the value of the key as this list ['Python','Machine Learning','Deep Learning']\n",
    "dict1 = {'language':'python','course':'Data Science Masters'}"
   ]
  },
  {
   "cell_type": "code",
   "execution_count": 19,
   "id": "71567c6c",
   "metadata": {},
   "outputs": [
    {
     "name": "stdout",
     "output_type": "stream",
     "text": [
      "{'language': 'python', 'course': 'Data Science Masters', 'topics': ['Python', 'Machine Learning', 'Deep Learning']}\n"
     ]
    }
   ],
   "source": [
    "dict1 = {'language':'python','course':'Data Science Masters'}\n",
    "topics_list = ['Python','Machine Learning','Deep Learning']\n",
    "dict1.setdefault('topics',topics_list)\n",
    "print(dict1)"
   ]
  },
  {
   "cell_type": "markdown",
   "id": "ee210822",
   "metadata": {},
   "source": [
    "#### 8. What are the three view objects in dictionaries? Use the three in built methods in python to diplay these three view objects for the given dictionary.\n",
    "\n",
    "3 view Objects are:\n",
    "1. dict.items() - return the items in the dictionary\n",
    "2. dict.keys()  - returns the keys in the dictionary\n",
    "3. dict.values() - returns the values in the dictionary"
   ]
  },
  {
   "cell_type": "code",
   "execution_count": 20,
   "id": "78039c52",
   "metadata": {},
   "outputs": [
    {
     "name": "stdout",
     "output_type": "stream",
     "text": [
      "dict_values(['Cricket', ['India', 'Australia', 'England', 'South Africa', 'Sri Lanka', 'New Zealand']])\n",
      "dict_keys(['Sport', 'Teams'])\n",
      "dict_values(['Cricket', ['India', 'Australia', 'England', 'South Africa', 'Sri Lanka', 'New Zealand']])\n"
     ]
    }
   ],
   "source": [
    "dict1={\n",
    "    'Sport':'Cricket',\n",
    "    'Teams' : ['India', 'Australia', 'England', 'South Africa', 'Sri Lanka', 'New Zealand']\n",
    "}\n",
    "print(dict1.values())\n",
    "print(dict1.keys())\n",
    "print(dict1.values())\n"
   ]
  },
  {
   "cell_type": "code",
   "execution_count": null,
   "id": "f0b5054c",
   "metadata": {},
   "outputs": [],
   "source": []
  }
 ],
 "metadata": {
  "kernelspec": {
   "display_name": "Python 3 (ipykernel)",
   "language": "python",
   "name": "python3"
  },
  "language_info": {
   "codemirror_mode": {
    "name": "ipython",
    "version": 3
   },
   "file_extension": ".py",
   "mimetype": "text/x-python",
   "name": "python",
   "nbconvert_exporter": "python",
   "pygments_lexer": "ipython3",
   "version": "3.9.13"
  }
 },
 "nbformat": 4,
 "nbformat_minor": 5
}
