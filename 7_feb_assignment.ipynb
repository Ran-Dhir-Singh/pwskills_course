{
 "cells": [
  {
   "cell_type": "markdown",
   "id": "4e162c77",
   "metadata": {},
   "source": [
    "### 1 . You are writing code for a company. The requirement of the company is that you create a python function the will check whether the password entered by the user is correct or not. The function should take the password as input and return the string \"valid password\" if entered password follows the below given password guidelines else it should return \"Invalid password\"\n",
    "     1. The password should contain at least two uppercase letters and atleast two lowercase letters.\n",
    "    2. The password should contain at least a number and three special characters.\n",
    "    3. The length of the password should be 10 characters long"
   ]
  },
  {
   "cell_type": "code",
   "execution_count": 7,
   "id": "02518c83",
   "metadata": {},
   "outputs": [],
   "source": [
    "import re\n",
    "def check_password(password):\n",
    "    valid = \"Valid Password\"\n",
    "    invalid = \"Invalid Password\"\n",
    "    if len(password)<10:\n",
    "        return invalid\n",
    "    \n",
    "    upper_char = 0\n",
    "    lower_char = 0\n",
    "    for char in password:\n",
    "        if char.isupper():\n",
    "            upper_char += 1\n",
    "        elif char.islower():\n",
    "            lower_char += 1\n",
    "    if upper_char < 2 or lower_char < 2:\n",
    "        return invalid\n",
    "    \n",
    "    if not re.search(\"[0-9]\", password):\n",
    "        return invalid\n",
    "    \n",
    "    if len(re.findall(\"[^a-zA-Z0-9]\", password))<3:\n",
    "        return invalid\n",
    "    \n",
    "    return valid"
   ]
  },
  {
   "cell_type": "code",
   "execution_count": 8,
   "id": "d280804e",
   "metadata": {},
   "outputs": [
    {
     "name": "stdout",
     "output_type": "stream",
     "text": [
      "Valid Password\n"
     ]
    }
   ],
   "source": [
    "password1=\"AAaaa2354!@#\"\n",
    "print(check_password(password1))"
   ]
  },
  {
   "cell_type": "code",
   "execution_count": 10,
   "id": "284a4534",
   "metadata": {},
   "outputs": [
    {
     "name": "stdout",
     "output_type": "stream",
     "text": [
      "Invalid Password\n"
     ]
    }
   ],
   "source": [
    "password2 =\"aaA12445*&^)\"\n",
    "print(check_password(password2))"
   ]
  },
  {
   "cell_type": "markdown",
   "id": "46c04fb4",
   "metadata": {},
   "source": [
    "### Solve the below given questions using at least one of the following:\n",
    "1. Lambda Function\n",
    "2. Filter Function\n",
    "3. Map Function\n",
    "4. List Comprehension"
   ]
  },
  {
   "cell_type": "code",
   "execution_count": 13,
   "id": "4ad7172c",
   "metadata": {},
   "outputs": [
    {
     "name": "stdout",
     "output_type": "stream",
     "text": [
      "True\n"
     ]
    }
   ],
   "source": [
    "# Check if the string starts with a particular letter\n",
    "check_starts = lambda text, char : text.startswith(char)\n",
    "print(check_starts(\"abcd\",'a'))"
   ]
  },
  {
   "cell_type": "code",
   "execution_count": 18,
   "id": "2009f645",
   "metadata": {},
   "outputs": [
    {
     "name": "stdout",
     "output_type": "stream",
     "text": [
      "True\n"
     ]
    }
   ],
   "source": [
    "# check if the the string is numeric\n",
    "check_numeric = lambda text : text.isdigit()\n",
    "print(check_numeric(\"19887\"))"
   ]
  },
  {
   "cell_type": "code",
   "execution_count": 19,
   "id": "6a247727",
   "metadata": {},
   "outputs": [
    {
     "name": "stdout",
     "output_type": "stream",
     "text": [
      "[('orange', 80), ('mango', 99), ('grapes', 1000)]\n"
     ]
    }
   ],
   "source": [
    "# Sort a list of tuples having fruit names and their quantity. [(\"mango\",99),(\"orange\",80), (\"grapes\", 1000)]\n",
    "list1 = [(\"mango\",99),(\"orange\",80), (\"grapes\", 1000)]\n",
    "sorted_list = sorted(list1, key=lambda x:x[1])\n",
    "print(sorted_list)"
   ]
  },
  {
   "cell_type": "code",
   "execution_count": 20,
   "id": "cb10a02e",
   "metadata": {},
   "outputs": [
    {
     "name": "stdout",
     "output_type": "stream",
     "text": [
      "The square of 1 is 1\n",
      "The square of 2 is 4\n",
      "The square of 3 is 9\n",
      "The square of 4 is 16\n",
      "The square of 5 is 25\n",
      "The square of 6 is 36\n",
      "The square of 7 is 49\n",
      "The square of 8 is 64\n",
      "The square of 9 is 81\n",
      "The square of 10 is 100\n"
     ]
    }
   ],
   "source": [
    "#Find the squares of numbers from 1 to 10\n",
    "squares = map(lambda x: x ** 2, range(1, 11))\n",
    "for i, square in enumerate(squares, start=1):\n",
    "    print(f\"The square of {i} is {square}\")"
   ]
  },
  {
   "cell_type": "code",
   "execution_count": 21,
   "id": "d8307849",
   "metadata": {},
   "outputs": [
    {
     "name": "stdout",
     "output_type": "stream",
     "text": [
      "The cube root of 1 is 1.00\n",
      "The cube root of 2 is 1.26\n",
      "The cube root of 3 is 1.44\n",
      "The cube root of 4 is 1.59\n",
      "The cube root of 5 is 1.71\n",
      "The cube root of 6 is 1.82\n",
      "The cube root of 7 is 1.91\n",
      "The cube root of 8 is 2.00\n",
      "The cube root of 9 is 2.08\n",
      "The cube root of 10 is 2.15\n"
     ]
    }
   ],
   "source": [
    "#Find the cube root of numbers from 1 to 10\n",
    "cube_roots = map(lambda x: x**(1/3), range(1, 11))\n",
    "\n",
    "for i, cube_root in enumerate(cube_roots, start=1):\n",
    "    print(f\"The cube root of {i} is {cube_root:.2f}\")"
   ]
  },
  {
   "cell_type": "code",
   "execution_count": 23,
   "id": "6905d4fb",
   "metadata": {},
   "outputs": [
    {
     "name": "stdout",
     "output_type": "stream",
     "text": [
      "4 is even\n"
     ]
    }
   ],
   "source": [
    "#Check if a given number is even\n",
    "number = 4\n",
    "is_even = (lambda x: x % 2 == 0)(number)\n",
    "\n",
    "if is_even:\n",
    "    print(f\"{number} is even\")\n",
    "else:\n",
    "    print(f\"{number} is odd\")"
   ]
  },
  {
   "cell_type": "code",
   "execution_count": 24,
   "id": "99033ca9",
   "metadata": {},
   "outputs": [
    {
     "name": "stdout",
     "output_type": "stream",
     "text": [
      "[1, 3, 5, 7, 9]\n"
     ]
    }
   ],
   "source": [
    "#Filter odd numbers from the given list.\n",
    "list_2=[1,2,3,4,5,6,7,8,9,10]\n",
    "filtered_list = list(filter(lambda x: x % 2 != 0, list_2))\n",
    "\n",
    "print(filtered_list)"
   ]
  },
  {
   "cell_type": "code",
   "execution_count": 25,
   "id": "959bb1b6",
   "metadata": {},
   "outputs": [
    {
     "name": "stdout",
     "output_type": "stream",
     "text": [
      "Positive numbers: [1, 2, 3, 4, 5, 6]\n",
      "Negative numbers: [-5, -4, -3, -2, -1]\n"
     ]
    }
   ],
   "source": [
    "#Sort a list of integers into positive and negative integers lists.\n",
    "list_3 = [1,2,3,4,5,6,-1,-2,-3,-4,-5,0]\n",
    "positive_nums = sorted([num for num in list_3 if num > 0])\n",
    "negative_nums = sorted([num for num in list_3 if num < 0])\n",
    "\n",
    "print(\"Positive numbers:\", positive_nums)\n",
    "print(\"Negative numbers:\", negative_nums)"
   ]
  },
  {
   "cell_type": "code",
   "execution_count": null,
   "id": "01a73596",
   "metadata": {},
   "outputs": [],
   "source": []
  }
 ],
 "metadata": {
  "kernelspec": {
   "display_name": "Python 3 (ipykernel)",
   "language": "python",
   "name": "python3"
  },
  "language_info": {
   "codemirror_mode": {
    "name": "ipython",
    "version": 3
   },
   "file_extension": ".py",
   "mimetype": "text/x-python",
   "name": "python",
   "nbconvert_exporter": "python",
   "pygments_lexer": "ipython3",
   "version": "3.9.13"
  }
 },
 "nbformat": 4,
 "nbformat_minor": 5
}
