{
 "cells": [
  {
   "cell_type": "markdown",
   "id": "fbfd70a7",
   "metadata": {},
   "source": [
    "### Q1. What are the three measures of central tendency?\n",
    "\n",
    "    1. Mean\n",
    "    2. Median\n",
    "    3. Mode"
   ]
  },
  {
   "cell_type": "markdown",
   "id": "684bf348",
   "metadata": {},
   "source": [
    "### Q2. What is the difference between the mean, median, and mode? How are they used to measure the central tendency of a dataset?\n",
    "\n",
    "1. The `mean` is the average value of all the data points in the dataset. It is calculated by adding up all the values in the dataset and then dividing by the number of data points. The mean is sensitive to extreme values or outliers, as they can heavily influence its value.\n",
    "\n",
    "2. The `median` is the middle value in a dataset when the data points are arranged in order from smallest to largest. If there is an even number of data points, the median is the average of the two middle values. The median is often used when the dataset has outliers, as it is not as affected by extreme values as the mean.\n",
    "\n",
    "3. The `mode` is the value that appears most frequently in a dataset. A dataset may have one mode, multiple modes (in which case it is called bimodal or multimodal), or no mode at all. The mode is often used for categorical or discrete data, where there may not be a meaningful concept of a \"middle\" value.\n",
    "\n",
    "To measure the central tendency of a dataset, we can use any of these measures, depending on the nature of the data and the research question. For example, if we want to know the typical income of a group of people, we might use the mean. If we want to know the typical house price in a neighborhood, we might use the median, as extreme values can heavily skew the mean. If we want to know the most common color of a type of flower, we might use the mode."
   ]
  },
  {
   "cell_type": "markdown",
   "id": "ee1fc646",
   "metadata": {},
   "source": [
    "### Q3. Measure the three measures of central tendency for the given height data:\n"
   ]
  },
  {
   "cell_type": "code",
   "execution_count": 1,
   "id": "86d2fd86",
   "metadata": {},
   "outputs": [],
   "source": [
    "data = [178,177,176,177,178.2,178,175,179,180,175,178.9,176.2,177,172.5,178,176.5]"
   ]
  },
  {
   "cell_type": "markdown",
   "id": "eb48b393",
   "metadata": {},
   "source": [
    "1. Mean:\n",
    "To find the mean, we add up all the values in the dataset and divide by the number of data points:\n",
    "    (178 + 177 + 176 + 177 + 178.2 + 178 + 175 + 179 + 180 + 175 + 178.9 + 176.2 + 177 + 172.5 + 178 + 176.5) / 16 = 176.9\n",
    "So the mean of the dataset is 176.9.\n",
    "\n",
    "2. Median:\n",
    "To find the median, we first need to arrange the data points in order from smallest to largest:\n",
    "172.5, 175, 175, 176, 176.2, 176.5, 177, 177, 177, 178, 178, 178, 178.2, 178.9, 179, 180\n",
    "There are 16 data points, so the median is the average of the two middle values, which are 177 and 177:\n",
    "(177 + 177) / 2 = 177\n",
    "So the median of the dataset is 177.\n",
    "\n",
    "3. Mode:\n",
    "To find the mode, we need to identify the value that appears most frequently in the dataset. In this case, the value 177 and 178 appears most frequently, both appear 3 times\n",
    "mode = 177 and 178"
   ]
  },
  {
   "cell_type": "code",
   "execution_count": 2,
   "id": "04f2153e",
   "metadata": {},
   "outputs": [],
   "source": [
    "import numpy as np\n",
    "\n",
    "data = np.array(data)"
   ]
  },
  {
   "cell_type": "code",
   "execution_count": 3,
   "id": "d24d4566",
   "metadata": {},
   "outputs": [
    {
     "name": "stdout",
     "output_type": "stream",
     "text": [
      "Mean : 177.01875\n"
     ]
    }
   ],
   "source": [
    "mean = np.mean(data)\n",
    "print(f\"Mean : {mean}\")"
   ]
  },
  {
   "cell_type": "code",
   "execution_count": 4,
   "id": "2f7c712f",
   "metadata": {},
   "outputs": [
    {
     "name": "stdout",
     "output_type": "stream",
     "text": [
      "Median : 177.0\n"
     ]
    }
   ],
   "source": [
    "median = np.median(data)\n",
    "print(f\"Median : {median}\")"
   ]
  },
  {
   "cell_type": "code",
   "execution_count": 7,
   "id": "00d7ca37",
   "metadata": {},
   "outputs": [
    {
     "name": "stdout",
     "output_type": "stream",
     "text": [
      "Mode : ModeResult(mode=array([177.]), count=array([3]))\n"
     ]
    },
    {
     "name": "stderr",
     "output_type": "stream",
     "text": [
      "C:\\Users\\Randhir Singh\\AppData\\Local\\Temp\\ipykernel_12868\\3272704021.py:2: FutureWarning: Unlike other reduction functions (e.g. `skew`, `kurtosis`), the default behavior of `mode` typically preserves the axis it acts along. In SciPy 1.11.0, this behavior will change: the default value of `keepdims` will become False, the `axis` over which the statistic is taken will be eliminated, and the value None will no longer be accepted. Set `keepdims` to True or False to avoid this warning.\n",
      "  mode = stats.mode(data)\n"
     ]
    }
   ],
   "source": [
    "from scipy import stats\n",
    "mode = stats.mode(data)\n",
    "print(f\"Mode : {mode}\")"
   ]
  },
  {
   "cell_type": "markdown",
   "id": "b1aca98e",
   "metadata": {},
   "source": [
    "### Q4. Find the standard deviation for the given data:\n"
   ]
  },
  {
   "cell_type": "code",
   "execution_count": 8,
   "id": "6973d045",
   "metadata": {},
   "outputs": [],
   "source": [
    "data_4 = [178,177,176,177,178.2,178,175,179,180,175,178.9,176.2,177,172.5,178,176.5]"
   ]
  },
  {
   "cell_type": "code",
   "execution_count": 9,
   "id": "12df4a9d",
   "metadata": {},
   "outputs": [
    {
     "name": "stdout",
     "output_type": "stream",
     "text": [
      "Standard Deviation : 1.7885814036548633\n"
     ]
    }
   ],
   "source": [
    "standard_deviation = np.std(data_4)\n",
    "print(f\"Standard Deviation : {standard_deviation}\")"
   ]
  },
  {
   "cell_type": "markdown",
   "id": "2b8342b4",
   "metadata": {},
   "source": [
    "### Q5. How are measures of dispersion such as range, variance, and standard deviation used to describe the spread of a dataset? Provide an example.\n",
    "\n",
    "Measures of dispersion such as range, variance, and standard deviation are used to describe how spread out the data is in a dataset. Here's a brief explanation of each measure and how they can be used:\n",
    "\n",
    "* `Range`: The range of a dataset is simply the difference between the maximum and minimum values. It provides a rough idea of how spread out the data is, but it can be influenced by outliers. For example, if we have a dataset of test scores ranging from 50 to 100, the range would be 50 (100 - 50).\n",
    "\n",
    "* `Variance`: The variance of a dataset measures how much the data points deviate from the mean. It is calculated by subtracting the mean from each data point, squaring the differences, summing them up, and dividing by the number of data points minus 1. A higher variance means the data points are more spread out from the mean. For example, consider the following dataset of test scores: [60, 70, 80, 90, 100]. The mean is 80, so the variance would be:\n",
    "\n",
    "    [(60-80)^2 + (70-80)^2 + (80-80)^2 + (90-80)^2 + (100-80)^2] / (5-1) = 200\n",
    "    \n",
    "    \n",
    "* `Standard deviation`: The standard deviation is simply the square root of the variance. It is a more commonly used measure of dispersion than variance because it is expressed in the same units as the original data. A higher standard deviation means the data points are more spread out from the mean. For the same dataset of test scores [60, 70, 80, 90, 100], the standard deviation would be:\n",
    "\n",
    "    sqrt(200) = 14.14"
   ]
  },
  {
   "cell_type": "markdown",
   "id": "60c62e2a",
   "metadata": {},
   "source": [
    "### Q6. What is a Venn diagram?\n",
    "\n",
    "A Venn diagram is a visual representation of the relationships between different sets or groups of data. It consists of overlapping circles or ellipses, each representing a set or group, with the overlapping parts representing the elements that are shared between the sets."
   ]
  },
  {
   "cell_type": "markdown",
   "id": "f62a7118",
   "metadata": {},
   "source": [
    "### Q7. For the two given sets A = (2,3,4,5,6,7) & B = (0,2,6,8,10). Find:\n",
    "(i) A∩B\n",
    "(ii) A ⋃ B\n",
    "\n",
    "1. A ∩ B = {2, 6}\n",
    "\n",
    "2. A ⋃ B = {0, 2, 3, 4, 5, 6, 7, 8, 10}"
   ]
  },
  {
   "cell_type": "markdown",
   "id": "124314ec",
   "metadata": {},
   "source": [
    "### Q8. What do you understand about skewness in data?\n",
    "\n",
    "Skewness is a statistical measure that describes the asymmetry of a distribution of data around its mean. It is a measure of the degree to which the data is skewed to the left or right of the mean.\n",
    "\n",
    "A distribution is said to be skewed if it is not symmetric. If the tail of the distribution is longer on the left side, it is said to be negatively skewed or left-skewed, and if the tail is longer on the right side, it is said to be positively skewed or right-skewed. A distribution that is symmetric has zero skewness."
   ]
  },
  {
   "cell_type": "markdown",
   "id": "25b54020",
   "metadata": {},
   "source": [
    "### Q9. If a data is right skewed then what will be the position of median with respect to mean?\n",
    "\n",
    "If a data is right-skewed, meaning it has a long tail to the right, then the position of the median with respect to the mean will be less than the mean. In other words, the median will be less than the mean"
   ]
  },
  {
   "cell_type": "markdown",
   "id": "0435eafb",
   "metadata": {},
   "source": [
    "### Q10. Explain the difference between covariance and correlation. How are these measures used in statistical analysis?\n",
    "\n",
    "Covariance and correlation are two statistical measures used to describe the relationship between two variables. Here's the difference between them:\n",
    "\n",
    "`Covariance` measures the linear relationship between two variables. It is a measure of how much two variables vary together. Specifically, covariance measures how much two variables vary from their mean values together. A positive covariance indicates that when one variable is above its mean, the other variable tends to be above its mean as well, and when one variable is below its mean, the other variable tends to be below its mean as well. A negative covariance indicates that when one variable is above its mean, the other variable tends to be below its mean and vice versa.\n",
    "\n",
    "`Correlation`, on the other hand, measures the strength and direction of the linear relationship between two variables. Correlation is always between -1 and 1. A correlation of +1 indicates a perfect positive relationship (i.e., as one variable increases, the other variable increases by a constant amount), a correlation of 0 indicates no relationship between the variables, and a correlation of -1 indicates a perfect negative relationship (i.e., as one variable increases, the other variable decreases by a constant amount).\n",
    "\n",
    "Covariance is used to describe the relationship between two variables, while correlation is used to measure the strength of that relationship. Both covariance and correlation are used in statistical analysis to identify patterns and relationships in data. Covariance is often used in finance to measure the risk and return of two different assets. Correlation is used in a variety of fields, including finance, economics, and social sciences, to measure the relationship between two variables and to make predictions based on that relationship."
   ]
  },
  {
   "cell_type": "markdown",
   "id": "19c613fb",
   "metadata": {},
   "source": [
    "### Q11. What is the formula for calculating the sample mean? Provide an example calculation for a dataset.\n",
    "\n",
    "The formula for calculating the sample mean is:\n",
    "\n",
    "sample mean = (sum of all values in the sample) / (number of values in the sample)\n",
    "\n",
    "Here's an example calculation for a dataset:\n",
    "\n",
    "Consider the following dataset of 10 values: 5, 7, 8, 6, 10, 2, 4, 9, 7, 3.\n",
    "\n",
    "To calculate the sample mean, we first add up all the values in the sample:\n",
    "\n",
    "5 + 7 + 8 + 6 + 10 + 2 + 4 + 9 + 7 + 3 = 61\n",
    "\n",
    "Next, we divide the sum by the number of values in the sample, which is 10:\n",
    "\n",
    "61 / 10 = 6.1\n",
    "\n",
    "Therefore, the sample mean for this dataset is 6.1.\n",
    "\n",
    "\n",
    "\n"
   ]
  },
  {
   "cell_type": "markdown",
   "id": "6e904f25",
   "metadata": {},
   "source": [
    "### Q12. For a normal distribution data what is the relationship between its measure of central tendency?\n",
    "\n",
    "For a normal distribution, the measures of central tendency, which include the mean, median, and mode, are all equal. This means that if a dataset follows a normal distribution, the mean, median, and mode will all have the same value. This is because the normal distribution is symmetric around its mean, and the mean represents the center of the distribution. The median, which is the middle value when the data is ordered from smallest to largest, also represents the center of the distribution for a normal distribution, since it divides the data into two equal halves. Finally, the mode, which is the value that appears most frequently in the dataset, also represents the center of the distribution in a normal distribution since the distribution is symmetric around the mode as well."
   ]
  },
  {
   "cell_type": "markdown",
   "id": "82946894",
   "metadata": {},
   "source": [
    "### Q13. How is covariance different from correlation?\n",
    "\n",
    "Covariance and correlation are both measures of the relationship between two variables, but they differ in several ways:\n",
    "\n",
    "1. Definition: Covariance measures the extent to which two variables vary together, while correlation measures the strength and direction of the linear relationship between two variables.\n",
    "\n",
    "2. Units of measure: Covariance has units of measure that are the product of the units of the two variables being measured, while correlation is a unitless measure that ranges between -1 and 1.\n",
    "\n",
    "3. Interpretation: A covariance value can be positive, negative, or zero. A positive covariance indicates that as one variable increases, the other variable tends to increase as well, while a negative covariance indicates that as one variable increases, the other variable tends to decrease. A covariance of zero indicates that the two variables are independent of each other. On the other hand, correlation is always between -1 and 1, with a positive correlation indicating a positive relationship between the variables, a negative correlation indicating a negative relationship, and a correlation of zero indicating no relationship.\n",
    "\n",
    "4. Scale dependence: Covariance is dependent on the scale of the variables being measured, while correlation is not. For example, if one variable is measured in dollars and the other variable is measured in euros, the covariance between them will depend on the exchange rate used to convert between the two currencies. Correlation, however, will be unaffected by the choice of units of measurement.\n",
    "\n",
    "5. Interpretation in regression: Covariance is used to estimate regression coefficients, while correlation is not. Specifically, the covariance between the independent variable and the dependent variable is used to estimate the slope of the regression line, while the correlation between the two variables is used to assess the strength of the relationship."
   ]
  },
  {
   "cell_type": "markdown",
   "id": "4bf646a9",
   "metadata": {},
   "source": [
    "### Q14. How do outliers affect measures of central tendency and dispersion? Provide an example.\n",
    "\n",
    "Outliers can have a significant effect on measures of central tendency and dispersion. Central tendency measures such as the mean and median can be pulled towards the outlier, while dispersion measures such as range, variance, and standard deviation can be inflated or deflated depending on the position of the outlier.\n",
    "\n",
    "For example, consider the following dataset of 10 values: 5, 7, 8, 6, 10, 2, 4, 9, 7, 100.\n",
    "\n",
    "The mean of this dataset is (5+7+8+6+10+2+4+9+7+100)/10 = 16.8, which is heavily influenced by the outlier value of 100. The median, on the other hand, is the middle value when the data is ordered from smallest to largest, which in this case is 7, and is less affected by the outlier.\n",
    "\n",
    "When it comes to measures of dispersion, the outlier has a more significant effect on the range than on the variance or standard deviation. The range is the difference between the largest and smallest values in the dataset, so the presence of an outlier with a large value can greatly increase the range. In this example, the range is 98, which is dominated by the outlier value of 100. The variance and standard deviation, on the other hand, are less affected by the outlier since they take into account the deviations of all values from the mean.\n",
    "\n",
    "Overall, outliers can have a strong influence on measures of central tendency and dispersion, so it's important to identify and handle them appropriately in statistical analysis."
   ]
  },
  {
   "cell_type": "code",
   "execution_count": null,
   "id": "52791e58",
   "metadata": {},
   "outputs": [],
   "source": []
  }
 ],
 "metadata": {
  "kernelspec": {
   "display_name": "Python 3 (ipykernel)",
   "language": "python",
   "name": "python3"
  },
  "language_info": {
   "codemirror_mode": {
    "name": "ipython",
    "version": 3
   },
   "file_extension": ".py",
   "mimetype": "text/x-python",
   "name": "python",
   "nbconvert_exporter": "python",
   "pygments_lexer": "ipython3",
   "version": "3.9.13"
  }
 },
 "nbformat": 4,
 "nbformat_minor": 5
}
