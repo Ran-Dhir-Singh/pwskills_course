{
 "cells": [
  {
   "cell_type": "markdown",
   "id": "962c90d7",
   "metadata": {},
   "source": [
    "### Q1. What is multiprocessing in python? Why is it useful?\n",
    "\n",
    "Multiprocessing is a technique in Python that allows for the execution of multiple tasks or processes simultaneously using multiple CPUs or cores. It is a way to utilize the power of modern computers, which often come equipped with multiple CPUs or cores, to speed up the execution of code.\n",
    "\n",
    "Multiprocessing is useful for a variety of reasons. For one, it can help to speed up the execution of code, particularly for CPU-bound tasks. Additionally, it can be used to execute tasks asynchronously, which can be helpful for tasks that involve input/output operations or for tasks that need to wait for other tasks to complete before proceeding.\n",
    "\n",
    "Another advantage of multiprocessing in Python is that it allows for the execution of tasks in a separate process, which can help to isolate the tasks and prevent them from interfering with each other. This can be particularly useful in cases where tasks have dependencies or require specific environments."
   ]
  },
  {
   "cell_type": "markdown",
   "id": "a29a0cd5",
   "metadata": {},
   "source": [
    "### Q2. What are the differences between multiprocessing and multithreading?\n",
    "\n",
    "Both multiprocessing and multithreading are techniques for achieving concurrent execution of code in Python, but they differ in several ways:\n",
    "\n",
    "1. Process vs. thread: Multiprocessing involves creating separate processes, each with its own memory space and Python interpreter, whereas multithreading involves creating multiple threads within the same process, all sharing the same memory space and Python interpreter.\n",
    "\n",
    "2. Overhead: Because each process has its own memory space and interpreter, multiprocessing typically incurs more overhead than multithreading. Creating a new process is more expensive than creating a new thread, and inter-process communication (IPC) can also be more costly than inter-thread communication (ITC).\n",
    "\n",
    "3. CPU-bound vs. I/O-bound tasks: Multiprocessing is generally better suited for CPU-bound tasks, where the bottleneck is CPU utilization, while multithreading is better suited for I/O-bound tasks, where the bottleneck is input/output operations.\n",
    "\n",
    "4. Memory isolation: Because each process has its own memory space, multiprocessing provides better memory isolation than multithreading. This can be useful for tasks that require strict isolation between different components or modules.\n",
    "\n",
    "5. Synchronization: Synchronization between processes can be more complex than synchronization between threads, due to the need for IPC. This can make it more difficult to write correct and efficient code using multiprocessing."
   ]
  },
  {
   "cell_type": "markdown",
   "id": "0454ffbc",
   "metadata": {},
   "source": [
    "### Q3. Write a python code to create a process using the multiprocessing module."
   ]
  },
  {
   "cell_type": "code",
   "execution_count": 5,
   "id": "a9085dc7",
   "metadata": {},
   "outputs": [
    {
     "name": "stdout",
     "output_type": "stream",
     "text": [
      "Main process exiting\n"
     ]
    }
   ],
   "source": [
    "import multiprocessing\n",
    "\n",
    "def worker():\n",
    "    \"\"\"A simple function to run in a separate process.\"\"\"\n",
    "    print(\"Worker process running\")\n",
    "\n",
    "if __name__ == '__main__':\n",
    "    # Create a new process\n",
    "    p = multiprocessing.Process(target=worker)\n",
    "\n",
    "    # Start the process\n",
    "    p.start()\n",
    "\n",
    "    # Wait for the process to finish\n",
    "    p.join()\n",
    "\n",
    "    print(\"Main process exiting\")\n"
   ]
  },
  {
   "cell_type": "markdown",
   "id": "94984daa",
   "metadata": {},
   "source": [
    "### Q4. What is a multiprocessing pool in python? Why is it used?\n",
    "\n",
    "A multiprocessing pool in Python is a way to manage a group of worker processes, where each process executes the same task independently. It is a convenient way to parallelize and distribute the execution of a function across multiple processors or cores, which can help to speed up the execution of a task.\n",
    "\n",
    "A pool is created using the multiprocessing.Pool class, which provides a range of methods for executing functions in parallel. The most commonly used method is map, which applies a function to a sequence of inputs, distributing the work across the processes in the pool. The pool automatically manages the creation and termination of worker processes, as well as communication and synchronization between them."
   ]
  },
  {
   "cell_type": "markdown",
   "id": "d4307285",
   "metadata": {},
   "source": [
    "### Q5. How can we create a pool of worker processes in python using the multiprocessing module?"
   ]
  },
  {
   "cell_type": "code",
   "execution_count": null,
   "id": "181c5884",
   "metadata": {},
   "outputs": [],
   "source": [
    "from multiprocessing import Pool\n",
    "\n",
    "\n",
    "def square(x):\n",
    "    print(f\"start process:{x}\")\n",
    "    square = x * x\n",
    "    print(f\"square {x}:{square}\")\n",
    "    print(f\"end process:{x}\")\n",
    "\n",
    "\n",
    "if __name__ == \"__main__\":\n",
    "    pool = Pool()\n",
    "    pool.map(square, range(0, 5))\n",
    "    pool.close()\n",
    " \n",
    "  \n"
   ]
  },
  {
   "cell_type": "markdown",
   "id": "3a95ee8d",
   "metadata": {},
   "source": [
    "### Q6. Write a python program to create 4 processes, each process should print a different number using the multiprocessing module in python."
   ]
  },
  {
   "cell_type": "code",
   "execution_count": 5,
   "id": "c36900cf",
   "metadata": {},
   "outputs": [],
   "source": [
    "from multiprocessing import Process\n",
    "\n",
    "def print_number(number):\n",
    "    print(number)\n",
    "\n",
    "if __name__ == '__main__':\n",
    "    numbers = [1, 2, 3, 4]\n",
    "    processes = []\n",
    "    p = Process(target=print_number)\n",
    "    processes.append(p)\n",
    "    p.start()\n",
    "    for number in numbers:\n",
    "        p = Process(target=print_number, args=(number,))\n",
    "        processes.append(p)\n",
    "        p.start()\n",
    "        p.join()\n",
    "\n"
   ]
  },
  {
   "cell_type": "code",
   "execution_count": null,
   "id": "03dfd9e2",
   "metadata": {},
   "outputs": [],
   "source": []
  }
 ],
 "metadata": {
  "kernelspec": {
   "display_name": "Python 3 (ipykernel)",
   "language": "python",
   "name": "python3"
  },
  "language_info": {
   "codemirror_mode": {
    "name": "ipython",
    "version": 3
   },
   "file_extension": ".py",
   "mimetype": "text/x-python",
   "name": "python",
   "nbconvert_exporter": "python",
   "pygments_lexer": "ipython3",
   "version": "3.9.13"
  }
 },
 "nbformat": 4,
 "nbformat_minor": 5
}
