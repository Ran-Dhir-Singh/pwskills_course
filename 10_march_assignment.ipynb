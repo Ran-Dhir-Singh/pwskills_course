{
 "cells": [
  {
   "cell_type": "markdown",
   "id": "86fc2c80",
   "metadata": {},
   "source": [
    "### Q1: What is Estimation Statistics? Explain point estimate and interval estimate.\n",
    "\n",
    "Estimation statistics is a branch of statistics that deals with making inferences or predictions about population parameters based on sample data. The goal is to use the sample statistics to estimate an unknown parameter of the population.\n",
    "\n",
    "There are two types of estimation: point estimate and interval estimate.\n",
    "\n",
    "`Point Estimate`:\n",
    "A point estimate is a single value estimate for the unknown population parameter based on sample data. It is usually denoted by a single statistic, such as the sample mean, sample proportion, or sample standard deviation. For example, if we are interested in estimating the mean weight of all elephants in a certain region, we could take a sample of elephants and use the sample mean weight as a point estimate for the population mean weight.\n",
    "The accuracy of a point estimate depends on the sample size and the variability of the data. Generally, larger sample sizes produce more accurate point estimates, but this also depends on the distribution of the data.\n",
    "\n",
    "`Interval Estimate`:\n",
    "An interval estimate is an estimate of the unknown population parameter that takes into account the level of uncertainty associated with the estimate. It consists of a range of values within which the true population parameter is believed to lie with a certain level of confidence. The range is usually constructed around the point estimate.\n",
    "The most common type of interval estimate is the confidence interval. A confidence interval is a range of values that is likely to contain the true population parameter with a specified level of confidence. For example, a 95% confidence interval for the mean weight of all elephants in a certain region would be a range of values within which we believe the true population mean weight is likely to lie with 95% confidence.\n",
    "\n",
    "The accuracy of an interval estimate depends on the sample size, the variability of the data, and the level of confidence desired. Generally, larger sample sizes and lower levels of confidence produce more precise interval estimates."
   ]
  },
  {
   "cell_type": "markdown",
   "id": "c0b5d3d2",
   "metadata": {},
   "source": [
    "### Q2. Write a Python function to estimate the population mean using a sample mean and standard deviation."
   ]
  },
  {
   "cell_type": "code",
   "execution_count": 1,
   "id": "4146a63e",
   "metadata": {},
   "outputs": [],
   "source": [
    "import math\n",
    "\n",
    "def estimate_population_mean(sample_mean, sample_std, sample_size):\n",
    "    \"\"\"\n",
    "    Estimates the population mean using a sample mean, standard deviation, and sample size.\n",
    "    \"\"\"\n",
    "    \n",
    "    # Calculate the standard error of the mean\n",
    "    std_error = sample_std / math.sqrt(sample_size)\n",
    "    \n",
    "    # Calculate the margin of error for a 95% confidence interval\n",
    "    margin_of_error = 1.96 * std_error\n",
    "    \n",
    "    # Calculate the lower and upper bounds of the confidence interval\n",
    "    lower_bound = sample_mean - margin_of_error\n",
    "    upper_bound = sample_mean + margin_of_error\n",
    "    \n",
    "    # Return the estimated population mean and confidence interval\n",
    "    return sample_mean, lower_bound, upper_bound\n"
   ]
  },
  {
   "cell_type": "code",
   "execution_count": 2,
   "id": "0b3cf904",
   "metadata": {},
   "outputs": [
    {
     "name": "stdout",
     "output_type": "stream",
     "text": [
      "Estimated population mean: 10.00\n",
      "95% Confidence interval: (9.61, 10.39)\n"
     ]
    }
   ],
   "source": [
    "# Sample data\n",
    "sample_mean = 10\n",
    "sample_std = 2\n",
    "sample_size = 100\n",
    "\n",
    "# Estimate the population mean and confidence interval\n",
    "population_mean, lower_bound, upper_bound = estimate_population_mean(sample_mean, sample_std, sample_size)\n",
    "\n",
    "# Print the results\n",
    "print(\"Estimated population mean: {:.2f}\".format(population_mean))\n",
    "print(\"95% Confidence interval: ({:.2f}, {:.2f})\".format(lower_bound, upper_bound))\n"
   ]
  },
  {
   "cell_type": "markdown",
   "id": "adb0f3ca",
   "metadata": {},
   "source": [
    "### Q3: What is Hypothesis testing? Why is it used? State the importance of Hypothesis testing.\n",
    "\n",
    "Hypothesis testing is a statistical method that is used to make decisions about a population based on sample data. It involves testing a hypothesis about a population parameter using sample statistics and determining the likelihood of obtaining the observed results if the null hypothesis is true.\n",
    "\n",
    "The null hypothesis is a statement about the population parameter that is assumed to be true unless there is sufficient evidence to reject it. The alternative hypothesis is a statement about the population parameter that is tested against the null hypothesis. The goal of hypothesis testing is to determine whether the observed data provides enough evidence to reject the null hypothesis in favor of the alternative hypothesis.\n",
    "\n",
    "Hypothesis testing is used in many fields, including science, engineering, medicine, social sciences, and business, to test theories and make decisions based on empirical evidence. It is particularly useful in situations where we need to make inferences about a population based on a sample, where the population parameter is unknown.\n",
    "\n",
    "The importance of hypothesis testing lies in its ability to help us make decisions based on empirical evidence rather than intuition or guesswork. It provides a framework for testing theories and hypotheses and making informed decisions based on the results of statistical tests. Hypothesis testing allows us to determine whether the observed data supports or contradicts a hypothesis, and to quantify the level of uncertainty associated with our conclusions.\n",
    "\n",
    "In addition, hypothesis testing helps to ensure the validity and reliability of scientific research by providing a systematic approach to testing hypotheses and verifying the accuracy of experimental results. It helps to prevent errors and biases in research by ensuring that conclusions are based on empirical evidence rather than personal opinions or biases.\n",
    "\n",
    "Overall, hypothesis testing is an important tool for making informed decisions based on empirical evidence, and for ensuring the validity and reliability of scientific research. It provides a framework for testing theories and hypotheses, and helps to ensure that our conclusions are based on sound statistical analysis."
   ]
  },
  {
   "cell_type": "markdown",
   "id": "18a13962",
   "metadata": {},
   "source": [
    "### Q4. Create a hypothesis that states whether the average weight of male college students is greater than the average weight of female college students.\n",
    "\n",
    "The hypothesis can be stated as:\n",
    "\n",
    "Null hypothesis (H0): The average weight of male college students is equal to or less than the average weight of female college students.\n",
    "\n",
    "Alternative hypothesis (Ha): The average weight of male college students is greater than the average weight of female college students.\n",
    "\n",
    "Symbolically, the hypotheses can be expressed as:\n",
    "\n",
    "H0: µm ≤ µf\n",
    "\n",
    "Ha: µm > µf\n",
    "\n",
    "where µm is the population mean weight of male college students and µf is the population mean weight of female college students.\n",
    "\n",
    "Note that the null hypothesis assumes that there is no difference or that male students may even weigh less on average than female students. The alternative hypothesis, on the other hand, assumes that male students weigh more on average than female students.\n",
    "\n",
    "\n",
    "\n"
   ]
  },
  {
   "cell_type": "markdown",
   "id": "671c21a1",
   "metadata": {},
   "source": [
    "### Q5. Write a Python script to conduct a hypothesis test on the difference between two population means, given a sample from each population."
   ]
  },
  {
   "cell_type": "code",
   "execution_count": 3,
   "id": "522a0246",
   "metadata": {},
   "outputs": [
    {
     "name": "stdout",
     "output_type": "stream",
     "text": [
      "Population 1 mean: 50.11\n",
      "Population 2 mean: 54.95\n",
      "Sample 1 standard deviation: 10.95\n",
      "Sample 2 standard deviation: 11.98\n",
      "Test statistic: -1.69\n",
      "p-value: 0.096\n",
      "We fail to reject the null hypothesis.\n"
     ]
    }
   ],
   "source": [
    "import numpy as np\n",
    "from scipy.stats import ttest_ind\n",
    "\n",
    "# Generate sample data\n",
    "n1 = 30  # sample size of population 1\n",
    "n2 = 35  # sample size of population 2\n",
    "pop1 = np.random.normal(50, 10, n1)  # generate random data for population 1\n",
    "pop2 = np.random.normal(55, 12, n2)  # generate random data for population 2\n",
    "\n",
    "# Calculate sample statistics\n",
    "mean1 = np.mean(pop1)\n",
    "mean2 = np.mean(pop2)\n",
    "std1 = np.std(pop1, ddof=1)  # use ddof=1 to calculate the sample standard deviation\n",
    "std2 = np.std(pop2, ddof=1)\n",
    "\n",
    "# Calculate the test statistic and p-value\n",
    "t_stat, p_val = ttest_ind(pop1, pop2)\n",
    "\n",
    "# Set the significance level and print the results\n",
    "alpha = 0.05\n",
    "print(\"Population 1 mean: {:.2f}\".format(mean1))\n",
    "print(\"Population 2 mean: {:.2f}\".format(mean2))\n",
    "print(\"Sample 1 standard deviation: {:.2f}\".format(std1))\n",
    "print(\"Sample 2 standard deviation: {:.2f}\".format(std2))\n",
    "print(\"Test statistic: {:.2f}\".format(t_stat))\n",
    "print(\"p-value: {:.3f}\".format(p_val))\n",
    "if p_val < alpha:\n",
    "    print(\"We reject the null hypothesis.\")\n",
    "else:\n",
    "    print(\"We fail to reject the null hypothesis.\")\n"
   ]
  },
  {
   "cell_type": "markdown",
   "id": "7334fa05",
   "metadata": {},
   "source": [
    "### Q6: What is a null and alternative hypothesis? Give some examples.\n",
    "\n",
    "In statistics, a hypothesis is a statement or claim about a population parameter, such as a mean or proportion. There are two types of hypotheses: null hypothesis and alternative hypothesis.\n",
    "\n",
    "The `null hypothesis (H0)` is a statement that assumes no significant difference or relationship between two or more populations or variables. It is often denoted as \"no effect\" or \"no difference\" and is typically the default position. The null hypothesis is the starting point for hypothesis testing, and statistical evidence is used to reject or fail to reject it.\n",
    "\n",
    "The `alternative hypothesis (Ha)` is a statement that contradicts the null hypothesis, proposing that there is a significant difference or relationship between the populations or variables being tested. The alternative hypothesis is the hypothesis of interest and is the statement that the researcher wants to support with statistical evidence.\n",
    "\n",
    "Here are some examples of null and alternative hypotheses:\n",
    "\n",
    "1. A researcher is investigating whether a new drug is effective in treating a particular disease. The null hypothesis is that the drug has no effect, and the alternative hypothesis is that the drug is effective.\n",
    "* H0: The mean improvement in symptoms of the disease is not different between the treatment and placebo groups.\n",
    "* Ha: The mean improvement in symptoms of the disease is greater in the treatment group than in the placebo group.\n",
    "\n",
    "2. A company wants to test whether a new marketing strategy has increased sales. The null hypothesis is that there is no increase in sales, and the alternative hypothesis is that there is an increase in sales.\n",
    "* H0: The mean daily sales before and after the implementation of the new marketing strategy are not different.\n",
    "* Ha: The mean daily sales after the implementation of the new marketing strategy are higher than the mean daily sales before the implementation.\n",
    "\n",
    "3. A researcher wants to investigate whether there is a difference in the average height of men and women. The null hypothesis is that there is no difference in height, and the alternative hypothesis is that there is a difference.\n",
    "* H0: The mean height of men and women is the same.\n",
    "* Ha: The mean height of men is different from the mean height of women.\n",
    "\n",
    "\n",
    "\n",
    "\n"
   ]
  },
  {
   "cell_type": "markdown",
   "id": "f2755f5e",
   "metadata": {},
   "source": [
    "### Q7: Write down the steps involved in hypothesis testing.\n",
    "\n",
    "The general steps involved in hypothesis testing are:\n",
    "\n",
    "1. State the null and alternative hypotheses: Define the null and alternative hypotheses based on the research question and select the appropriate statistical test.\n",
    "\n",
    "2. Determine the significance level: Choose a significance level (α), which is the probability of rejecting the null hypothesis when it is actually true. The most common value for α is 0.05.\n",
    "\n",
    "3. Choose a test statistic: Select the appropriate test statistic based on the sample size, sample distribution, and type of data being analyzed.\n",
    "\n",
    "4. Calculate the p-value: Calculate the p-value, which is the probability of obtaining the observed test statistic or more extreme values assuming the null hypothesis is true.\n",
    "\n",
    "5. Make a decision: Compare the p-value with the significance level to determine whether to reject or fail to reject the null hypothesis.\n",
    "\n",
    "6. Interpret the results: Interpret the results of the hypothesis test in the context of the research question and report the conclusions."
   ]
  },
  {
   "cell_type": "markdown",
   "id": "d158fa0d",
   "metadata": {},
   "source": [
    "### Q8. Define p-value and explain its significance in hypothesis testing.\n",
    "\n",
    "In hypothesis testing, the p-value is the probability of obtaining a test statistic as extreme as, or more extreme than, the observed value, assuming that the null hypothesis is true. In other words, it measures the evidence against the null hypothesis provided by the sample data.\n",
    "\n",
    "A low p-value indicates that the observed data is unlikely to occur if the null hypothesis is true, and suggests that there is strong evidence to reject the null hypothesis in favor of the alternative hypothesis. Conversely, a high p-value suggests that the observed data is likely to occur if the null hypothesis is true, and provides weak evidence against the null hypothesis.\n",
    "\n",
    "The significance level (α) is often used as a threshold for determining the statistical significance of the results. If the p-value is less than or equal to α, the null hypothesis is rejected, and the alternative hypothesis is accepted. If the p-value is greater than α, the null hypothesis is not rejected.\n",
    "\n",
    "The p-value has become an essential component of hypothesis testing and statistical inference. It allows researchers to assess the evidence against the null hypothesis and make informed decisions based on the data. However, it is important to note that the p-value is not a measure of effect size, precision, or clinical significance, and should not be used as the sole criterion for decision-making. Other factors, such as practical significance, the study design, and the validity of assumptions, should also be considered."
   ]
  },
  {
   "cell_type": "markdown",
   "id": "e6d4c33d",
   "metadata": {},
   "source": [
    "### Q9. Generate a Student's t-distribution plot using Python's matplotlib library, with the degrees of freedom parameter set to 10."
   ]
  },
  {
   "cell_type": "code",
   "execution_count": 4,
   "id": "084546d8",
   "metadata": {},
   "outputs": [
    {
     "data": {
      "image/png": "[encoded data removed]",
      "text/plain": [
       "<Figure size 640x480 with 1 Axes>"
      ]
     },
     "metadata": {},
     "output_type": "display_data"
    }
   ],
   "source": [
    "import numpy as np\n",
    "import matplotlib.pyplot as plt\n",
    "from scipy.stats import t\n",
    "\n",
    "# Set degrees of freedom\n",
    "df = 10\n",
    "\n",
    "# Generate x-values\n",
    "x = np.linspace(-5, 5, 1000)\n",
    "\n",
    "# Calculate y-values using t-distribution\n",
    "y = t.pdf(x, df)\n",
    "\n",
    "# Create plot\n",
    "plt.plot(x, y)\n",
    "\n",
    "# Add title and labels\n",
    "plt.title(\"Student's t-Distribution (df = 10)\")\n",
    "plt.xlabel('x')\n",
    "plt.ylabel('PDF')\n",
    "\n",
    "# Display plot\n",
    "plt.show()\n"
   ]
  },
  {
   "cell_type": "markdown",
   "id": "6ebd3fdd",
   "metadata": {},
   "source": [
    "### Q10. Write a Python program to calculate the two-sample t-test for independent samples, given two random samples of equal size and a null hypothesis that the population means are equal.\n",
    "\n"
   ]
  },
  {
   "cell_type": "code",
   "execution_count": 5,
   "id": "c0597a58",
   "metadata": {},
   "outputs": [
    {
     "name": "stdout",
     "output_type": "stream",
     "text": [
      "Sample 1 Mean: 10.611672436856937\n",
      "Sample 2 Mean: 11.913395739752655\n",
      "Pooled Standard Deviation: 1.9399646751900028\n",
      "T-value: -3.355018056625762\n",
      "P-value: 0.0011299143089684716\n"
     ]
    }
   ],
   "source": [
    "import numpy as np\n",
    "from scipy.stats import t\n",
    "\n",
    "# Define two random samples\n",
    "sample1 = np.random.normal(loc=10, scale=2, size=50)\n",
    "sample2 = np.random.normal(loc=12, scale=2, size=50)\n",
    "\n",
    "# Calculate the means and standard deviations of the two samples\n",
    "mean1 = np.mean(sample1)\n",
    "mean2 = np.mean(sample2)\n",
    "std1 = np.std(sample1, ddof=1)\n",
    "std2 = np.std(sample2, ddof=1)\n",
    "\n",
    "# Calculate the pooled standard deviation\n",
    "s_pooled = np.sqrt(((len(sample1)-1)*(std1**2) + (len(sample2)-1)*(std2**2))/(len(sample1)+len(sample2)-2))\n",
    "\n",
    "# Calculate the t-value and p-value\n",
    "t_value = (mean1 - mean2) / (s_pooled * np.sqrt(2/len(sample1)))\n",
    "p_value = 2 * (1 - t.cdf(abs(t_value), len(sample1)+len(sample2)-2))\n",
    "\n",
    "# Print the results\n",
    "print(\"Sample 1 Mean:\", mean1)\n",
    "print(\"Sample 2 Mean:\", mean2)\n",
    "print(\"Pooled Standard Deviation:\", s_pooled)\n",
    "print(\"T-value:\", t_value)\n",
    "print(\"P-value:\", p_value)\n"
   ]
  },
  {
   "cell_type": "markdown",
   "id": "574d2d0d",
   "metadata": {},
   "source": [
    "### Q11: What is Student’s t distribution? When to use the t-Distribution.\n",
    "\n",
    "\n",
    "The Student's t-distribution is a probability distribution that is used to estimate the population mean of a normally distributed population when the sample size is small (less than 30) or when the population standard deviation is unknown. The t-distribution has a bell-shaped curve similar to the normal distribution, but with heavier tails, which reflects the increased uncertainty that arises when using a smaller sample size to estimate the population mean.\n",
    "\n",
    "The t-distribution is used in hypothesis testing and confidence interval estimation when the sample size is small or the population standard deviation is unknown. Specifically, the t-distribution is used in situations where the population standard deviation is not known and must be estimated from the sample data using the sample standard deviation. In these situations, the sample mean follows a t-distribution rather than a normal distribution.\n",
    "\n",
    "The t-distribution is also used when testing hypotheses about the population mean, such as in the two-sample t-test for independent samples or the paired t-test for dependent samples. These tests use the t-distribution to calculate the probability of obtaining the observed difference in means or a more extreme difference under the null hypothesis that the population means are equal.\n",
    "\n",
    "\n",
    "\n"
   ]
  },
  {
   "cell_type": "markdown",
   "id": "d58747dd",
   "metadata": {},
   "source": [
    "### Q12: What is t-statistic? State the formula for t-statistic.\n",
    "\n",
    "The t-statistic, also known as the t-value or the student's t-value, is a test statistic used in hypothesis testing when the sample size is small and the population standard deviation is unknown. It measures how many standard errors the sample mean is away from the hypothesized population mean.\n",
    "\n",
    "The formula for the t-statistic is:\n",
    "\n",
    "t = (x̄ - μ) / (s / √n)\n",
    "\n",
    "where:\n",
    "\n",
    "* x̄ is the sample mean\n",
    "* μ is the hypothesized population mean\n",
    "* s is the sample standard deviation\n",
    "* n is the sample size\n",
    "\n",
    "\n",
    "The t-statistic is calculated by taking the difference between the sample mean and the hypothesized population mean, and dividing it by the standard error of the mean (s/√n). The standard error of the mean is a measure of how much the sample means are expected to vary from sample to sample if the null hypothesis is true.\n",
    "\n",
    "The t-statistic follows a t-distribution with n-1 degrees of freedom, where n is the sample size. The t-distribution has a bell-shaped curve similar to the normal distribution, but with heavier tails, which reflects the increased uncertainty that arises when using a smaller sample size to estimate the population mean."
   ]
  },
  {
   "cell_type": "markdown",
   "id": "2da1b292",
   "metadata": {},
   "source": [
    "### Q13. A coffee shop owner wants to estimate the average daily revenue for their shop. They take a random sample of 50 days and find the sample mean revenue to be USD 500  with a standard deviation of USD 50. Estimate the population mean revenue with a 95% confidence interval."
   ]
  },
  {
   "cell_type": "code",
   "execution_count": null,
   "id": "29311850",
   "metadata": {},
   "outputs": [],
   "source": [
    "To estimate the population mean revenue with a 95% confidence interval, we can use the following formula:\n",
    "\n",
    "Confidence interval = sample mean ± margin of error\n",
    "\n",
    "where the margin of error is calculated as:\n",
    "\n",
    "Margin of error = critical value x standard error\n",
    "\n",
    "The critical value is obtained from the t-distribution \n",
    "with n-1 degrees of freedom, where n is the sample size, \n",
    "and the desired level of confidence (95% in this case).\n",
    "We can find the critical value using a t-distribution table \n",
    "or a statistical software.\n",
    "\n",
    "The standard error is calculated as:\n",
    "\n",
    "Standard error = sample standard deviation / √n\n",
    "\n",
    "Plugging in the given values, we get:\n",
    "\n",
    "n = 50\n",
    "Sample mean = $500\n",
    "Sample standard deviation = $50\n",
    "\n",
    "The degrees of freedom for a 95% confidence interval\n",
    "with n-1 degrees of freedom is 49, and the critical value \n",
    "for a two-tailed test is approximately 2.009 (obtained \n",
    "from a t-distribution table or a statistical software).\n",
    "\n",
    "Therefore, the standard error is:\n",
    "\n",
    "Standard error = 50 / √50 = $7.07\n",
    "\n",
    "The margin of error is:\n",
    "\n",
    "Margin of error = 2.009 x 7.07 = $14.22\n",
    "\n",
    "Thus, the 95% confidence interval for the population mean revenue is:\n",
    "\n",
    "$500 ± $14.22\n",
    "\n",
    "which can be expressed as:\n",
    "\n",
    "($485.78, $514.22)\n",
    "\n",
    "Therefore, we can be 95% confident that the true population mean revenue \n",
    "falls within this interval.\n",
    "\n",
    "\n",
    "\n"
   ]
  },
  {
   "cell_type": "markdown",
   "id": "236d89ed",
   "metadata": {},
   "source": [
    "### Q14. A researcher hypothesizes that a new drug will decrease blood pressure by 10 mmHg. They conduct a clinical trial with 100 patients and find that the sample mean decrease in blood pressure is 8 mmHg with a standard deviation of 3 mmHg. Test the hypothesis with a significance level of 0.05."
   ]
  },
  {
   "cell_type": "markdown",
   "id": "8f949b40",
   "metadata": {},
   "source": [
    "To test the hypothesis that the new drug will decrease blood pressure by 10 mmHg with a significance level of 0.05, we need to perform a one-sample t-test.\n",
    "\n",
    "The null hypothesis is that the mean decrease in blood pressure is equal to 10 mmHg:\n",
    "H0: μ = 10\n",
    "\n",
    "The alternative hypothesis is that the mean decrease in blood pressure is less than 10 mmHg:\n",
    "Ha: μ < 10\n",
    "\n",
    "We can calculate the t-statistic using the formula:\n",
    "\n",
    "t = (x̄ - μ) / (s / √n)\n",
    "\n",
    "where x̄ is the sample mean, μ is the hypothesized population mean, s is the sample standard deviation, and n is the sample size.\n",
    "\n",
    "Plugging in the given values, we get:\n",
    "\n",
    "x̄ = 8\n",
    "\n",
    "μ = 10\n",
    "\n",
    "s = 3\n",
    "\n",
    "n = 100\n",
    "\n",
    "The t-statistic is:\n",
    "\n",
    "t = (8 - 10) / (3 / √100) = -6.67\n",
    "\n",
    "The degrees of freedom for a one-sample t-test with 99 degrees of freedom is 99, and the critical value for a one-tailed test with a significance level of 0.05 is approximately -1.660 (obtained from a t-distribution table or a statistical software).\n",
    "\n",
    "Since the calculated t-statistic (-6.67) is less than the critical value (-1.660), we reject the null hypothesis and conclude that there is sufficient evidence to suggest that the new drug decreases blood pressure by less than 10 mmHg. The p-value associated with this t-statistic is extremely small (much less than 0.05), which provides strong evidence against the null hypothesis.\n",
    "\n",
    "Therefore, we can conclude that the new drug is not as effective at decreasing blood pressure as initially hypothesized.\n",
    "\n",
    "\n",
    "\n"
   ]
  },
  {
   "cell_type": "markdown",
   "id": "c8dd19cf",
   "metadata": {},
   "source": [
    "### Q15. An electronics company produces a certain type of product with a mean weight of 5 pounds and a standard deviation of 0.5 pounds. A random sample of 25 products is taken, and the sample mean weight is found to be 4.8 pounds. Test the hypothesis that the true mean weight of the products is less than 5 pounds with a significance level of 0.01."
   ]
  },
  {
   "cell_type": "markdown",
   "id": "acc61213",
   "metadata": {},
   "source": [
    "To test the hypothesis that the true mean weight of the products is less than 5 pounds with a significance level of 0.01, we need to perform a one-sample t-test.\n",
    "\n",
    "The null hypothesis is that the true mean weight of the products is equal to 5 pounds:\n",
    "H0: μ = 5\n",
    "\n",
    "The alternative hypothesis is that the true mean weight of the products is less than 5 pounds:\n",
    "Ha: μ < 5\n",
    "\n",
    "We can calculate the t-statistic using the formula:\n",
    "\n",
    "t = (x̄ - μ) / (s / √n)\n",
    "\n",
    "where x̄ is the sample mean, μ is the hypothesized population mean, s is the sample standard deviation, and n is the sample size.\n",
    "\n",
    "Plugging in the given values, we get:\n",
    "\n",
    "x̄ = 4.8\n",
    "\n",
    "μ = 5\n",
    "\n",
    "s = 0.5\n",
    "\n",
    "n = 25\n",
    "\n",
    "The t-statistic is:\n",
    "\n",
    "t = (4.8 - 5) / (0.5 / √25) = -1.79\n",
    "\n",
    "The degrees of freedom for a one-sample t-test with 24 degrees of freedom is 24, and the critical value for a one-tailed test with a significance level of 0.01 is approximately -2.492 (obtained from a t-distribution table or a statistical software).\n",
    "\n",
    "Since the calculated t-statistic (-1.79) is greater than the critical value (-2.492), we fail to reject the null hypothesis and conclude that there is not sufficient evidence to suggest that the true mean weight of the products is less than 5 pounds at a significance level of 0.01.\n",
    "\n",
    "Therefore, we can conclude that the sample data does not provide strong evidence against the null hypothesis, and we cannot conclude that the true mean weight of the products is less than 5 pounds based on this sample alone."
   ]
  },
  {
   "cell_type": "markdown",
   "id": "253ecefd",
   "metadata": {},
   "source": [
    "### Q16. Two groups of students are given different study materials to prepare for a test. The first group (n1 =30) has a mean score of 80 with a standard deviation of 10, and the second group (n2 = 40) has a mean score of 75 with a standard deviation of 8. Test the hypothesis that the population means for the two groups are equal with a significance level of 0.01."
   ]
  },
  {
   "cell_type": "markdown",
   "id": "911e9b06",
   "metadata": {},
   "source": [
    "To test the hypothesis that the population means for the two groups are equal, we will perform a two-sample t-test with the following hypotheses:\n",
    "\n",
    "Null hypothesis: The population means are equal (μ1 = μ2)\n",
    "Alternative hypothesis: The population means are not equal (μ1 ≠ μ2)\n",
    "\n",
    "We will use a significance level of 0.01, which means that our rejection region will be divided equally into two tails, each with a probability of 0.005.\n",
    "\n",
    "First, we calculate the pooled standard deviation:\n",
    "\n",
    "sp = sqrt(((n1-1)*s12 + (n2-1)*s22) / (n1+n2-2))\n",
    "\n",
    "sp = sqrt(((30-1)*102 + (40-1)*82) / (30+40-2))\n",
    "\n",
    "sp = 9.02\n",
    "\n",
    "where s1 and s2 are the sample standard deviations for the two groups.\n",
    "\n",
    "Next, we calculate the t-statistic:\n",
    "\n",
    "t = (x1 - x2) / (sp * sqrt(1/n1 + 1/n2))\n",
    "\n",
    "t = (80 - 75) / (9.02 * sqrt(1/30 + 1/40))\n",
    "\n",
    "t = 2.94\n",
    "\n",
    "where x1 and x2 are the sample means for the two groups.\n",
    "\n",
    "The degrees of freedom for the t-distribution is calculated as follows:\n",
    "\n",
    "df = n1 + n2 - 2\n",
    "\n",
    "df = 30 + 40 - 2\n",
    "\n",
    "df = 68\n",
    "\n",
    "Using a t-table or calculator, we find the critical t-value for a two-tailed test with a significance level of 0.01 and 68 degrees of freedom to be ±2.645.\n",
    "\n",
    "Since our calculated t-value of 2.94 is greater than the critical t-value of 2.645, we reject the null hypothesis. Therefore, we conclude that the population means for the two groups are not equal at a significance level of 0.01."
   ]
  },
  {
   "cell_type": "markdown",
   "id": "a9e8d539",
   "metadata": {},
   "source": [
    "### Q17. A marketing company wants to estimate the average number of ads watched by viewers during a TV program. They take a random sample of 50 viewers and find that the sample mean is 4 with a standard deviation of 1.5. Estimate the population mean with a 99% confidence interval."
   ]
  },
  {
   "cell_type": "markdown",
   "id": "f104e24d",
   "metadata": {},
   "source": [
    "To estimate the population mean with a 99% confidence interval, we can use the following formula:\n",
    "\n",
    "CI = X̄ ± Zα/2 * (σ/√n)\n",
    "\n",
    "where\n",
    "\n",
    "X̄ is the sample mean\n",
    "\n",
    "Zα/2 is the critical value for the confidence level, which can be found using a standard normal distribution table or a calculator.For a 99% confidence level, α/2 = 0.005, so Zα/2 = 2.576.\n",
    "\n",
    "σ is the population standard deviation, which is unknown in this case. \n",
    "\n",
    "We can use the sample standard deviation as an estimate, which is 1.5.\n",
    "\n",
    "n is the sample size, which is 50.\n",
    "\n",
    "Plugging in the values, we get:\n",
    "\n",
    "CI = 4 ± 2.576 * (1.5/√50)\n",
    "\n",
    "CI = 4 ± 0.672\n",
    "\n",
    "CI = (3.328, 4.672)\n",
    "\n",
    "Therefore, we can say with 99% confidence that the true population mean lies between 3.328 and 4.672 ads watched by viewers during a TV program."
   ]
  },
  {
   "cell_type": "code",
   "execution_count": null,
   "id": "89e5342a",
   "metadata": {},
   "outputs": [],
   "source": []
  }
 ],
 "metadata": {
  "kernelspec": {
   "display_name": "Python 3 (ipykernel)",
   "language": "python",
   "name": "python3"
  },
  "language_info": {
   "codemirror_mode": {
    "name": "ipython",
    "version": 3
   },
   "file_extension": ".py",
   "mimetype": "text/x-python",
   "name": "python",
   "nbconvert_exporter": "python",
   "pygments_lexer": "ipython3",
   "version": "3.9.13"
  }
 },
 "nbformat": 4,
 "nbformat_minor": 5
}
