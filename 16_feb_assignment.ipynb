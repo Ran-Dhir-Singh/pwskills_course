{
 "cells": [
  {
   "cell_type": "markdown",
   "id": "bc372bfe",
   "metadata": {},
   "source": [
    "### Q1. What is a database? Differentiate between SQL and NoSQL databases.\n",
    "\n",
    "A database is a software system that stores and organizes data in a structured way, allowing it to be easily retrieved, updated, and managed. Databases are used in a variety of applications, including web and mobile applications, business systems, and scientific research.\n",
    "\n",
    "SQL and NoSQL are two different types of databases that have different structures, use different languages to interact with data, and have different strengths and weaknesses.\n",
    "\n",
    "SQL databases, also known as relational databases, are based on the Structured Query Language (SQL) and are designed to store and manage data in tables with predefined relationships between them. SQL databases are highly structured, require a fixed schema, and are best suited for applications that require complex queries and transactions, such as banking systems and e-commerce platforms.\n",
    "\n",
    "NoSQL databases, on the other hand, are designed to store and manage unstructured data, such as documents, graphs, and key-value pairs. NoSQL databases are highly flexible and do not require a predefined schema, making them ideal for applications that require rapid development and scalability, such as social media platforms and real-time analytics systems.\n",
    "\n",
    "In summary, SQL databases are highly structured and best suited for applications that require complex queries and transactions, while NoSQL databases are highly flexible and best suited for applications that require rapid"
   ]
  },
  {
   "cell_type": "markdown",
   "id": "62353a88",
   "metadata": {},
   "source": [
    "### Q2. What is DDL? Explain why CREATE, DROP, ALTER, and TRUNCATE are used with an example.\n",
    "\n",
    "\n",
    "`DDL` stands for Data Definition Language, and it is a subset of SQL that is used to define and manage the structure of a database. DDL commands are used to create, modify, and delete database objects such as tables, views, and indexes."
   ]
  },
  {
   "cell_type": "markdown",
   "id": "14c291a0",
   "metadata": {},
   "source": [
    "1. `CREATE`: The CREATE command is used to create a new database object, such as a table, view, or index. For example, the following command creates a new table called \"employees\" with three columns: \"id\", \"name\", and \"salary\":\n",
    "\n"
   ]
  },
  {
   "cell_type": "code",
   "execution_count": null,
   "id": "bbbda3d4",
   "metadata": {},
   "outputs": [],
   "source": [
    "CREATE TABLE employees (\n",
    "   id INT PRIMARY KEY,\n",
    "   name VARCHAR(50),\n",
    "   salary DECIMAL(10, 2)\n",
    ");"
   ]
  },
  {
   "cell_type": "markdown",
   "id": "f50affb7",
   "metadata": {},
   "source": [
    "2. `DROP`: The DROP command is used to delete an existing database object. For example, the following command drops the \"employees\" table:"
   ]
  },
  {
   "cell_type": "code",
   "execution_count": null,
   "id": "90fb4d19",
   "metadata": {},
   "outputs": [],
   "source": [
    "DROP TABLE employees;"
   ]
  },
  {
   "cell_type": "markdown",
   "id": "feddf1c1",
   "metadata": {},
   "source": [
    "3. `ALTER`: The ALTER command is used to modify an existing database object, such as adding a new column to a table. For example, the following command adds a new column called \"department\" to the \"employees\" table:"
   ]
  },
  {
   "cell_type": "code",
   "execution_count": null,
   "id": "698aedb7",
   "metadata": {},
   "outputs": [],
   "source": [
    "ALTER TABLE employees\n",
    "ADD COLUMN department VARCHAR(50);"
   ]
  },
  {
   "cell_type": "markdown",
   "id": "066b9b98",
   "metadata": {},
   "source": [
    "4. `TRUNCATE`: The TRUNCATE command is used to delete all data from a table while leaving the table structure intact. For example, the following command deletes all data from the \"employees\" table:"
   ]
  },
  {
   "cell_type": "code",
   "execution_count": null,
   "id": "69025c8a",
   "metadata": {},
   "outputs": [],
   "source": [
    "TRUNCATE TABLE employees;"
   ]
  },
  {
   "cell_type": "markdown",
   "id": "6481b6fb",
   "metadata": {},
   "source": [
    "### Q3. What is DML? Explain INSERT, UPDATE, and DELETE with an example.\n",
    "\n",
    "`DML` stands for Data Manipulation Language, which is a subset of SQL used to manipulate the data within a database. DML commands are used to insert, update, and delete data from a database.\n",
    "\n",
    "Here are brief explanations and examples of some commonly used DML commands:\n",
    "\n",
    "1. `INSERT`: The INSERT command is used to insert new data into a table. For example, the following command inserts a new record into the \"employees\" table:"
   ]
  },
  {
   "cell_type": "code",
   "execution_count": null,
   "id": "06ed082d",
   "metadata": {},
   "outputs": [],
   "source": [
    "INSERT INTO employees (id, name, salary)\n",
    "VALUES (1, 'John Smith', 50000);"
   ]
  },
  {
   "cell_type": "markdown",
   "id": "def63b17",
   "metadata": {},
   "source": [
    "2. `UPDATE`: The UPDATE command is used to modify existing data in a table. For example, the following command updates the salary of the employee with an id of 1 to 60000:"
   ]
  },
  {
   "cell_type": "code",
   "execution_count": null,
   "id": "acffbcff",
   "metadata": {},
   "outputs": [],
   "source": [
    "UPDATE employees\n",
    "SET salary = 60000\n",
    "WHERE id = 1;"
   ]
  },
  {
   "cell_type": "markdown",
   "id": "4110f659",
   "metadata": {},
   "source": [
    "3. `DELETE`: The DELETE command is used to delete data from a table. For example, the following command deletes the record for the employee with an id of 1:"
   ]
  },
  {
   "cell_type": "code",
   "execution_count": null,
   "id": "0060c57a",
   "metadata": {},
   "outputs": [],
   "source": [
    "DELETE FROM employees\n",
    "WHERE id = 1;"
   ]
  },
  {
   "cell_type": "markdown",
   "id": "c8a4ba94",
   "metadata": {},
   "source": [
    "### Q4. What is DQL? Explain SELECT with an example.\n",
    "\n",
    "`DQL` stands for Data Query Language, which is a subset of SQL used to retrieve data from a database. DQL commands are used to query the database and retrieve specific data based on specified conditions."
   ]
  },
  {
   "cell_type": "code",
   "execution_count": null,
   "id": "3ad2e17c",
   "metadata": {},
   "outputs": [],
   "source": [
    "SELECT * FROM employees;"
   ]
  },
  {
   "cell_type": "markdown",
   "id": "3294db90",
   "metadata": {},
   "source": [
    "### Q5. Explain Primary Key and Foreign Key.\n",
    "In a relational database, primary keys and foreign keys are used to define relationships between tables.\n",
    "\n",
    "`primary key` is a column or a combination of columns that uniquely identifies each row in a table. A primary key cannot be null (empty) and must be unique for each row. The primary key is used to ensure data integrity and to enforce relationships between tables. In most cases, a primary key is automatically created by the database management system when a new table is created. For example, in a table of employees, the employee ID could be used as the primary key.\n",
    "\n",
    "`foreign key` is a column or a combination of columns that refers to the primary key of another table. A foreign key establishes a relationship between two tables, where the values in the foreign key column(s) in one table match the values in the primary key column(s) in another table. This relationship ensures that data is consistent and helps prevent errors and inconsistencies in the database. For example, in a table of orders, the customer ID could be a foreign key that references the primary key of the customers table.\n",
    "\n",
    "Here is an example of a table with a primary key and a table with a foreign key:"
   ]
  },
  {
   "cell_type": "code",
   "execution_count": null,
   "id": "952a68fb",
   "metadata": {},
   "outputs": [],
   "source": [
    "CREATE TABLE employees (\n",
    "   id INT PRIMARY KEY,\n",
    "   name VARCHAR(50),\n",
    "   department_id INT\n",
    ");\n",
    "\n",
    "CREATE TABLE departments (\n",
    "   id INT PRIMARY KEY,\n",
    "   name VARCHAR(50)\n",
    ");"
   ]
  },
  {
   "cell_type": "markdown",
   "id": "d9458c7e",
   "metadata": {},
   "source": [
    "### Q6. Write a python code to connect MySQL to python. Explain the cursor() and execute() method.\n",
    "\n"
   ]
  },
  {
   "cell_type": "code",
   "execution_count": 2,
   "id": "d59616fb",
   "metadata": {},
   "outputs": [
    {
     "ename": "ModuleNotFoundError",
     "evalue": "No module named 'mysql'",
     "output_type": "error",
     "traceback": [
      "\u001b[1;31m---------------------------------------------------------------------------\u001b[0m",
      "\u001b[1;31mModuleNotFoundError\u001b[0m                       Traceback (most recent call last)",
      "Cell \u001b[1;32mIn[2], line 1\u001b[0m\n\u001b[1;32m----> 1\u001b[0m \u001b[38;5;28;01mimport\u001b[39;00m \u001b[38;5;21;01mmysql\u001b[39;00m\u001b[38;5;21;01m.\u001b[39;00m\u001b[38;5;21;01mconnector\u001b[39;00m\n\u001b[0;32m      3\u001b[0m \u001b[38;5;66;03m# Establishing a connection to the MySQL server\u001b[39;00m\n\u001b[0;32m      4\u001b[0m mydb \u001b[38;5;241m=\u001b[39m mysql\u001b[38;5;241m.\u001b[39mconnector\u001b[38;5;241m.\u001b[39mconnect(\n\u001b[0;32m      5\u001b[0m   host\u001b[38;5;241m=\u001b[39m\u001b[38;5;124m\"\u001b[39m\u001b[38;5;124mlocalhost\u001b[39m\u001b[38;5;124m\"\u001b[39m,\n\u001b[0;32m      6\u001b[0m   user\u001b[38;5;241m=\u001b[39m\u001b[38;5;124m\"\u001b[39m\u001b[38;5;124musername\u001b[39m\u001b[38;5;124m\"\u001b[39m,\n\u001b[0;32m      7\u001b[0m   password\u001b[38;5;241m=\u001b[39m\u001b[38;5;124m\"\u001b[39m\u001b[38;5;124mpassword\u001b[39m\u001b[38;5;124m\"\u001b[39m,\n\u001b[0;32m      8\u001b[0m   database\u001b[38;5;241m=\u001b[39m\u001b[38;5;124m\"\u001b[39m\u001b[38;5;124mdatabase_name\u001b[39m\u001b[38;5;124m\"\u001b[39m\n\u001b[0;32m      9\u001b[0m )\n",
      "\u001b[1;31mModuleNotFoundError\u001b[0m: No module named 'mysql'"
     ]
    }
   ],
   "source": [
    "import mysql.connector\n",
    "\n",
    "# Establishing a connection to the MySQL server\n",
    "mydb = mysql.connector.connect(\n",
    "  host=\"localhost\",\n",
    "  user=\"username\",\n",
    "  password=\"password\",\n",
    "  database=\"database_name\"\n",
    ")\n",
    "\n",
    "# Creating a cursor object to interact with the database\n",
    "mycursor = mydb.cursor()\n",
    "\n",
    "# Executing a SQL query\n",
    "mycursor.execute(\"SELECT * FROM employees\")\n",
    "\n",
    "# Fetching the results of the query\n",
    "result = mycursor.fetchall()\n",
    "\n",
    "# Printing the results\n",
    "for row in result:\n",
    "  print(row)\n",
    "  \n",
    "# Closing the database connection\n",
    "mydb.close()\n"
   ]
  },
  {
   "cell_type": "markdown",
   "id": "dfe10a26",
   "metadata": {},
   "source": [
    "### Q7. Give the order of execution of SQL clauses in an SQL query."
   ]
  },
  {
   "cell_type": "markdown",
   "id": "0bd00c38",
   "metadata": {},
   "source": [
    "In SQL, a typical SELECT statement consists of several clauses that are executed in a specific order:\n",
    "\n",
    "1. SELECT: The SELECT clause specifies the columns that you want to retrieve from the database. This is the first clause that is executed.\n",
    "\n",
    "2. FROM: The FROM clause specifies the table or tables that you want to retrieve the data from. This is the second clause that is executed.\n",
    "\n",
    "3. JOIN: The JOIN clause is used to combine rows from two or more tables based on a related column between them. This clause is executed after the FROM clause.\n",
    "\n",
    "4. WHERE: The WHERE clause is used to filter the data based on certain conditions. This clause is executed after the JOIN clause.\n",
    "\n",
    "5. GROUP BY: The GROUP BY clause is used to group the data by one or more columns. This clause is executed after the WHERE clause.\n",
    "\n",
    "6. HAVING: The HAVING clause is used to filter the groups based on certain conditions. This clause is executed after the GROUP BY clause.\n",
    "\n",
    "7. ORDER BY: The ORDER BY clause is used to sort the data by one or more columns. This clause is executed after the HAVING clause.\n",
    "\n",
    "8. LIMIT/OFFSET: The LIMIT/OFFSET clause is used to limit the number of rows returned by the query or to skip a certain number of rows. This clause is executed after the ORDER BY clause."
   ]
  },
  {
   "cell_type": "code",
   "execution_count": null,
   "id": "fd0551a9",
   "metadata": {},
   "outputs": [],
   "source": []
  }
 ],
 "metadata": {
  "kernelspec": {
   "display_name": "Python 3 (ipykernel)",
   "language": "python",
   "name": "python3"
  },
  "language_info": {
   "codemirror_mode": {
    "name": "ipython",
    "version": 3
   },
   "file_extension": ".py",
   "mimetype": "text/x-python",
   "name": "python",
   "nbconvert_exporter": "python",
   "pygments_lexer": "ipython3",
   "version": "3.9.13"
  }
 },
 "nbformat": 4,
 "nbformat_minor": 5
}
