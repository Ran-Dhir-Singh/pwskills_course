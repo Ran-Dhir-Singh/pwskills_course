{
 "cells": [
  {
   "cell_type": "markdown",
   "id": "79da3dc8",
   "metadata": {},
   "source": [
    "### 1. Create a function which will take a list as an argument and return the product of all the numbers after creating a flat list.\n",
    "Use the below given list as an argument for your function\n",
    "Note - You must extract numeric keys and values of the dictionary also"
   ]
  },
  {
   "cell_type": "code",
   "execution_count": 1,
   "id": "2ac96bf9",
   "metadata": {},
   "outputs": [],
   "source": [
    "list1 = [1,2,3,4,[44,55,66,True], False, (24,56,78,89,34),\n",
    "         {1,2,3,3,2,1},{1:34, \"key2\":[55,67,78,89],4:(45,22,61,34)},\n",
    "         [55,'data science'],'Machine Learning']"
   ]
  },
  {
   "cell_type": "code",
   "execution_count": 60,
   "id": "56e8fce6",
   "metadata": {},
   "outputs": [],
   "source": [
    "flat_list =[]\n",
    "def flatten_list(lst):\n",
    "    for sublist in list1:\n",
    "        #print(sublist)\n",
    "        if isinstance(sublist,(int,float))==True and sublist != False:\n",
    "            flat_list.append(sublist)\n",
    "        elif isinstance(sublist,(list,tuple,set))==True:\n",
    "            for data in sublist:\n",
    "                if isinstance(data,(int,float))==True and data != False:\n",
    "                    flat_list.append(data)\n",
    "\n",
    "        elif isinstance(sublist,(dict)):\n",
    "\n",
    "            for key,value in sublist.items():\n",
    "                if isinstance(key,(int,float)):\n",
    "                    flat_list.append(key)\n",
    "                if isinstance(value,(int,float)):\n",
    "                    flat_list.append(value)\n",
    "                if isinstance(value,(list,tuple,set))==True:\n",
    "                    for data in value:\n",
    "                        if isinstance(data,(int,float))==True and data != False:\n",
    "                            flat_list.append(data)\n",
    "    return flat_list\n",
    "            \n",
    "def product_elements(lst):\n",
    "    flat_list=flatten_list(lst)\n",
    "    product=1\n",
    "    \n",
    "    for element in flat_list:\n",
    "        product *= element\n",
    "    return product\n",
    "    \n",
    "            \n"
   ]
  },
  {
   "cell_type": "code",
   "execution_count": 61,
   "id": "661926b8",
   "metadata": {},
   "outputs": [
    {
     "data": {
      "text/plain": [
       "2866501905180122285746150440960000"
      ]
     },
     "execution_count": 61,
     "metadata": {},
     "output_type": "execute_result"
    }
   ],
   "source": [
    "product_elements(list1)"
   ]
  },
  {
   "cell_type": "markdown",
   "id": "90daa6b3",
   "metadata": {},
   "source": [
    "### Write a python program for encrypting a message sent to you by your friend. The logic of encryption shoul be such that, for 'a' output should be 'z'. For 'b' the output should be 'y'. For 'c' the output should be 'x' respectively. Also the whitespace should be replaced with dollar sign. Keep the punctuation marks unchanged.\n",
    "Note - Convert the input sentence into lowercase before encrypting. The final output should be lowercase"
   ]
  },
  {
   "cell_type": "code",
   "execution_count": 62,
   "id": "0942e047",
   "metadata": {},
   "outputs": [],
   "source": [
    "def encrypt_message(text):\n",
    "    text = text.lower()\n",
    "    encrypted_text=\"\"\n",
    "    \n",
    "    for char in text:\n",
    "        if char.isalpha():\n",
    "            encrypted_text += chr(219-ord(char))\n",
    "        elif char.isspace():\n",
    "            encrypted_text += '$'\n",
    "        else:\n",
    "            encrypted_text += char\n",
    "    return encrypted_text"
   ]
  },
  {
   "cell_type": "code",
   "execution_count": 65,
   "id": "59edd6f4",
   "metadata": {},
   "outputs": [
    {
     "data": {
      "text/plain": [
       "'r$dzmg$gl$yvxlnv$z$wzgz$hxrvmgrhg'"
      ]
     },
     "execution_count": 65,
     "metadata": {},
     "output_type": "execute_result"
    }
   ],
   "source": [
    "input_sentence = \"I want to become a Data Scientist\"\n",
    "enc_sentence = encrypt_message(input_sentence)\n",
    "enc_sentence"
   ]
  },
  {
   "cell_type": "code",
   "execution_count": null,
   "id": "79081d76",
   "metadata": {},
   "outputs": [],
   "source": []
  }
 ],
 "metadata": {
  "kernelspec": {
   "display_name": "Python 3 (ipykernel)",
   "language": "python",
   "name": "python3"
  },
  "language_info": {
   "codemirror_mode": {
    "name": "ipython",
    "version": 3
   },
   "file_extension": ".py",
   "mimetype": "text/x-python",
   "name": "python",
   "nbconvert_exporter": "python",
   "pygments_lexer": "ipython3",
   "version": "3.9.13"
  }
 },
 "nbformat": 4,
 "nbformat_minor": 5
}
