{
 "cells": [
  {
   "cell_type": "markdown",
   "id": "5de2d65f",
   "metadata": {},
   "source": [
    "### Consider the below code to answer further questions:"
   ]
  },
  {
   "cell_type": "code",
   "execution_count": 1,
   "id": "c8a6ff5a",
   "metadata": {},
   "outputs": [],
   "source": [
    "import numpy as np\n",
    "list_ = ['1','2','3','4','5']\n",
    "array_list = np.array(object = list_)"
   ]
  },
  {
   "cell_type": "markdown",
   "id": "337f6c5e",
   "metadata": {},
   "source": [
    "### Q1. Is there any difference in the data type of variables list_ and array_list? If there is then write a code to print the data types of both the variables."
   ]
  },
  {
   "cell_type": "code",
   "execution_count": 3,
   "id": "11f14e66",
   "metadata": {},
   "outputs": [
    {
     "name": "stdout",
     "output_type": "stream",
     "text": [
      "data type of list_ : <class 'list'>\n",
      "data type of array_list : <class 'numpy.ndarray'>\n"
     ]
    }
   ],
   "source": [
    "print(f\"data type of list_ : {type(list_)}\")\n",
    "print(f\"data type of array_list : {type(array_list)}\")"
   ]
  },
  {
   "cell_type": "markdown",
   "id": "fbce9516",
   "metadata": {},
   "source": [
    "### Q2. Write a code to print the data type of each and every element of both the variables list_ and array_list."
   ]
  },
  {
   "cell_type": "code",
   "execution_count": 7,
   "id": "817f11bc",
   "metadata": {},
   "outputs": [
    {
     "name": "stdout",
     "output_type": "stream",
     "text": [
      "list_ elements datatype : <class 'str'>\n",
      "list_ elements datatype : <class 'str'>\n",
      "list_ elements datatype : <class 'str'>\n",
      "list_ elements datatype : <class 'str'>\n",
      "list_ elements datatype : <class 'str'>\n",
      "array_list elements datatype : <class 'numpy.str_'>\n",
      "array_list elements datatype : <class 'numpy.str_'>\n",
      "array_list elements datatype : <class 'numpy.str_'>\n",
      "array_list elements datatype : <class 'numpy.str_'>\n",
      "array_list elements datatype : <class 'numpy.str_'>\n"
     ]
    }
   ],
   "source": [
    "for elements in list_:\n",
    "    print(f\"list_ elements datatype : {type(elements)}\")\n",
    "    \n",
    "for elements in array_list:\n",
    "    print(f\"array_list elements datatype : {type(elements)}\")"
   ]
  },
  {
   "cell_type": "markdown",
   "id": "c8a54bc8",
   "metadata": {},
   "source": [
    "### Q3. Considering the following changes in the variable, array_list: \n",
    "### array_list = np.array(object = list_, dtype = int)\n",
    "### Will there be any difference in the data type of the elements present in both the variables, list_ and arra_list? If so then print the data types of each and every element present in both the variables, list_ and arra_list."
   ]
  },
  {
   "cell_type": "code",
   "execution_count": 8,
   "id": "b3be1baf",
   "metadata": {},
   "outputs": [],
   "source": [
    "array_list = np.array(object = list_, dtype = int)\n"
   ]
  },
  {
   "cell_type": "markdown",
   "id": "8d768e39",
   "metadata": {},
   "source": [
    "Yes, there will be a change in the data type of the elements of `array_list`, as dtype is specified to be `int` when `array_list` is created."
   ]
  },
  {
   "cell_type": "code",
   "execution_count": 9,
   "id": "1824b0ef",
   "metadata": {},
   "outputs": [
    {
     "name": "stdout",
     "output_type": "stream",
     "text": [
      "list_ elements datatype : <class 'str'>\n",
      "list_ elements datatype : <class 'str'>\n",
      "list_ elements datatype : <class 'str'>\n",
      "list_ elements datatype : <class 'str'>\n",
      "list_ elements datatype : <class 'str'>\n",
      "array_list elements datatype : <class 'numpy.int32'>\n",
      "array_list elements datatype : <class 'numpy.int32'>\n",
      "array_list elements datatype : <class 'numpy.int32'>\n",
      "array_list elements datatype : <class 'numpy.int32'>\n",
      "array_list elements datatype : <class 'numpy.int32'>\n"
     ]
    }
   ],
   "source": [
    "for elements in list_:\n",
    "    print(f\"list_ elements datatype : {type(elements)}\")\n",
    "    \n",
    "for elements in array_list:\n",
    "    print(f\"array_list elements datatype : {type(elements)}\")"
   ]
  },
  {
   "cell_type": "markdown",
   "id": "84c00224",
   "metadata": {},
   "source": [
    "### Consider the below code to answer further questions:\n"
   ]
  },
  {
   "cell_type": "code",
   "execution_count": 10,
   "id": "1dca01ce",
   "metadata": {},
   "outputs": [],
   "source": [
    "import numpy as np\n",
    "num_list = [ [ 1 , 2 , 3 ] , [ 4 , 5 , 6 ] ]\n",
    "num_array = np.array(object = num_list)"
   ]
  },
  {
   "cell_type": "markdown",
   "id": "1617b58a",
   "metadata": {},
   "source": [
    "### Q4. Write a code to find the following characteristics of variable, num_array:\n",
    "(i) shape\n",
    "(ii) size"
   ]
  },
  {
   "cell_type": "code",
   "execution_count": 11,
   "id": "ecc5789f",
   "metadata": {},
   "outputs": [
    {
     "data": {
      "text/plain": [
       "(2, 3)"
      ]
     },
     "execution_count": 11,
     "metadata": {},
     "output_type": "execute_result"
    }
   ],
   "source": [
    "num_array.shape"
   ]
  },
  {
   "cell_type": "code",
   "execution_count": 12,
   "id": "c5cd7de2",
   "metadata": {},
   "outputs": [
    {
     "data": {
      "text/plain": [
       "6"
      ]
     },
     "execution_count": 12,
     "metadata": {},
     "output_type": "execute_result"
    }
   ],
   "source": [
    "num_array.size"
   ]
  },
  {
   "cell_type": "markdown",
   "id": "af8108a9",
   "metadata": {},
   "source": [
    "### Q5. Write a code to create numpy array of 3*3 matrix containing zeros only, using a numpy array creation function.\n",
    "[Hint: The size of the array will be 9 and the shape will be (3,3).]"
   ]
  },
  {
   "cell_type": "code",
   "execution_count": 14,
   "id": "b5c8e651",
   "metadata": {},
   "outputs": [
    {
     "data": {
      "text/plain": [
       "array([[0., 0., 0.],\n",
       "       [0., 0., 0.],\n",
       "       [0., 0., 0.]])"
      ]
     },
     "execution_count": 14,
     "metadata": {},
     "output_type": "execute_result"
    }
   ],
   "source": [
    "zero_arr = np.zeros(shape=(3,3))\n",
    "zero_arr"
   ]
  },
  {
   "cell_type": "markdown",
   "id": "0e61b6bc",
   "metadata": {},
   "source": [
    "### Q6. Create an identity matrix of shape (5,5) using numpy functions?\n",
    "[Hint: An identity matrix is a matrix containing 1 diagonally and other elements will be 0.]"
   ]
  },
  {
   "cell_type": "code",
   "execution_count": 15,
   "id": "19a3bee7",
   "metadata": {},
   "outputs": [
    {
     "data": {
      "text/plain": [
       "array([[1., 0., 0., 0., 0.],\n",
       "       [0., 1., 0., 0., 0.],\n",
       "       [0., 0., 1., 0., 0.],\n",
       "       [0., 0., 0., 1., 0.],\n",
       "       [0., 0., 0., 0., 1.]])"
      ]
     },
     "execution_count": 15,
     "metadata": {},
     "output_type": "execute_result"
    }
   ],
   "source": [
    "ident_arr = np.eye(5)\n",
    "ident_arr"
   ]
  },
  {
   "cell_type": "code",
   "execution_count": null,
   "id": "b61f1d90",
   "metadata": {},
   "outputs": [],
   "source": []
  }
 ],
 "metadata": {
  "kernelspec": {
   "display_name": "Python 3 (ipykernel)",
   "language": "python",
   "name": "python3"
  },
  "language_info": {
   "codemirror_mode": {
    "name": "ipython",
    "version": 3
   },
   "file_extension": ".py",
   "mimetype": "text/x-python",
   "name": "python",
   "nbconvert_exporter": "python",
   "pygments_lexer": "ipython3",
   "version": "3.9.13"
  }
 },
 "nbformat": 4,
 "nbformat_minor": 5
}
