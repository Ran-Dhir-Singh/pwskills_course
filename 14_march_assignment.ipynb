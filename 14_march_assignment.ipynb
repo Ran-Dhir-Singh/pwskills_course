{
 "cells": [
  {
   "cell_type": "markdown",
   "id": "1a5cef81",
   "metadata": {},
   "source": [
    "### Q1. Write a Python function that takes in two arrays of data and calculates the F-value for a variance ratio test. The function should return the F-value and the corresponding p-value for the test."
   ]
  },
  {
   "cell_type": "code",
   "execution_count": 3,
   "id": "92aeac33",
   "metadata": {},
   "outputs": [],
   "source": [
    "import scipy.stats as stats\n",
    "import numpy as np\n",
    "\n",
    "def variance_ratio_test(x, y):\n",
    "    \"\"\"\n",
    "    Function to perform variance ratio test on two arrays of data.\n",
    "    \n",
    "    Parameters:\n",
    "        x (array): First array of data.\n",
    "        y (array): Second array of data.\n",
    "    \n",
    "    Returns:\n",
    "        F_value (float): F-value for the variance ratio test.\n",
    "        p_value (float): Corresponding p-value for the test.\n",
    "    \"\"\"\n",
    "    \n",
    "    # Calculate the variance of x and y\n",
    "    var_x = np.var(x, ddof=1)\n",
    "    var_y = np.var(y, ddof=1)\n",
    "    \n",
    "    # Calculate the F-value\n",
    "    F_value = var_x / var_y\n",
    "    \n",
    "    # Calculate the degrees of freedom\n",
    "    df_x = len(x) - 1\n",
    "    df_y = len(y) - 1\n",
    "    \n",
    "    # Calculate the p-value\n",
    "    p_value = stats.f.sf(F_value, df_x, df_y)\n",
    "    \n",
    "    return F_value, p_value\n"
   ]
  },
  {
   "cell_type": "code",
   "execution_count": 4,
   "id": "7e454b5c",
   "metadata": {},
   "outputs": [
    {
     "name": "stdout",
     "output_type": "stream",
     "text": [
      "F-value:  1.0\n",
      "p-value:  0.5\n"
     ]
    }
   ],
   "source": [
    "x = [1, 2, 3, 4, 5]\n",
    "y = [6, 7, 8, 9, 10]\n",
    "\n",
    "F, p = variance_ratio_test(x, y)\n",
    "\n",
    "print(\"F-value: \", F)\n",
    "print(\"p-value: \", p)\n"
   ]
  },
  {
   "cell_type": "markdown",
   "id": "b9cc203e",
   "metadata": {},
   "source": [
    "### Q2. Given a significance level of 0.05 and the degrees of freedom for the numerator and denominator of an F-distribution, write a Python function that returns the critical F-value for a two-tailed test."
   ]
  },
  {
   "cell_type": "code",
   "execution_count": 5,
   "id": "1e74ef93",
   "metadata": {},
   "outputs": [],
   "source": [
    "import scipy.stats as stats\n",
    "\n",
    "def critical_f_value(df_n, df_d, alpha=0.05):\n",
    "    \"\"\"\n",
    "    Function to calculate the critical F-value for a two-tailed test.\n",
    "    \n",
    "    Parameters:\n",
    "        df_n (int): Degrees of freedom for the numerator.\n",
    "        df_d (int): Degrees of freedom for the denominator.\n",
    "        alpha (float): Significance level (default is 0.05).\n",
    "    \n",
    "    Returns:\n",
    "        crit_f_value (float): Critical F-value for the two-tailed test.\n",
    "    \"\"\"\n",
    "  \n",
    "    crit_f_value = stats.f.ppf(1-alpha/2, df_n, df_d)\n",
    "    \n",
    "    return crit_f_value\n"
   ]
  },
  {
   "cell_type": "code",
   "execution_count": 6,
   "id": "68f6ee00",
   "metadata": {},
   "outputs": [
    {
     "name": "stdout",
     "output_type": "stream",
     "text": [
      "Critical F-value:  3.8586986662732143\n"
     ]
    }
   ],
   "source": [
    "df_n = 3\n",
    "df_d = 20\n",
    "alpha = 0.05\n",
    "\n",
    "crit_f = critical_f_value(df_n, df_d, alpha)\n",
    "\n",
    "print(\"Critical F-value: \", crit_f)\n"
   ]
  },
  {
   "cell_type": "markdown",
   "id": "e017b3a3",
   "metadata": {},
   "source": [
    "### Q3. Write a Python program that generates random samples from two normal distributions with known variances and uses an F-test to determine if the variances are equal. The program should output the F- value, degrees of freedom, and p-value for the test."
   ]
  },
  {
   "cell_type": "code",
   "execution_count": 7,
   "id": "b79e97eb",
   "metadata": {},
   "outputs": [
    {
     "name": "stdout",
     "output_type": "stream",
     "text": [
      "F-value: 0.6419886263062515\n",
      "Degrees of freedom: 19 and 24\n",
      "p-value: 1.6725718800022262\n"
     ]
    }
   ],
   "source": [
    "import numpy as np\n",
    "import scipy.stats as stats\n",
    "\n",
    "# Set the random seed for reproducibility\n",
    "np.random.seed(123)\n",
    "\n",
    "# Generate random samples from two normal distributions\n",
    "# with known variances\n",
    "n1 = 20\n",
    "n2 = 25\n",
    "mean1 = 10\n",
    "mean2 = 12\n",
    "var1 = 4\n",
    "var2 = 9\n",
    "\n",
    "sample1 = np.random.normal(mean1, np.sqrt(var1), n1)\n",
    "sample2 = np.random.normal(mean2, np.sqrt(var2), n2)\n",
    "\n",
    "# Calculate the F-value and p-value for the F-test\n",
    "F_value = np.var(sample1, ddof=1) / np.var(sample2, ddof=1)\n",
    "df1 = n1 - 1\n",
    "df2 = n2 - 1\n",
    "p_value = stats.f.sf(F_value, df1, df2) * 2\n",
    "\n",
    "# Print the results\n",
    "print(\"F-value:\", F_value)\n",
    "print(\"Degrees of freedom:\", df1, \"and\", df2)\n",
    "print(\"p-value:\", p_value)\n"
   ]
  },
  {
   "cell_type": "markdown",
   "id": "ece327ea",
   "metadata": {},
   "source": [
    "### Q4.The variances of two populations are known to be 10 and 15. A sample of 12 observations is taken from each population. Conduct an F-test at the 5% significance level to determine if the variances are significantly different.\n",
    "\n",
    "To conduct an F-test at the 5% significance level to determine if the variances of two populations are significantly different, we can use the following steps:\n",
    "\n",
    "1. Set the null and alternative hypotheses:\n",
    "\n",
    "    * H0: σ1^2 = σ2^2 (the variances are equal)\n",
    "    * Ha: σ1^2 ≠ σ2^2 (the variances are significantly different)\n",
    "2. Calculate the F-statistic using the formula:\n",
    "\n",
    "    F = s1^2 / s2^2\n",
    "\n",
    "where s1^2 and s2^2 are the sample variances of the two populations.\n",
    "\n",
    "3. Calculate the degrees of freedom for the F-distribution:\n",
    "\n",
    "    df1 = n1 - 1\n",
    "\n",
    "    df2 = n2 - 1\n",
    "\n",
    "    where n1 and n2 are the sample sizes of the two populations.\n",
    "\n",
    "4. Calculate the p-value using the F-distribution and the F-statistic:\n",
    "\n",
    "    p-value = P(F > F_crit) + P(F < -F_crit)\n",
    "    \n",
    "where F_crit is the critical F-value for the given degrees of freedom and significance level.\n",
    "\n",
    "5. Compare the p-value to the significance level. If the p-value is less than the significance level, reject the null hypothesis. Otherwise, fail to reject the null hypothesis."
   ]
  },
  {
   "cell_type": "code",
   "execution_count": 8,
   "id": "06efd23c",
   "metadata": {},
   "outputs": [
    {
     "name": "stdout",
     "output_type": "stream",
     "text": [
      "F-value: 0.6666666666666666\n",
      "Degrees of freedom: 11 and 11\n",
      "Critical F-value: 3.473699051085809\n",
      "p-value: 1.4876102012642005\n",
      "Fail to reject null hypothesis\n"
     ]
    }
   ],
   "source": [
    "import scipy.stats as stats\n",
    "\n",
    "# Set the significance level\n",
    "alpha = 0.05\n",
    "\n",
    "# Set the known variances and sample sizes\n",
    "var1 = 10\n",
    "var2 = 15\n",
    "n1 = 12\n",
    "n2 = 12\n",
    "\n",
    "# Calculate the F-value\n",
    "F_value = var1 / var2\n",
    "\n",
    "# Calculate the degrees of freedom\n",
    "df1 = n1 - 1\n",
    "df2 = n2 - 1\n",
    "\n",
    "# Calculate the critical F-value\n",
    "F_crit = stats.f.ppf(1-alpha/2, df1, df2)\n",
    "\n",
    "# Calculate the p-value\n",
    "p_value = stats.f.sf(F_value, df1, df2) * 2\n",
    "\n",
    "# Print the results\n",
    "print(\"F-value:\", F_value)\n",
    "print(\"Degrees of freedom:\", df1, \"and\", df2)\n",
    "print(\"Critical F-value:\", F_crit)\n",
    "print(\"p-value:\", p_value)\n",
    "\n",
    "# Compare p-value to significance level\n",
    "if p_value < alpha:\n",
    "    print(\"Reject null hypothesis\")\n",
    "else:\n",
    "    print(\"Fail to reject null hypothesis\")\n"
   ]
  },
  {
   "cell_type": "markdown",
   "id": "2af6bf99",
   "metadata": {},
   "source": [
    "### Q5. A manufacturer claims that the variance of the diameter of a certain product is 0.005. A sample of 25 products is taken, and the sample variance is found to be 0.006. Conduct an F-test at the 1% significance level to determine if the claim is justified.\n",
    "\n",
    "Set the null and alternative hypotheses:\n",
    "\n",
    "* H0: σ^2 = 0.005 (the variance is equal to the claimed value)\n",
    "* Ha: σ^2 ≠ 0.005 (the variance is significantly different from the claimed value)"
   ]
  },
  {
   "cell_type": "code",
   "execution_count": 12,
   "id": "4f7ed967",
   "metadata": {},
   "outputs": [
    {
     "name": "stdout",
     "output_type": "stream",
     "text": [
      "F-value: 1.2\n",
      "Degrees of freedom: 24 and 24\n",
      "Critical F-value: 2.966741631292762\n",
      "p-value: 0.6587309365634489\n",
      "Fail to reject null hypothesis\n"
     ]
    }
   ],
   "source": [
    "import scipy.stats as stats\n",
    "\n",
    "# Set the significance level\n",
    "alpha = 0.01\n",
    "\n",
    "# Set the claimed variance, sample variance, and sample size\n",
    "var_claimed = 0.005\n",
    "var_sample = 0.006\n",
    "n = 25\n",
    "\n",
    "# Calculate the F-value\n",
    "F_value = var_sample / var_claimed\n",
    "\n",
    "# Calculate the degrees of freedom\n",
    "df1 = n - 1\n",
    "df2 = n - 1\n",
    "\n",
    "# Calculate the critical F-value\n",
    "F_crit = stats.f.ppf(1-alpha/2, df1, df2)\n",
    "\n",
    "# Calculate the p-value\n",
    "p_value = stats.f.sf(F_value, df1, df2) * 2\n",
    "\n",
    "# Print the results\n",
    "print(\"F-value:\", F_value)\n",
    "print(\"Degrees of freedom:\", df1, \"and\", df2)\n",
    "print(\"Critical F-value:\", F_crit)\n",
    "print(\"p-value:\", p_value)\n",
    "\n",
    "# Compare p-value to significance level\n",
    "if p_value < alpha:\n",
    "    print(\"Reject null hypothesis\")\n",
    "else:\n",
    "    print(\"Fail to reject null hypothesis\")\n"
   ]
  },
  {
   "cell_type": "markdown",
   "id": "8d0804cd",
   "metadata": {},
   "source": [
    "### Q6. Write a Python function that takes in the degrees of freedom for the numerator and denominator of an F-distribution and calculates the mean and variance of the distribution. The function should return the mean and variance as a tuple."
   ]
  },
  {
   "cell_type": "code",
   "execution_count": 13,
   "id": "8505d5ec",
   "metadata": {},
   "outputs": [],
   "source": [
    "import numpy as np\n",
    "\n",
    "def f_distribution_stats(df1, df2):\n",
    "    \"\"\"\n",
    "    Calculate the mean and variance of an F-distribution given the degrees\n",
    "    of freedom for the numerator and denominator.\n",
    "    \n",
    "    Parameters:\n",
    "        df1 (int): Degrees of freedom for the numerator.\n",
    "        df2 (int): Degrees of freedom for the denominator.\n",
    "    \n",
    "    Returns:\n",
    "        A tuple containing the mean and variance of the F-distribution.\n",
    "    \"\"\"\n",
    "    if df1 <= 0 or df2 <= 0:\n",
    "        raise ValueError(\"Degrees of freedom must be positive.\")\n",
    "    \n",
    "    mean = df2 / (df2 - 2)\n",
    "    variance = (2 * df2**2 * (df1 + df2 - 2)) / (df1 * (df2 - 2)**2 * (df2 - 4))\n",
    "    \n",
    "    return mean, variance\n"
   ]
  },
  {
   "cell_type": "code",
   "execution_count": 16,
   "id": "a28ce9d2",
   "metadata": {},
   "outputs": [
    {
     "name": "stdout",
     "output_type": "stream",
     "text": [
      "mean :1.5\n",
      "variance : 4.05\n"
     ]
    }
   ],
   "source": [
    "mean, variance = f_distribution_stats(5,6)\n",
    "print(f\"mean :{mean}\\nvariance : {variance}\")"
   ]
  },
  {
   "cell_type": "markdown",
   "id": "8c469837",
   "metadata": {},
   "source": [
    "### Q7. A random sample of 10 measurements is taken from a normal population with unknown variance. The sample variance is found to be 25. Another random sample of 15 measurements is taken from another normal population with unknown variance, and the sample variance is found to be 20. Conduct an F-test at the 10% significance level to determine if the variances are significantly different.\n",
    "\n",
    "\n",
    "To determine if the variances of the two populations are significantly different, we can conduct an F-test at the 10% significance level.\n",
    "The null hypothesis is that the variances are equal, \n",
    "and the alternative hypothesis is that they are not equal."
   ]
  },
  {
   "cell_type": "code",
   "execution_count": 18,
   "id": "700e4ccc",
   "metadata": {},
   "outputs": [
    {
     "name": "stdout",
     "output_type": "stream",
     "text": [
      "F-test statistic:  1.25\n",
      "Degrees of freedom:  9  and  14\n",
      "Critical F-value:  0.3305268601412525\n",
      "p-value:  0.6832194382585954\n",
      "Reject the null hypothesis: the variances are significantly different.\n"
     ]
    }
   ],
   "source": [
    "import scipy.stats as stats\n",
    "\n",
    "# sample sizes and variances\n",
    "n1 = 10\n",
    "s1_squared = 25\n",
    "n2 = 15\n",
    "s2_squared = 20\n",
    "\n",
    "# calculate the F-test statistic\n",
    "F = s1_squared / s2_squared\n",
    "\n",
    "# degrees of freedom\n",
    "df1 = n1 - 1\n",
    "df2 = n2 - 1\n",
    "\n",
    "# calculate the p-value\n",
    "p_value = 2 * (1 - stats.f.cdf(F, df1, df2))\n",
    "\n",
    "# calculate the critical F-value at the 10% significance level\n",
    "alpha = 0.1\n",
    "f_critical = stats.f.ppf(alpha/2, df1, df2)\n",
    "\n",
    "# print the results\n",
    "print(\"F-test statistic: \", F)\n",
    "print(\"Degrees of freedom: \", df1, \" and \", df2)\n",
    "print(\"Critical F-value: \", f_critical)\n",
    "print(\"p-value: \", p_value)\n",
    "\n",
    "if F > f_critical:\n",
    "    print(\"Reject the null hypothesis: the variances are significantly different.\")\n",
    "else:\n",
    "    print(\"Fail to reject the null hypothesis: the variances are not significantly different.\")\n"
   ]
  },
  {
   "cell_type": "markdown",
   "id": "1bcecd7e",
   "metadata": {},
   "source": [
    "The F-test statistic is 1.25, the degrees of freedom are 9 and 14, and the critical F-value at the 10% significance level is 0.3305. The p-value is approximately 0.6832 ,and is less than 0.1 we fail to reject the null hypothesis that the variances are equal"
   ]
  },
  {
   "cell_type": "markdown",
   "id": "dc4b9b28",
   "metadata": {},
   "source": [
    "### Q8. The following data represent the waiting times in minutes at two different restaurants on a Saturday night: Restaurant A: 24, 25, 28, 23, 22, 20, 27; Restaurant B: 31, 33, 35, 30, 32, 36. Conduct an F-test at the 5% significance level to determine if the variances are significantly different."
   ]
  },
  {
   "cell_type": "code",
   "execution_count": 19,
   "id": "2f6a131d",
   "metadata": {},
   "outputs": [
    {
     "name": "stdout",
     "output_type": "stream",
     "text": [
      "Sample variance of Restaurant A: 7.80952380952381\n",
      "Sample variance of Restaurant B: 5.366666666666667\n",
      "F-test statistic: 1.4551907719609583\n",
      "Degrees of freedom: 6 and 5\n",
      "Critical F-value: 0.16701279718024772 and 6.977701858535566\n",
      "p-value: 0.6974815747937484\n"
     ]
    }
   ],
   "source": [
    "import numpy as np\n",
    "from scipy.stats import f\n",
    "\n",
    "# Sample data for Restaurant A and B\n",
    "a = np.array([24, 25, 28, 23, 22, 20, 27])\n",
    "b = np.array([31, 33, 35, 30, 32, 36])\n",
    "\n",
    "# Sample variances\n",
    "var_a = np.var(a, ddof=1)\n",
    "var_b = np.var(b, ddof=1)\n",
    "\n",
    "# F-test\n",
    "f_value = var_a / var_b\n",
    "dfn = len(a) - 1\n",
    "dfd = len(b) - 1\n",
    "p_value = 2 * min(f.cdf(f_value, dfn, dfd), 1 - f.cdf(f_value, dfn, dfd))\n",
    "\n",
    "# Output results\n",
    "print(\"Sample variance of Restaurant A:\", var_a)\n",
    "print(\"Sample variance of Restaurant B:\", var_b)\n",
    "print(\"F-test statistic:\", f_value)\n",
    "print(\"Degrees of freedom:\", dfn, \"and\", dfd)\n",
    "print(\"Critical F-value:\", f.ppf(0.025, dfn, dfd), \"and\", f.ppf(0.975, dfn, dfd))\n",
    "print(\"p-value:\", p_value)\n"
   ]
  },
  {
   "cell_type": "markdown",
   "id": "37a64e6d",
   "metadata": {},
   "source": [
    "Since the p-value of 0.34 is greater than the significance level of 0.05, we cannot reject the null hypothesis that the variances are equal. Therefore, we do not have sufficient evidence to conclude that the variances of waiting times at the two restaurants are significantly different."
   ]
  },
  {
   "cell_type": "markdown",
   "id": "2e1e1876",
   "metadata": {},
   "source": [
    "### Q9. The following data represent the test scores of two groups of students: Group A: 80, 85, 90, 92, 87, 83; Group B: 75, 78, 82, 79, 81, 84. Conduct an F-test at the 1% significance level to determine if the variances are significantly different."
   ]
  },
  {
   "cell_type": "code",
   "execution_count": 20,
   "id": "82396662",
   "metadata": {},
   "outputs": [
    {
     "name": "stdout",
     "output_type": "stream",
     "text": [
      "F-test statistic:  1.94\n",
      "Degrees of freedom:  5  and  5\n",
      "Critical F-value:  0.07\n",
      "p-value:  0.48\n",
      "Reject null hypothesis, variances are significantly different.\n"
     ]
    }
   ],
   "source": [
    "import numpy as np\n",
    "from scipy import stats\n",
    "\n",
    "# Group A data\n",
    "group_a = np.array([80, 85, 90, 92, 87, 83])\n",
    "var_a = np.var(group_a, ddof=1)  # sample variance of Group A\n",
    "\n",
    "# Group B data\n",
    "group_b = np.array([75, 78, 82, 79, 81, 84])\n",
    "var_b = np.var(group_b, ddof=1)  # sample variance of Group B\n",
    "\n",
    "# Test statistic F\n",
    "f = var_a / var_b if var_a > var_b else var_b / var_a\n",
    "print(\"F-test statistic: \", round(f, 2))\n",
    "\n",
    "# Degrees of freedom\n",
    "df_num = len(group_a) - 1  # degrees of freedom for numerator\n",
    "df_den = len(group_b) - 1  # degrees of freedom for denominator\n",
    "print(\"Degrees of freedom: \", df_num, \" and \", df_den)\n",
    "\n",
    "# Critical F-value\n",
    "alpha = 0.01  # significance level\n",
    "crit_f = stats.f.ppf(alpha/2, df_num, df_den)\n",
    "print(\"Critical F-value: \", round(crit_f, 2))\n",
    "\n",
    "# p-value\n",
    "p_val = stats.f.sf(f, df_num, df_den) * 2\n",
    "print(\"p-value: \", round(p_val, 2))\n",
    "\n",
    "# Conclusion\n",
    "if f > crit_f:\n",
    "    print(\"Reject null hypothesis, variances are significantly different.\")\n",
    "else:\n",
    "    print(\"Fail to reject null hypothesis, variances are not significantly different.\")\n"
   ]
  },
  {
   "cell_type": "markdown",
   "id": "5b26b7d3",
   "metadata": {},
   "source": [
    "The calculated F-value is 1.94 and the critical F-value at a 1% significance level with 5 and 5 degrees of freedom is 0.07. Since the calculated F-value is greater than the critical F-value, we reject the null hypothesis that the variances of the two groups are equal. Therefore, we conclude that the variances are significantly different at the 1% significance level."
   ]
  },
  {
   "cell_type": "code",
   "execution_count": null,
   "id": "b980c36c",
   "metadata": {},
   "outputs": [],
   "source": []
  }
 ],
 "metadata": {
  "kernelspec": {
   "display_name": "Python 3 (ipykernel)",
   "language": "python",
   "name": "python3"
  },
  "language_info": {
   "codemirror_mode": {
    "name": "ipython",
    "version": 3
   },
   "file_extension": ".py",
   "mimetype": "text/x-python",
   "name": "python",
   "nbconvert_exporter": "python",
   "pygments_lexer": "ipython3",
   "version": "3.9.13"
  }
 },
 "nbformat": 4,
 "nbformat_minor": 5
}
