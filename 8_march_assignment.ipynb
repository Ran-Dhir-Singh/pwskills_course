{
 "cells": [
  {
   "cell_type": "markdown",
   "id": "20818422",
   "metadata": {},
   "source": [
    "### Q1. What is the Probability density function?\n",
    "\n",
    "A probability density function (PDF) is a mathematical function that describes the relative likelihood of a continuous random variable taking on a particular value. In other words, it provides a way to quantify the probability of a random variable taking on a specific value within a range of values.\n",
    "\n",
    "The PDF is defined as the derivative of the cumulative distribution function (CDF), which is the probability that a random variable takes on a value less than or equal to a given value. The PDF is used to calculate the probability that a random variable falls within a specific range of values by integrating the function over that range."
   ]
  },
  {
   "cell_type": "markdown",
   "id": "9d44795d",
   "metadata": {},
   "source": [
    "### Q2. What are the types of Probability distribution?\n",
    "\n",
    "1. Normal distribution: also known as the Gaussian distribution, it is a bell-shapedcurve that describes many natural phenomena, such as measurements of height, weight, and IQ.\n",
    "\n",
    "2. Binomial distribution: it describes the probability of obtaining a certain number of successes in a fixed number of independent trials. It is commonly used in experiments where there are only two possible outcomes.\n",
    "\n",
    "3. Poisson distribution: it describes the probability of a certain number of events occurring in a fixed interval of time or space, given the average rate of occurrence.\n",
    "\n",
    "4. Exponential distribution: it describes the probability of the time between consecutive events in a Poisson process. It is commonly used in reliability and queueing theory.\n",
    "\n",
    "5. Gamma distribution: it is a family of probability distributions that includes several other distributions as special cases, such as the exponential distribution and the chi-squared distribution.\n",
    "\n",
    "6. Chi-squared distribution: it describes the sum of the squares of independent standard normal random variables. It is commonly used in hypothesis testing and confidence interval estimation.\n",
    "\n",
    "7. Uniform distribution: it describes a situation where all possible outcomes are equally likely. It is commonly used in modeling situations where there is no prior knowledge of the probabilities of different outcomes."
   ]
  },
  {
   "cell_type": "markdown",
   "id": "a2f4e19c",
   "metadata": {},
   "source": [
    "### Q3. Write a Python function to calculate the probability density function of a normal distribution with given mean and standard deviation at a given point."
   ]
  },
  {
   "cell_type": "code",
   "execution_count": 1,
   "id": "55d8f651",
   "metadata": {},
   "outputs": [],
   "source": [
    "import math\n",
    "\n",
    "def normal_pdf(x, mean, std_dev):\n",
    "    \"\"\"\n",
    "    Calculates the probability density function of a normal distribution\n",
    "    at a given point x, given the mean and standard deviation.\n",
    "    \"\"\"\n",
    "    coefficient = 1 / (std_dev * math.sqrt(2 * math.pi))\n",
    "    exponent = -0.5 * ((x - mean) / std_dev) ** 2\n",
    "    return coefficient * math.exp(exponent)\n"
   ]
  },
  {
   "cell_type": "code",
   "execution_count": 2,
   "id": "39fd6c9d",
   "metadata": {},
   "outputs": [
    {
     "name": "stdout",
     "output_type": "stream",
     "text": [
      "0.24197072451914337\n"
     ]
    }
   ],
   "source": [
    "pdf_value = normal_pdf(1, 0, 1)\n",
    "print(pdf_value)\n"
   ]
  },
  {
   "cell_type": "markdown",
   "id": "c365bb18",
   "metadata": {},
   "source": [
    "### Q4. What are the properties of Binomial distribution? Give two examples of events where binomial distribution can be applied.\n",
    "\n",
    "The binomial distribution is a discrete probability distribution that describes the probability of obtaining a certain number of successes in a fixed number of independent trials, where each trial has only two possible outcomes (success or failure). The properties of the binomial distribution are:\n",
    "\n",
    "1. The binomial distribution has two parameters: the number of trials (n) and the probability of success on each trial (p).\n",
    "\n",
    "2. The probability of exactly k successes in n trials is given by the binomial probability mass function:\n",
    "  P(X=k)=(n,k) p^k (1−p)^(n−k)\n",
    "\n",
    "3. The mean of the binomial distribution is given by np, and the variance is given by np(1-p).\n",
    "\n",
    "4. The binomial distribution approaches a normal distribution as n becomes large, with mean np and variance np(1-p).\n",
    "\n",
    "Two examples of events where the binomial distribution can be applied are:\n",
    "\n",
    "1. A medical trial where patients are randomly assigned to a treatment group or a control group, and the outcome is whether the patient recovers or not. The binomial distribution can be used to calculate the probability of a certain number of patients in the treatment group recovering, given the number of patients and the probability of recovery for each patient.\n",
    "\n",
    "2. A survey of voters where each voter is asked whether they support a particular candidate or not. The binomial distribution can be used to calculate the probability of a certain number of voters supporting the candidate, given the number of voters and the probability of support for each voter.\n",
    "\n",
    "\n",
    "\n"
   ]
  },
  {
   "cell_type": "markdown",
   "id": "31040d31",
   "metadata": {},
   "source": [
    "### Q5. Generate a random sample of size 1000 from a binomial distribution with probability of success 0.4 and plot a histogram of the results using matplotlib."
   ]
  },
  {
   "cell_type": "code",
   "execution_count": 3,
   "id": "aeb8e88a",
   "metadata": {},
   "outputs": [
    {
     "data": {
      "image/png": "[encoded data removed]",
      "text/plain": [
       "<Figure size 640x480 with 1 Axes>"
      ]
     },
     "metadata": {},
     "output_type": "display_data"
    }
   ],
   "source": [
    "import numpy as np\n",
    "import matplotlib.pyplot as plt\n",
    "\n",
    "# Set the parameters for the binomial distribution\n",
    "n = 1000 # number of trials\n",
    "p = 0.4 # probability of success\n",
    "\n",
    "# Generate a random sample of size 1000 from the binomial distribution\n",
    "sample = np.random.binomial(n, p, size=1000)\n",
    "\n",
    "# Plot a histogram of the sample\n",
    "plt.hist(sample, bins=30)\n",
    "plt.xlabel('Number of successes')\n",
    "plt.ylabel('Frequency')\n",
    "plt.title('Binomial Distribution with n=1000, p=0.4')\n",
    "plt.show()\n"
   ]
  },
  {
   "cell_type": "markdown",
   "id": "01e5d006",
   "metadata": {},
   "source": [
    "### Q6. Write a Python function to calculate the cumulative distribution function of a Poisson distribution with given mean at a given point."
   ]
  },
  {
   "cell_type": "code",
   "execution_count": 4,
   "id": "3b312be0",
   "metadata": {},
   "outputs": [],
   "source": [
    "import math\n",
    "\n",
    "def poisson_cdf(mean, k):\n",
    "    \"\"\"\n",
    "    Calculates the cumulative distribution function (CDF) of a Poisson distribution\n",
    "    with the given mean at the given point k.\n",
    "    \"\"\"\n",
    "    cdf = 0\n",
    "    for i in range(k+1):\n",
    "        cdf += math.exp(-mean) * (mean**i) / math.factorial(i)\n",
    "    return cdf\n"
   ]
  },
  {
   "cell_type": "code",
   "execution_count": 5,
   "id": "f54f75c4",
   "metadata": {},
   "outputs": [
    {
     "name": "stdout",
     "output_type": "stream",
     "text": [
      "0.42319008112684353\n"
     ]
    }
   ],
   "source": [
    "result = poisson_cdf(3, 2)\n",
    "print(result)\n"
   ]
  },
  {
   "cell_type": "markdown",
   "id": "d31c311c",
   "metadata": {},
   "source": [
    "### Q7. How Binomial distribution different from Poisson distribution?\n",
    "\n",
    "The Binomial and Poisson distributions are both discrete probability distributions that are used to model the probability of a certain number of events occurring in a fixed number of trials. However, there are some important differences between the two distributions:\n",
    "\n",
    "1. Number of trials: The Binomial distribution models the number of successes in a fixed number of independent trials, whereas the Poisson distribution models the number of events in a fixed interval of time or space.\n",
    "\n",
    "2. Probability of success: In the Binomial distribution, the probability of success is fixed and the same for each trial, whereas in the Poisson distribution, the probability of an event occurring in a fixed interval is assumed to be proportional to the length of the interval.\n",
    "\n",
    "3. Parameterization: The Binomial distribution is parameterized by the number of trials n and the probability of success p, whereas the Poisson distribution is parameterized by the mean number of events λ.\n",
    "\n",
    "4. Assumptions: The Binomial distribution assumes that the trials are independent and identically distributed, whereas the Poisson distribution assumes that the events occur independently of each other and at a constant rate.\n",
    "\n",
    "5. Shape: The shape of the two distributions is different. The Binomial distribution is a symmetric distribution with a bell shape, whereas the Poisson distribution is a skewed distribution with a long tail to the right."
   ]
  },
  {
   "cell_type": "markdown",
   "id": "c62898a1",
   "metadata": {},
   "source": [
    "### Q8. Generate a random sample of size 1000 from a Poisson distribution with mean 5 and calculate the sample mean and variance."
   ]
  },
  {
   "cell_type": "code",
   "execution_count": 6,
   "id": "1c9af787",
   "metadata": {},
   "outputs": [
    {
     "name": "stdout",
     "output_type": "stream",
     "text": [
      "Sample mean: 4.911\n",
      "Sample variance: 4.949078999999999\n"
     ]
    }
   ],
   "source": [
    "import numpy as np\n",
    "\n",
    "# Generate a random sample of size 1000 from a Poisson distribution with mean 5\n",
    "sample = np.random.poisson(5, size=1000)\n",
    "\n",
    "# Calculate the sample mean and variance\n",
    "sample_mean = np.mean(sample)\n",
    "sample_var = np.var(sample)\n",
    "\n",
    "print(\"Sample mean:\", sample_mean)\n",
    "print(\"Sample variance:\", sample_var)\n"
   ]
  },
  {
   "cell_type": "markdown",
   "id": "fb50c30e",
   "metadata": {},
   "source": [
    "### Q9. How mean and variance are related in Binomial distribution and Poisson distribution?\n",
    "\n",
    "* In the Binomial distribution, the mean and variance are related by the formula:\n",
    "\n",
    "    mean = n * p\n",
    "    \n",
    "    variance = n * p * (1 - p)\n",
    "    \n",
    "where n is the number of trials and p is the probability of success in each trial.\n",
    "\n",
    "\n",
    "* In the Poisson distribution, the mean and variance are equal, and are given by the formula:\n",
    "\n",
    "mean = variance = λ\n",
    "\n",
    "where λ is the mean rate or intensity of the Poisson process."
   ]
  },
  {
   "cell_type": "markdown",
   "id": "c41806f8",
   "metadata": {},
   "source": [
    "### Q10. In normal distribution with respect to mean position, where does the least frequent data appear?\n",
    "\n",
    "In a normal distribution, the least frequent data appears in the tails of the distribution, which are the regions that are farthest away from the mean. The normal distribution is a symmetric distribution, which means that the data is equally likely to be above or below the mean, and the tails extend infinitely in both directions.\n",
    "\n",
    "Specifically, the probability density function of a normal distribution is highest at the mean, and decreases symmetrically as we move away from the mean in either direction. This means that the least frequent data appears at the tails of the distribution, which are the regions that are farther away from the mean.\n",
    "\n",
    "The amount of data that appears in the tails of the distribution depends on the standard deviation of the distribution. As the standard deviation increases, the tails become fatter and more data appears in the tails. Conversely, as the standard deviation decreases, the tails become thinner and less data appears in the tails.\n",
    "\n",
    "\n",
    "\n"
   ]
  },
  {
   "cell_type": "code",
   "execution_count": null,
   "id": "251324fc",
   "metadata": {},
   "outputs": [],
   "source": []
  }
 ],
 "metadata": {
  "kernelspec": {
   "display_name": "Python 3 (ipykernel)",
   "language": "python",
   "name": "python3"
  },
  "language_info": {
   "codemirror_mode": {
    "name": "ipython",
    "version": 3
   },
   "file_extension": ".py",
   "mimetype": "text/x-python",
   "name": "python",
   "nbconvert_exporter": "python",
   "pygments_lexer": "ipython3",
   "version": "3.9.13"
  }
 },
 "nbformat": 4,
 "nbformat_minor": 5
}
