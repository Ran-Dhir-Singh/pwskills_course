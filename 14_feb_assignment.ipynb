{
 "cells": [
  {
   "cell_type": "markdown",
   "id": "3dca061c",
   "metadata": {},
   "source": [
    "### Q1. What is multithreading in python? Why is it used? Name the module used to handle threads in python\n",
    "\n",
    "Multithreading in Python refers to the process of executing multiple threads concurrently within a single process. In other words, it is a way to run multiple parts of a program in parallel, where each part is called a thread.\n",
    "\n",
    "Python's multithreading is used to improve the performance of a program, especially when dealing with I/O-bound tasks such as file handling, network communication, or database operations. By using multiple threads, the program can perform multiple tasks simultaneously, thus utilizing the available resources more efficiently and reducing the overall execution time.\n",
    "\n",
    "The module used to handle threads in Python is called \"threading\". It provides a way to create, control, and communicate with threads in a Python program. The \"threading\" module provides a Thread class that represents an individual thread of execution. By creating instances of this class and running them, a Python program can utilize multiple threads to execute tasks concurrently."
   ]
  },
  {
   "cell_type": "markdown",
   "id": "ade3f4c7",
   "metadata": {},
   "source": [
    "### Q2. Why threading module used? Write the use of the following functions\n",
    "1.  activeCount()\n",
    "2. currentThread()\n",
    "3. enumerate()"
   ]
  },
  {
   "cell_type": "markdown",
   "id": "61d5e183",
   "metadata": {},
   "source": [
    "The threading module in Python is used to create and manage threads in a Python program. It provides a way to execute multiple threads concurrently within a single process, allowing a program to make better use of available resources and improve performance.\n",
    "\n",
    "Here are the uses of the following functions in the threading module:\n",
    "\n",
    "`activeCount()`: This function is used to return the number of currently active threads in the program. It can be used to monitor the number of threads currently executing, and to make sure that the program is not creating too many threads, which can lead to performance issues.\n",
    "\n",
    "`currentThread()`: This function is used to return the currently executing thread object. It can be used to identify the current thread, and to access its attributes and methods.\n",
    "\n",
    "`enumerate()`: This function is used to return a list of all currently active thread objects in the program. It can be used to iterate over all the threads in the program and access their attributes and methods. It can also be used to monitor the threads and check their status, such as whether they are alive or dead."
   ]
  },
  {
   "cell_type": "markdown",
   "id": "67446c4e",
   "metadata": {},
   "source": [
    "### Q3. Explain the following functions:\n",
    "1. run()\n",
    "2. start()\n",
    "3. join()\n",
    "4. isAlive()"
   ]
  },
  {
   "cell_type": "markdown",
   "id": "6c9f3850",
   "metadata": {},
   "source": [
    "`run()`: This function is called when a thread is started using the \"start()\" method. It defines the behavior of the thread and contains the code that the thread will execute.\n",
    "\n",
    "`start()`: This function is used to start the execution of a thread. It creates a new thread and calls its \"run()\" method to begin executing the thread's code. Once the thread has been started, it will run in parallel with the main thread and any other threads that are currently running.\n",
    "\n",
    "`join()`: This function is used to wait for a thread to complete its execution. When a thread is started using the \"start()\" method, the main thread continues to execute without waiting for the new thread to finish. The \"join()\" method can be used to block the main thread until the new thread has finished executing.\n",
    "\n",
    "`isAlive()`: This function is used to check if a thread is currently running. It returns a boolean value indicating whether the thread is alive or not. A thread is considered to be alive if it has been started using the \"start()\" method and has not yet finished executing. The \"isAlive()\" function can be used to monitor the status of a thread and take appropriate action based on its current state."
   ]
  },
  {
   "cell_type": "markdown",
   "id": "b49f9d4b",
   "metadata": {},
   "source": [
    "### Q4. Write a python program to create two threads. Thread one must print the list of squares and thread two must print the list of cubes"
   ]
  },
  {
   "cell_type": "code",
   "execution_count": 1,
   "id": "c3a08cc4",
   "metadata": {},
   "outputs": [
    {
     "name": "stdout",
     "output_type": "stream",
     "text": [
      "1 squared is 11 cubed is 1\n",
      "2 cubed is 8\n",
      "3 cubed is 27\n",
      "4 cubed is 64\n",
      "5 cubed is 125\n",
      "6 cubed is 216\n",
      "7 cubed is 343\n",
      "8 cubed is 512\n",
      "9 cubed is 729\n",
      "10 cubed is 1000\n",
      "\n",
      "2 squared is 4\n",
      "3 squared is 9\n",
      "4 squared is 16\n",
      "5 squared is 25\n",
      "6 squared is 36\n",
      "7 squared is 49\n",
      "8 squared is 64\n",
      "9 squared is 81\n",
      "10 squared is 100\n",
      "Done!\n"
     ]
    }
   ],
   "source": [
    "import threading\n",
    "\n",
    "def print_squares():\n",
    "    for i in range(1, 11):\n",
    "        print(f\"{i} squared is {i*i}\")\n",
    "\n",
    "def print_cubes():\n",
    "    for i in range(1, 11):\n",
    "        print(f\"{i} cubed is {i*i*i}\")\n",
    "\n",
    "# Create the first thread to print squares\n",
    "thread1 = threading.Thread(target=print_squares)\n",
    "\n",
    "# Create the second thread to print cubes\n",
    "thread2 = threading.Thread(target=print_cubes)\n",
    "\n",
    "# Start both threads\n",
    "thread1.start()\n",
    "thread2.start()\n",
    "\n",
    "# Wait for both threads to finish\n",
    "thread1.join()\n",
    "thread2.join()\n",
    "\n",
    "# Print a message when both threads have finished\n",
    "print(\"Done!\")\n"
   ]
  },
  {
   "cell_type": "markdown",
   "id": "c4b1a43f",
   "metadata": {},
   "source": [
    "### Q5. State advantages and disadvantages of multithreading\n",
    "\n",
    "##### `Advantages`:\n",
    "\n",
    "1. Improved performance: Multithreading can improve the performance of a program by allowing it to execute multiple tasks concurrently. This can make better use of available resources and reduce the overall execution time.\n",
    "\n",
    "2. Increased responsiveness: Multithreading can improve the responsiveness of a program by allowing it to handle multiple input/output operations simultaneously. This can make the program feel more interactive and responsive to user input.\n",
    "\n",
    "3. Better resource utilization: Multithreading can make better use of system resources such as CPU and memory by distributing the workload across multiple threads. This can help to reduce resource contention and improve overall system efficiency.\n",
    "\n",
    "4. Simplified design: Multithreading can simplify the design of complex programs by allowing them to be divided into smaller, more manageable parts. Each thread can be responsible for a specific task, which can make the overall program easier to understand and maintain.\n",
    "\n",
    "##### `Disadvantages`:\n",
    "\n",
    "1. Complexity: Multithreading can add complexity to a program, as it requires careful coordination between threads to ensure that they do not interfere with each other's execution. This can make it more difficult to write and debug multithreaded programs.\n",
    "\n",
    "2. Synchronization overhead: Multithreading requires synchronization between threads to ensure that they do not access shared resources at the same time. This synchronization overhead can add additional processing time and reduce the overall performance of a program.\n",
    "\n",
    "3. Deadlocks and race conditions: Multithreading can introduce issues such as deadlocks and race conditions, where two or more threads are waiting for each other to complete, or where the order of execution is unpredictable. These issues can be difficult to diagnose and fix.\n",
    "\n",
    "4. Resource contention: Multithreading can lead to resource contention, where multiple threads are competing for the same resources such as memory or I/O. This can lead to performance issues and reduced efficiency.\n",
    "\n",
    "\n",
    "\n"
   ]
  },
  {
   "cell_type": "markdown",
   "id": "4fb9902c",
   "metadata": {},
   "source": [
    "### Q6. Explain deadlocks and race conditions.\n",
    "\n",
    "Deadlocks and race conditions are two common issues that can occur in multithreaded programs.\n",
    "\n",
    "`Deadlocks`: A deadlock is a situation where two or more threads are blocked and waiting for each other to release a resource. This can occur when two or more threads are trying to acquire the same resources in a different order. As a result, each thread is waiting for the other thread to release the resource it needs, causing a standstill in the program's execution. Deadlocks can be difficult to diagnose and fix since they can occur unpredictably and are often caused by subtle errors in the program's design.\n",
    "\n",
    "`Race conditions`: A race condition is a situation where the order of execution of threads is unpredictable and can result in incorrect behavior. This can occur when two or more threads are trying to access and modify the same shared resource simultaneously. The order in which the threads access the resource can be unpredictable, and the final result may be incorrect or unexpected. Race conditions can lead to bugs and errors in the program, and they can be difficult to reproduce and diagnose.\n",
    "\n",
    "To avoid deadlocks and race conditions, it is important to ensure that threads are properly synchronized and coordinated. This can involve using synchronization primitives such as locks, semaphores, and mutexes to prevent multiple threads from accessing shared resources simultaneously. Additionally, it is important to carefully design the program's architecture to ensure that threads are accessing resources in a safe and predictable order."
   ]
  },
  {
   "cell_type": "code",
   "execution_count": null,
   "id": "8be79a23",
   "metadata": {},
   "outputs": [],
   "source": []
  }
 ],
 "metadata": {
  "kernelspec": {
   "display_name": "Python 3 (ipykernel)",
   "language": "python",
   "name": "python3"
  },
  "language_info": {
   "codemirror_mode": {
    "name": "ipython",
    "version": 3
   },
   "file_extension": ".py",
   "mimetype": "text/x-python",
   "name": "python",
   "nbconvert_exporter": "python",
   "pygments_lexer": "ipython3",
   "version": "3.9.13"
  }
 },
 "nbformat": 4,
 "nbformat_minor": 5
}
