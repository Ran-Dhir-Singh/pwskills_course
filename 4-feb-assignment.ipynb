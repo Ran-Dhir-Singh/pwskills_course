{
 "cells": [
  {
   "cell_type": "markdown",
   "id": "1d5fbcea",
   "metadata": {},
   "source": [
    "#### 1.Create a python program to sort the given list of tuples bases on integer value using a lambda function"
   ]
  },
  {
   "cell_type": "code",
   "execution_count": 1,
   "id": "38ff7ce0",
   "metadata": {},
   "outputs": [],
   "source": [
    "list1= [('Sachin Tendulkar',34357),('Ricky Ponting',27483),('Jack Kallis',255534),('Virat Kohli',24936)]"
   ]
  },
  {
   "cell_type": "code",
   "execution_count": 5,
   "id": "f385fad8",
   "metadata": {},
   "outputs": [
    {
     "data": {
      "text/plain": [
       "[('Virat Kohli', 24936),\n",
       " ('Ricky Ponting', 27483),\n",
       " ('Sachin Tendulkar', 34357),\n",
       " ('Jack Kallis', 255534)]"
      ]
     },
     "execution_count": 5,
     "metadata": {},
     "output_type": "execute_result"
    }
   ],
   "source": [
    "sorted_list = sorted(list1, key = lambda i:i[1])\n",
    "sorted_list"
   ]
  },
  {
   "cell_type": "markdown",
   "id": "52e0fe10",
   "metadata": {},
   "source": [
    "#### 2.Write a python program to find the squared of all numbers in the given list of integers using lamda and map functions"
   ]
  },
  {
   "cell_type": "code",
   "execution_count": 6,
   "id": "50d017f6",
   "metadata": {},
   "outputs": [
    {
     "name": "stdout",
     "output_type": "stream",
     "text": [
      "[1, 4, 9, 16, 25, 36, 49, 64, 81, 100]\n"
     ]
    }
   ],
   "source": [
    "list2 = [1,2,3,4,5,6,7,8,9,10]\n",
    "list3 = list(map(lambda x :x**2, list2))\n",
    "print(list3)"
   ]
  },
  {
   "cell_type": "markdown",
   "id": "f91b9773",
   "metadata": {},
   "source": [
    "#### 3. Write a program to convert the given list of integers into a tuple of strings. Use map and lambda functions"
   ]
  },
  {
   "cell_type": "code",
   "execution_count": 9,
   "id": "80502d2e",
   "metadata": {},
   "outputs": [
    {
     "name": "stdout",
     "output_type": "stream",
     "text": [
      "('1', '2', '3', '4', '5', '6', '7', '8', '9', '10')\n"
     ]
    }
   ],
   "source": [
    "list4 = [1,2,3,4,5,6,7,8,9,10]\n",
    "list5 = tuple(map(lambda x :str(x), list4))\n",
    "print(list5)"
   ]
  },
  {
   "cell_type": "markdown",
   "id": "a1984cfd",
   "metadata": {},
   "source": [
    "#### 4.Write a python program using reduce function to compute the product of a list conraining numbers from 1 to 25"
   ]
  },
  {
   "cell_type": "code",
   "execution_count": 15,
   "id": "cb0d92df",
   "metadata": {},
   "outputs": [
    {
     "data": {
      "text/plain": [
       "15511210043330985984000000"
      ]
     },
     "execution_count": 15,
     "metadata": {},
     "output_type": "execute_result"
    }
   ],
   "source": [
    "import functools\n",
    "list6 = [i for i in range(1,26)]\n",
    "reduce(lambda x,y:x*y , list6)"
   ]
  },
  {
   "cell_type": "markdown",
   "id": "8bde7e26",
   "metadata": {},
   "source": [
    "#### 5. Write a python program to filter the numbers in a given list that are divisible by 2 and 3 using the filter function\n"
   ]
  },
  {
   "cell_type": "code",
   "execution_count": 18,
   "id": "a2b3e08c",
   "metadata": {},
   "outputs": [
    {
     "name": "stdout",
     "output_type": "stream",
     "text": [
      "[60, 90, 120]\n"
     ]
    }
   ],
   "source": [
    "list7 = [2,3,9,27,60,90,120,55,46]\n",
    "list8 = list(filter(lambda x:(x%2==0 and x%3==0),list7))\n",
    "print(list8)"
   ]
  },
  {
   "cell_type": "markdown",
   "id": "f56a7362",
   "metadata": {},
   "source": [
    "#### 6. Write a python program to find pallindrome in the given list of string using lamda and filter function"
   ]
  },
  {
   "cell_type": "code",
   "execution_count": 20,
   "id": "5910a99e",
   "metadata": {},
   "outputs": [
    {
     "name": "stdout",
     "output_type": "stream",
     "text": [
      "['php', 'aba', 'radar', 'level']\n"
     ]
    }
   ],
   "source": [
    "list9 = ['python','php','aba','radar','level']\n",
    "list10 = list(filter(lambda x : (x == x[::-1]),list9))\n",
    "print(list10)"
   ]
  },
  {
   "cell_type": "code",
   "execution_count": null,
   "id": "4eeaa73f",
   "metadata": {},
   "outputs": [],
   "source": []
  }
 ],
 "metadata": {
  "kernelspec": {
   "display_name": "Python 3 (ipykernel)",
   "language": "python",
   "name": "python3"
  },
  "language_info": {
   "codemirror_mode": {
    "name": "ipython",
    "version": 3
   },
   "file_extension": ".py",
   "mimetype": "text/x-python",
   "name": "python",
   "nbconvert_exporter": "python",
   "pygments_lexer": "ipython3",
   "version": "3.9.13"
  }
 },
 "nbformat": 4,
 "nbformat_minor": 5
}
