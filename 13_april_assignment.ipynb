{
 "cells": [
  {
   "cell_type": "markdown",
   "id": "bbde7ed0",
   "metadata": {},
   "source": [
    "### Q1. What is Random Forest Regressor?\n",
    "\n",
    "Random Forest Regressor is a machine learning algorithm that belongs to the ensemble learning family. It is a variant of the decision tree algorithm that uses a combination of multiple decision trees to make predictions. It is used for both regression and classification tasks."
   ]
  },
  {
   "cell_type": "markdown",
   "id": "5a51ac99",
   "metadata": {},
   "source": [
    "### Q2. How does Random Forest Regressor reduce the risk of overfitting?\n",
    "\n",
    "Random Forest Regressor reduces the risk of overfitting by using a combination of multiple decision trees. Each tree is trained on a different bootstrap sample of the training data and a random subset of features, which reduces the correlation between the trees and reduces the variance of the model."
   ]
  },
  {
   "cell_type": "markdown",
   "id": "31c34c09",
   "metadata": {},
   "source": [
    "### Q3. How does Random Forest Regressor aggregate the predictions of multiple decision trees?\n",
    "\n",
    "Random Forest Regressor aggregates the predictions of multiple decision trees by taking the average of the predicted values from all the individual trees."
   ]
  },
  {
   "cell_type": "markdown",
   "id": "406d75bf",
   "metadata": {},
   "source": [
    "### Q4. What are the hyperparameters of Random Forest Regressor?\n",
    "\n",
    "The hyperparameters of Random Forest Regressor include:\n",
    "\n",
    "n_estimators: the number of decision trees in the forest\n",
    "\n",
    "max_depth: the maximum depth of each decision tree\n",
    "\n",
    "min_samples_split: the minimum number of samples required to split a node\n",
    "\n",
    "min_samples_leaf: the minimum number of samples required to be at a leaf node\n",
    "\n",
    "max_features: the maximum number of features to consider when splitting a node\n",
    "\n",
    "bootstrap: whether to bootstrap the samples or not\n",
    "\n",
    "random_state: the random seed used for reproducibility"
   ]
  },
  {
   "cell_type": "markdown",
   "id": "253ff500",
   "metadata": {},
   "source": [
    "### Q5. What is the difference between Random Forest Regressor and Decision Tree Regressor?\n",
    "\n",
    "The main difference between Random Forest Regressor and Decision Tree Regressor is that Random Forest Regressor uses a combination of multiple decision trees to make predictions, while Decision Tree Regressor uses only one decision tree. Random Forest Regressor is less prone to overfitting than Decision Tree Regressor because it uses a combination of different decision trees, which reduces the variance of the model."
   ]
  },
  {
   "cell_type": "markdown",
   "id": "96f7cba2",
   "metadata": {},
   "source": [
    "### Q6. What are the advantages and disadvantages of Random Forest Regressor?\n",
    "\n",
    "Advantages:\n",
    "\n",
    "1. Can handle both regression and classification tasks\n",
    "2. Reduces the risk of overfitting\n",
    "3. Can handle high-dimensional data with many features\n",
    "4. Robust to noise and outliers\n",
    "5. Can provide feature importance measures\n",
    "\n",
    "\n",
    "Disadvantages:\n",
    "\n",
    "1. Can be computationally expensive to train and predict on large datasets\n",
    "2. May not be as interpretable as single decision trees\n",
    "3. Can suffer from the bias-variance tradeoff, where increasing the number of trees may reduce bias but increase variance"
   ]
  },
  {
   "cell_type": "markdown",
   "id": "48fad1c0",
   "metadata": {},
   "source": [
    "### Q7. What is the output of Random Forest Regressor?\n",
    "\n",
    "The output of Random Forest Regressor is a continuous numerical value, which is the predicted target variable for the input data."
   ]
  },
  {
   "cell_type": "markdown",
   "id": "c0885d11",
   "metadata": {},
   "source": [
    "### Q8. Can Random Forest Regressor be used for classification tasks?\n",
    "\n",
    "Yes, Random Forest Regressor can also be used for classification tasks. In this case, the output is a categorical value instead of a numerical value, and the algorithm is called Random Forest Classifier."
   ]
  },
  {
   "cell_type": "code",
   "execution_count": null,
   "id": "b5d5044d",
   "metadata": {},
   "outputs": [],
   "source": []
  }
 ],
 "metadata": {
  "kernelspec": {
   "display_name": "Python 3 (ipykernel)",
   "language": "python",
   "name": "python3"
  },
  "language_info": {
   "codemirror_mode": {
    "name": "ipython",
    "version": 3
   },
   "file_extension": ".py",
   "mimetype": "text/x-python",
   "name": "python",
   "nbconvert_exporter": "python",
   "pygments_lexer": "ipython3",
   "version": "3.9.13"
  }
 },
 "nbformat": 4,
 "nbformat_minor": 5
}
