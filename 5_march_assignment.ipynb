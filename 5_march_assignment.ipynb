{
 "cells": [
  {
   "cell_type": "markdown",
   "id": "9c7ef4b4",
   "metadata": {},
   "source": [
    "### Q1. How can you create a Bokeh plot using Python code?"
   ]
  },
  {
   "cell_type": "code",
   "execution_count": 2,
   "id": "e94032e7",
   "metadata": {},
   "outputs": [],
   "source": [
    "from bokeh.plotting import figure, output_file, show\n"
   ]
  },
  {
   "cell_type": "code",
   "execution_count": 6,
   "id": "a46ee03f",
   "metadata": {},
   "outputs": [],
   "source": [
    "p = figure(title=\"My Plot\", x_axis_label=\"X Axis\", \n",
    "           y_axis_label=\"Y Axis\", width=400, height=400)\n",
    "p.circle([1, 2, 3, 4, 5], [6, 7, 2, 4, 5], \n",
    "         size=10, color=\"navy\", alpha=0.5)\n",
    "output_file(\"myplot.html\")\n",
    "show(p)\n"
   ]
  },
  {
   "cell_type": "markdown",
   "id": "595e0641",
   "metadata": {},
   "source": [
    "### Q2. What are glyphs in Bokeh, and how can you add them to a Bokeh plot? Explain with an example.\n",
    "\n",
    "In Bokeh, glyphs are visual representations of data that can be added to a plot. Glyphs can be used to create a variety of charts, such as scatter plots, line charts, and bar charts. Bokeh provides a range of glyphs, such as circles, squares, lines, and bars.\n",
    "\n",
    "To add glyphs to a Bokeh plot, you can use the glyph() method of the Figure class. This method takes the data and other parameters as input and returns a glyph renderer. The glyph renderer is responsible for drawing the glyph on the plot."
   ]
  },
  {
   "cell_type": "code",
   "execution_count": 7,
   "id": "5c72d433",
   "metadata": {},
   "outputs": [],
   "source": [
    "from bokeh.plotting import figure, output_file, show\n",
    "from bokeh.models import ColumnDataSource\n",
    "\n",
    "# Create some sample data\n",
    "x = [1, 2, 3, 4, 5]\n",
    "y = [6, 7, 2, 4, 5]\n",
    "\n",
    "# Create a ColumnDataSource object from the data\n",
    "source = ColumnDataSource(data=dict(x=x, y=y))\n",
    "\n",
    "# Create a new plot with a title and axis labels\n",
    "p = figure(title=\"My Plot\", x_axis_label=\"X Axis\", \n",
    "           y_axis_label=\"Y Axis\", width=400, height=400)\n",
    "\n",
    "# Add circles to the plot using the x and y data from the ColumnDataSource\n",
    "p.circle('x', 'y', size=10, source=source)\n",
    "\n",
    "# Save the plot to an HTML file\n",
    "output_file(\"myplot.html\")\n",
    "\n",
    "# Show the plot in a web browser\n",
    "show(p)\n"
   ]
  },
  {
   "cell_type": "markdown",
   "id": "19343fcf",
   "metadata": {},
   "source": [
    "### Q3. How can you customize the appearance of a Bokeh plot, including the axes, title, and legend?"
   ]
  },
  {
   "cell_type": "code",
   "execution_count": 8,
   "id": "338ecf65",
   "metadata": {},
   "outputs": [],
   "source": [
    "# Change the label text and font size of the x-axis\n",
    "p.xaxis.axis_label = \"X Axis Label\"\n",
    "p.xaxis.axis_label_text_font_size = \"14pt\"\n",
    "\n",
    "# Change the label text and font size of the y-axis\n",
    "p.yaxis.axis_label = \"Y Axis Label\"\n",
    "p.yaxis.axis_label_text_font_size = \"14pt\"\n",
    "\n",
    "# Change the tick font size of the x-axis\n",
    "p.xaxis.major_label_text_font_size = \"12pt\"\n",
    "\n",
    "# Change the tick font size of the y-axis\n",
    "p.yaxis.major_label_text_font_size = \"12pt\"\n",
    "\n",
    "# Change the line width of the x-axis\n",
    "p.xaxis.axis_line_width = 2\n",
    "\n",
    "# Change the line width of the y-axis\n",
    "p.yaxis.axis_line_width = 2\n",
    "\n",
    "\n"
   ]
  },
  {
   "cell_type": "code",
   "execution_count": 9,
   "id": "b896a42a",
   "metadata": {},
   "outputs": [],
   "source": [
    "# Change the title text and font size\n",
    "p.title.text = \"My Plot Title\"\n",
    "p.title.text_font_size = \"16pt\"\n",
    "\n",
    "# Change the position of the title\n",
    "p.title.align = \"center\"\n"
   ]
  },
  {
   "cell_type": "code",
   "execution_count": 10,
   "id": "9cfa4c9f",
   "metadata": {},
   "outputs": [
    {
     "name": "stderr",
     "output_type": "stream",
     "text": [
      "E:\\Anaconda\\lib\\site-packages\\bokeh\\models\\plots.py:815: UserWarning: \n",
      "You are attempting to set `plot.legend.location` on a plot that has zero legends added, this will have no effect.\n",
      "\n",
      "Before legend properties can be set, you must add a Legend explicitly, or call a glyph method with a legend parameter set.\n",
      "\n",
      "  warnings.warn(_LEGEND_EMPTY_WARNING % attr)\n",
      "E:\\Anaconda\\lib\\site-packages\\bokeh\\models\\plots.py:815: UserWarning: \n",
      "You are attempting to set `plot.legend.title` on a plot that has zero legends added, this will have no effect.\n",
      "\n",
      "Before legend properties can be set, you must add a Legend explicitly, or call a glyph method with a legend parameter set.\n",
      "\n",
      "  warnings.warn(_LEGEND_EMPTY_WARNING % attr)\n",
      "E:\\Anaconda\\lib\\site-packages\\bokeh\\models\\plots.py:815: UserWarning: \n",
      "You are attempting to set `plot.legend.label_text_font_size` on a plot that has zero legends added, this will have no effect.\n",
      "\n",
      "Before legend properties can be set, you must add a Legend explicitly, or call a glyph method with a legend parameter set.\n",
      "\n",
      "  warnings.warn(_LEGEND_EMPTY_WARNING % attr)\n",
      "E:\\Anaconda\\lib\\site-packages\\bokeh\\models\\plots.py:815: UserWarning: \n",
      "You are attempting to set `plot.legend.background_fill_color` on a plot that has zero legends added, this will have no effect.\n",
      "\n",
      "Before legend properties can be set, you must add a Legend explicitly, or call a glyph method with a legend parameter set.\n",
      "\n",
      "  warnings.warn(_LEGEND_EMPTY_WARNING % attr)\n",
      "E:\\Anaconda\\lib\\site-packages\\bokeh\\models\\plots.py:815: UserWarning: \n",
      "You are attempting to set `plot.legend.border_line_color` on a plot that has zero legends added, this will have no effect.\n",
      "\n",
      "Before legend properties can be set, you must add a Legend explicitly, or call a glyph method with a legend parameter set.\n",
      "\n",
      "  warnings.warn(_LEGEND_EMPTY_WARNING % attr)\n"
     ]
    }
   ],
   "source": [
    "# Show the legend and set its location\n",
    "p.legend.location = \"top_left\"\n",
    "p.legend.title = \"My Legend Title\"\n",
    "\n",
    "# Change the font size of the legend labels\n",
    "p.legend.label_text_font_size = \"12pt\"\n",
    "\n",
    "# Change the background color and border of the legend\n",
    "p.legend.background_fill_color = \"lightgray\"\n",
    "p.legend.border_line_color = \"black\"\n"
   ]
  },
  {
   "cell_type": "code",
   "execution_count": 11,
   "id": "4f382905",
   "metadata": {},
   "outputs": [],
   "source": [
    "show(p)"
   ]
  },
  {
   "cell_type": "markdown",
   "id": "13d56691",
   "metadata": {},
   "source": [
    "### Q4. What is a Bokeh server, and how can you use it to create interactive plots that can be updated in real time?\n",
    "\n",
    "A Bokeh server is a Python process that runs a Bokeh application, allowing the application to create and serve interactive plots that can be updated in real time. The Bokeh server provides a way to create web-based dashboards, data visualization tools, and other interactive applications that allow users to explore and manipulate data.\n",
    "\n",
    "To use the Bokeh server, you first need to define a Bokeh application. A Bokeh application is a Python function that creates a Bokeh plot and defines any interactions or updates that should occur when the plot is interacted with. The function returns a Bokeh layout object, which is a collection of Bokeh plot objects that are displayed together in a web page.\n",
    "\n",
    "Once you have defined your Bokeh application, you can start the Bokeh server and run your application using the `bokeh serve` command. This will start a web server that serves your Bokeh application and allows users to interact with your plot. When the user interacts with the plot, the Bokeh server will update the plot in real time, allowing for a highly interactive and dynamic user experience."
   ]
  },
  {
   "cell_type": "markdown",
   "id": "24f7ae7d",
   "metadata": {},
   "source": [
    "### Q5. How can you embed a Bokeh plot into a web page or dashboard using Flask or Django?\n",
    "\n",
    "Bokeh plots can be easily embedded into web pages or dashboards built with Flask or Django using the components function from the bokeh.embed module. This function generates the necessary HTML and JavaScript code that can be inserted into a template file.\n"
   ]
  },
  {
   "cell_type": "code",
   "execution_count": null,
   "id": "ae0772fb",
   "metadata": {},
   "outputs": [],
   "source": []
  }
 ],
 "metadata": {
  "kernelspec": {
   "display_name": "Python 3 (ipykernel)",
   "language": "python",
   "name": "python3"
  },
  "language_info": {
   "codemirror_mode": {
    "name": "ipython",
    "version": 3
   },
   "file_extension": ".py",
   "mimetype": "text/x-python",
   "name": "python",
   "nbconvert_exporter": "python",
   "pygments_lexer": "ipython3",
   "version": "3.9.13"
  }
 },
 "nbformat": 4,
 "nbformat_minor": 5
}
