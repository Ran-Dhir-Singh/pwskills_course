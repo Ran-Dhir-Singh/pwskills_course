{
 "cells": [
  {
   "cell_type": "markdown",
   "id": "7ba71180",
   "metadata": {},
   "source": [
    "### Q1. What is MongoDB? Explain non-relational databases in short. In which scenarios it is preferred to use MongoDB over SQL databases?\n",
    "\n",
    "MongoDB is a popular document-oriented NoSQL database that stores data in JSON-like documents, providing high performance, scalability, and flexibility. Unlike traditional SQL databases, MongoDB doesn't store data in tables with fixed columns and rows, but instead, it stores data in collections of documents that can have varying structures and fields.\n",
    "\n",
    "Non-relational databases, also known as NoSQL databases, are databases that don't use the traditional relational model for data storage and management. Instead of using tables, they use different models such as document-oriented, key-value, graph-based, and column-family.\n",
    "\n",
    "Non-relational databases are preferred in scenarios where the data is unstructured, complex, or needs to scale horizontally. They are also a good fit for applications that require high availability, low latency, and real-time data processing. Non-relational databases are generally more flexible and can handle a large volume of data compared to SQL databases.\n",
    "\n",
    "MongoDB is preferred over SQL databases in scenarios where:\n",
    "\n",
    "1. The data is unstructured or semi-structured, and there is a need for a flexible data model.\n",
    "\n",
    "2. There is a need for high scalability and performance, especially in write-intensive applications.\n",
    "\n",
    "3. The data is geographically distributed, and there is a need for multi-region replication.\n",
    "\n",
    "4. The application requires real-time data processing and analysis, and there is a need for fast query performance.\n",
    "\n",
    "5. There is a need for a database that can handle large volumes of data and scale horizontally as the data grows."
   ]
  },
  {
   "cell_type": "markdown",
   "id": "156768ae",
   "metadata": {},
   "source": [
    "### Q2. State and Explain the features of MongoDB.\n",
    "\n",
    "MongoDB is a popular NoSQL database that offers a variety of features that make it a preferred choice for developers and organizations. Some of the key features of MongoDB are:\n",
    "\n",
    "\n",
    "\n",
    "1. `Document-Oriented`: MongoDB is a document-oriented database that stores data in JSON-like documents, providing flexibility in data modeling and schema design.\n",
    "\n",
    "2. `Dynamic Schema`: MongoDB allows you to create collections without a predefined schema, making it easy to evolve your data model as your application changes.\n",
    "\n",
    "3. `High Availability`: MongoDB provides automatic failover and replication, ensuring that your data is always available, even in the case of a server failure.\n",
    "\n",
    "4. `Horizontal Scalability`: MongoDB supports sharding, allowing you to distribute your data across multiple servers to handle large volumes of data.\n",
    "\n",
    "5. `Flexible Querying`: MongoDB offers a powerful query language that allows you to perform complex queries on your data, including aggregation, indexing, and geospatial queries.\n",
    "\n",
    "6. `Full-Text Search`: MongoDB provides a built-in full-text search engine that enables text search across multiple fields and collections.\n",
    "\n",
    "7. `Multi-Document ACID Transactions`: MongoDB supports multi-document ACID transactions, ensuring data consistency and integrity across multiple documents.\n",
    "\n",
    "8. `Built-in Aggregation Framework`: MongoDB provides a powerful aggregation framework that allows you to perform complex data analysis and reporting.\n",
    "\n",
    "9. `Cloud Integration`: MongoDB offers native integration with popular cloud platforms like AWS, Azure, and Google Cloud Platform, making it easy to deploy and manage MongoDB in the cloud.\n",
    "\n",
    "10. `Community Support`: MongoDB has a large and active community of developers, providing extensive documentation, tutorials, and support to help you get started with MongoDB."
   ]
  },
  {
   "cell_type": "markdown",
   "id": "40e995bb",
   "metadata": {},
   "source": [
    "### Q3. Write a code to connect MongoDB to Python. Also, create a database and a collection in MongoDB."
   ]
  },
  {
   "cell_type": "code",
   "execution_count": null,
   "id": "2992654d",
   "metadata": {},
   "outputs": [],
   "source": [
    "import pymongo\n",
    "\n",
    "# establish a connection to the database\n",
    "client = pymongo.MongoClient('mongodb://localhost:27017/')\n",
    "\n",
    "# create a new database\n",
    "mydb = client['mydatabase']\n",
    "\n",
    "# create a new collection\n",
    "mycol = mydb['customers']\n",
    "\n",
    "# add a document to the collection\n",
    "mydict = { \"name\": \"John\", \"address\": \"Highway 37\" }\n",
    "x = mycol.insert_one(mydict)\n",
    "\n",
    "# print the id of the inserted document\n",
    "print(x.inserted_id)\n"
   ]
  },
  {
   "cell_type": "markdown",
   "id": "524fbc38",
   "metadata": {},
   "source": [
    "### Q4. Using the database and the collection created in question number 3, write a code to insert one record, and insert many records. Use the find() and find_one() methods to print the inserted record."
   ]
  },
  {
   "cell_type": "code",
   "execution_count": null,
   "id": "3dcb343f",
   "metadata": {},
   "outputs": [],
   "source": [
    "import pymongo\n",
    "\n",
    "# establish a connection to the database\n",
    "client = pymongo.MongoClient('mongodb://localhost:27017/')\n",
    "\n",
    "# create a new database\n",
    "mydb = client['mydatabase']\n",
    "\n",
    "# create a new collection\n",
    "mycol = mydb['customers']\n",
    "\n",
    "# insert one record\n",
    "mydict1 = { \"name\": \"Alice\", \"address\": \"123 Main St\", \"age\": 25 }\n",
    "x = mycol.insert_one(mydict1)\n",
    "\n",
    "# insert many records\n",
    "mylist = [\n",
    "  { \"name\": \"Bob\", \"address\": \"456 Park Ave\", \"age\": 30 },\n",
    "  { \"name\": \"Charlie\", \"address\": \"789 Elm St\", \"age\": 35 },\n",
    "  { \"name\": \"David\", \"address\": \"111 Oak St\", \"age\": 40 }\n",
    "]\n",
    "y = mycol.insert_many(mylist)\n",
    "\n",
    "# print the inserted record using find_one()\n",
    "print(mycol.find_one({\"name\": \"Alice\"}))\n",
    "\n",
    "# print all the inserted records using find()\n",
    "for x in mycol.find():\n",
    "    print(x)\n"
   ]
  },
  {
   "cell_type": "markdown",
   "id": "4b4b6d73",
   "metadata": {},
   "source": [
    "### Q5. Explain how you can use the find() method to query the MongoDB database. Write a simple code to demonstrate this.\n",
    "\n",
    "The `find()` method in MongoDB is used to query the database and retrieve documents that match the specified query criteria. The find() method returns a cursor that can be used to iterate over the matching documents."
   ]
  },
  {
   "cell_type": "code",
   "execution_count": null,
   "id": "332bd0de",
   "metadata": {},
   "outputs": [],
   "source": [
    "import pymongo\n",
    "\n",
    "# establish a connection to the database\n",
    "client = pymongo.MongoClient('mongodb://localhost:27017/')\n",
    "\n",
    "# create a new database\n",
    "mydb = client['mydatabase']\n",
    "\n",
    "# create a new collection\n",
    "mycol = mydb['customers']\n",
    "\n",
    "# query the database using find()\n",
    "myquery = { \"address\": \"123 Main St\" }\n",
    "mydoc = mycol.find(myquery)\n",
    "\n",
    "# print the matching documents\n",
    "for x in mydoc:\n",
    "    print(x)\n"
   ]
  },
  {
   "cell_type": "markdown",
   "id": "59cd1e1e",
   "metadata": {},
   "source": [
    "### Q6. Explain the sort() method. Give an example to demonstrate sorting in MongoDB.\n",
    "\n",
    "The `sort()` method in MongoDB is used to sort the documents in a collection based on one or more fields. The sort() method can be used to sort documents in ascending or descending order, and it can be used with the find() method to query the collection and retrieve the sorted documents.\n",
    "\n",
    "The `sort()` method takes a document as a parameter that specifies the fields to sort by and the order of the sorting. The keys in the sort document correspond to the fields in the collection, and the values can be either 1 for ascending order or -1 for descending order."
   ]
  },
  {
   "cell_type": "code",
   "execution_count": null,
   "id": "6a6f7e88",
   "metadata": {},
   "outputs": [],
   "source": [
    "\n",
    "import pymongo\n",
    "\n",
    "# establish a connection to the database\n",
    "client = pymongo.MongoClient('mongodb://localhost:27017/')\n",
    "\n",
    "# create a new database\n",
    "mydb = client['mydatabase']\n",
    "\n",
    "# create a new collection\n",
    "mycol = mydb['customers']\n",
    "\n",
    "# insert some sample data\n",
    "mylist = [\n",
    "  { \"name\": \"Alice\", \"address\": \"123 Main St\", \"age\": 25 },\n",
    "  { \"name\": \"Bob\", \"address\": \"456 Park Ave\", \"age\": 30 },\n",
    "  { \"name\": \"Charlie\", \"address\": \"789 Elm St\", \"age\": 35 },\n",
    "  { \"name\": \"David\", \"address\": \"111 Oak St\", \"age\": 40 }\n",
    "]\n",
    "mycol.insert_many(mylist)\n",
    "\n",
    "# sort the documents in the collection by age in descending order\n",
    "mydoc = mycol.find().sort(\"age\", -1)\n",
    "\n",
    "# print the sorted documents\n",
    "for x in mydoc:\n",
    "    print(x)"
   ]
  },
  {
   "cell_type": "markdown",
   "id": "3e68c248",
   "metadata": {},
   "source": [
    "### Q7. Explain why delete_one(), delete_many(), and drop() is used.\n",
    "\n",
    "`delete_one()` method: This method is used to delete a single document from a collection that matches the specified criteria. If there are multiple documents that match the criteria, only the first matching document will be deleted. If no matching documents are found, the method will do nothing.\n",
    "\n",
    "`delete_many()` method: This method is used to delete all the documents from a collection that match the specified criteria. If there are no documents that match the criteria, the method will do nothing.\n",
    "\n",
    "`drop()` method: This method is used to drop or delete an entire collection from a database. Once a collection is dropped, it cannot be recovered, so this method should be used with caution."
   ]
  },
  {
   "cell_type": "code",
   "execution_count": null,
   "id": "3050e82d",
   "metadata": {},
   "outputs": [],
   "source": []
  }
 ],
 "metadata": {
  "kernelspec": {
   "display_name": "Python 3 (ipykernel)",
   "language": "python",
   "name": "python3"
  },
  "language_info": {
   "codemirror_mode": {
    "name": "ipython",
    "version": 3
   },
   "file_extension": ".py",
   "mimetype": "text/x-python",
   "name": "python",
   "nbconvert_exporter": "python",
   "pygments_lexer": "ipython3",
   "version": "3.9.13"
  }
 },
 "nbformat": 4,
 "nbformat_minor": 5
}
