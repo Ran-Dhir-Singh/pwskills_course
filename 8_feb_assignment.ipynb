{
 "cells": [
  {
   "cell_type": "markdown",
   "id": "29034188",
   "metadata": {},
   "source": [
    "### Q1, Create a vehicle class with an init method having instance variables as name_of_vehicle, max_speed and average_of_vehicle."
   ]
  },
  {
   "cell_type": "code",
   "execution_count": 2,
   "id": "5b53087b",
   "metadata": {},
   "outputs": [
    {
     "name": "stdout",
     "output_type": "stream",
     "text": [
      "name : Tata \n",
      "max speed : 160\n",
      "average of vehicle : 20\n"
     ]
    }
   ],
   "source": [
    "class vehicle:\n",
    "    def __init__(self,name_of_vehicle,max_speed,average_of_vehicle):\n",
    "        self.name_of_vehicle = name_of_vehicle\n",
    "        self.max_speed = max_speed\n",
    "        self.average_of_vehicle = average_of_vehicle\n",
    "        \n",
    "vehicle_1 = vehicle(\"Tata\",160,20)\n",
    "print(f\"name : {vehicle_1.name_of_vehicle} \\nmax speed : {vehicle_1.max_speed}\\naverage of vehicle : {vehicle_1.average_of_vehicle}\")"
   ]
  },
  {
   "cell_type": "markdown",
   "id": "8a4b23d8",
   "metadata": {},
   "source": [
    "### Q2. Create a child class car from the vehicle class created in Que 1, which will inherit the vehicle class. Create a method named seating_capacity which takes capacity as an argument and returns the name of the vehicle and its seating capacity."
   ]
  },
  {
   "cell_type": "code",
   "execution_count": 5,
   "id": "ee5bc79c",
   "metadata": {},
   "outputs": [],
   "source": [
    "class car(vehicle):\n",
    "    def __init__(self,name_of_vehicle,max_speed,average_of_vehicle):\n",
    "        super().__init__(name_of_vehicle,max_speed,average_of_vehicle)\n",
    "\n",
    "    def seating_capacity(self, capacity):\n",
    "        self.capacity = capacity\n",
    "        return self.name_of_vehicle, self.capacity\n",
    "        \n",
    "car_1 = car(\"Tata\",160,20)"
   ]
  },
  {
   "cell_type": "code",
   "execution_count": 6,
   "id": "31c35eb6",
   "metadata": {},
   "outputs": [
    {
     "name": "stdout",
     "output_type": "stream",
     "text": [
      "('Tata', 4)\n"
     ]
    }
   ],
   "source": [
    "print(car_1.seating_capacity(4))"
   ]
  },
  {
   "cell_type": "markdown",
   "id": "80d49672",
   "metadata": {},
   "source": [
    "### Q3. What is multiple inheritance? Write a python code to demonstrate multiple inheritance.\n",
    "\n",
    "Multiple Inheritance - When child class inherits from multiple parent classes. The child class can have multiple parent classes in Multiple inheritance."
   ]
  },
  {
   "cell_type": "code",
   "execution_count": 7,
   "id": "bbdf2d7b",
   "metadata": {},
   "outputs": [
    {
     "name": "stdout",
     "output_type": "stream",
     "text": [
      "Fido is a warm-blooded animal.\n",
      "I am a dog and my name is Fido\n",
      "I feed my young with milk.\n"
     ]
    }
   ],
   "source": [
    "class Animal:\n",
    "    def __init__(self, name):\n",
    "        self.name = name\n",
    "\n",
    "    def speak(self):\n",
    "        print(\"I am an animal\")\n",
    "\n",
    "class Mammal:\n",
    "    def __init__(self, mammal_name):\n",
    "        print(mammal_name, \"is a warm-blooded animal.\")\n",
    "    \n",
    "    def feed_young_with_milk(self):\n",
    "        print(\"I feed my young with milk.\")\n",
    "\n",
    "class Dog(Animal, Mammal):\n",
    "    def __init__(self, name):\n",
    "        Animal.__init__(self, name)\n",
    "        Mammal.__init__(self, name)\n",
    "\n",
    "    def speak(self):\n",
    "        print(\"I am a dog and my name is\", self.name)\n",
    "\n",
    "my_dog = Dog(\"Fido\")\n",
    "my_dog.speak()\n",
    "my_dog.feed_young_with_milk()\n"
   ]
  },
  {
   "cell_type": "markdown",
   "id": "bcc1b476",
   "metadata": {},
   "source": [
    "### Q4. What are getter and setter in python? Create a class and create a getter and a setter method in this class\n",
    "\n",
    "In Python, getter and setter methods are used to access and modify the value of an instance variable of a class, respectively. Getter methods provide access to instance variables and return their values, while setter methods allow us to modify the value of an instance variable."
   ]
  },
  {
   "cell_type": "code",
   "execution_count": 8,
   "id": "eb0938d2",
   "metadata": {},
   "outputs": [],
   "source": [
    "class Person:\n",
    "    def __init__(self, name, age):\n",
    "        self._name = name\n",
    "        self._age = age\n",
    "\n",
    "    def get_name(self):\n",
    "        return self._name\n",
    "\n",
    "    def set_name(self, name):\n",
    "        self._name = name\n",
    "\n",
    "    def get_age(self):\n",
    "        return self._age\n",
    "\n",
    "    def set_age(self, age):\n",
    "        self._age = age\n"
   ]
  },
  {
   "cell_type": "code",
   "execution_count": 9,
   "id": "10da89dd",
   "metadata": {},
   "outputs": [
    {
     "name": "stdout",
     "output_type": "stream",
     "text": [
      "Alice\n",
      "30\n",
      "Bob\n",
      "40\n"
     ]
    }
   ],
   "source": [
    "person = Person(\"Alice\", 30)\n",
    "\n",
    "# Accessing instance variables using getters\n",
    "print(person.get_name()) \n",
    "print(person.get_age())  \n",
    "\n",
    "# Modifying instance variables using setters\n",
    "person.set_name(\"Bob\")\n",
    "person.set_age(40)\n",
    "\n",
    "# Accessing modified instance variables using getters\n",
    "print(person.get_name())  # Output: Bob\n",
    "print(person.get_age())"
   ]
  },
  {
   "cell_type": "markdown",
   "id": "5dcdd406",
   "metadata": {},
   "source": [
    "### Q5.What is method overriding in python? Write a python code to demonstrate method overriding.\n",
    "\n",
    "Method overriding is a feature of object-oriented programming that allows a subclass to provide a different implementation of a method that is already defined in its superclass. This is useful when we want to change the behavior of a method inherited from a superclass, without changing its name or signature."
   ]
  },
  {
   "cell_type": "code",
   "execution_count": 10,
   "id": "df7ce250",
   "metadata": {},
   "outputs": [
    {
     "name": "stdout",
     "output_type": "stream",
     "text": [
      "I am a dog\n",
      "I am a cat\n"
     ]
    }
   ],
   "source": [
    "class Animal:\n",
    "    def speak(self):\n",
    "        print(\"I am an animal\")\n",
    "\n",
    "class Dog(Animal):\n",
    "    def speak(self):\n",
    "        print(\"I am a dog\")\n",
    "\n",
    "class Cat(Animal):\n",
    "    def speak(self):\n",
    "        print(\"I am a cat\")\n",
    "\n",
    "# Create instances of Dog and Cat\n",
    "dog = Dog()\n",
    "cat = Cat()\n",
    "\n",
    "# Call speak method of Dog and Cat\n",
    "dog.speak()  # Output: I am a dog\n",
    "cat.speak()  # Output: I am a cat\n"
   ]
  },
  {
   "cell_type": "code",
   "execution_count": null,
   "id": "4d74d02d",
   "metadata": {},
   "outputs": [],
   "source": []
  }
 ],
 "metadata": {
  "kernelspec": {
   "display_name": "Python 3 (ipykernel)",
   "language": "python",
   "name": "python3"
  },
  "language_info": {
   "codemirror_mode": {
    "name": "ipython",
    "version": 3
   },
   "file_extension": ".py",
   "mimetype": "text/x-python",
   "name": "python",
   "nbconvert_exporter": "python",
   "pygments_lexer": "ipython3",
   "version": "3.9.13"
  }
 },
 "nbformat": 4,
 "nbformat_minor": 5
}
